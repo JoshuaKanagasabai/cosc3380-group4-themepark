{
    "metadata": {
        "kernelspec": {
            "name": "SQL",
            "display_name": "SQL",
            "language": "sql"
        },
        "language_info": {
            "name": "sql",
            "version": ""
        }
    },
    "nbformat_minor": 2,
    "nbformat": 4,
    "cells": [
        {
            "cell_type": "code",
            "source": [
                "select*from[Theme_Park].[Employee]"
            ],
            "metadata": {
                "azdata_cell_guid": "50411f1f-9991-45f4-936a-ea34c048049b",
                "language": "sql"
            },
            "outputs": [
                {
                    "output_type": "display_data",
                    "data": {
                        "text/html": "(2 rows affected)"
                    },
                    "metadata": {}
                },
                {
                    "output_type": "display_data",
                    "data": {
                        "text/html": "Total execution time: 00:00:04.374"
                    },
                    "metadata": {}
                },
                {
                    "output_type": "execute_result",
                    "metadata": {},
                    "execution_count": 2,
                    "data": {
                        "application/vnd.dataresource+json": {
                            "schema": {
                                "fields": [
                                    {
                                        "name": "fname"
                                    },
                                    {
                                        "name": "lname"
                                    },
                                    {
                                        "name": "ssn"
                                    },
                                    {
                                        "name": "gender"
                                    },
                                    {
                                        "name": "address"
                                    },
                                    {
                                        "name": "phone"
                                    },
                                    {
                                        "name": "date_joined"
                                    },
                                    {
                                        "name": "dept_id"
                                    },
                                    {
                                        "name": "role"
                                    },
                                    {
                                        "name": "supervisor_ssn"
                                    },
                                    {
                                        "name": "salaried"
                                    },
                                    {
                                        "name": "payrate"
                                    },
                                    {
                                        "name": "vacation_days"
                                    }
                                ]
                            },
                            "data": [
                                {
                                    "0": "paul",
                                    "1": "george",
                                    "2": "666666666",
                                    "3": "F",
                                    "4": "main",
                                    "5": "5125125125",
                                    "6": "2022-10-11",
                                    "7": "3",
                                    "8": "operator",
                                    "9": "NULL",
                                    "10": "1",
                                    "11": "10000000.00",
                                    "12": "0.00"
                                },
                                {
                                    "0": "Phillip",
                                    "1": "Sudario",
                                    "2": "987654321",
                                    "3": "M",
                                    "4": "4800 Calhoun Rd",
                                    "5": "7137432255",
                                    "6": "2022-11-03",
                                    "7": "3",
                                    "8": "NULL",
                                    "9": "NULL",
                                    "10": "0",
                                    "11": "12.00",
                                    "12": "NULL"
                                }
                            ]
                        },
                        "text/html": [
                            "<table>",
                            "<tr><th>fname</th><th>lname</th><th>ssn</th><th>gender</th><th>address</th><th>phone</th><th>date_joined</th><th>dept_id</th><th>role</th><th>supervisor_ssn</th><th>salaried</th><th>payrate</th><th>vacation_days</th></tr>",
                            "<tr><td>paul</td><td>george</td><td>666666666</td><td>F</td><td>main</td><td>5125125125</td><td>2022-10-11</td><td>3</td><td>operator</td><td>NULL</td><td>1</td><td>10000000.00</td><td>0.00</td></tr>",
                            "<tr><td>Phillip</td><td>Sudario</td><td>987654321</td><td>M</td><td>4800 Calhoun Rd</td><td>7137432255</td><td>2022-11-03</td><td>3</td><td>NULL</td><td>NULL</td><td>0</td><td>12.00</td><td>NULL</td></tr>",
                            "</table>"
                        ]
                    }
                }
            ],
            "execution_count": 2
        },
        {
            "cell_type": "code",
            "source": [
                "exec [Theme_Park].[Proc_Add_Employee] 'paul', 'george', 666666666, 'F', main, 5125125125, '2022-10-11', 3, 'operator', null, 1, 10000000, 0"
            ],
            "metadata": {
                "azdata_cell_guid": "6280afba-a22c-4dfc-801f-4fadb57dc175",
                "language": "sql"
            },
            "outputs": [
                {
                    "output_type": "error",
                    "ename": "",
                    "evalue": "Msg 2627, Level 14, State 1, Procedure Theme_Park.Proc_Add_Employee, Line 16\nViolation of PRIMARY KEY constraint 'PK_Employee'. Cannot insert duplicate key in object 'Theme_Park.Employee'. The duplicate key value is (666666666).",
                    "traceback": []
                },
                {
                    "output_type": "display_data",
                    "data": {
                        "text/html": "The statement has been terminated."
                    },
                    "metadata": {}
                },
                {
                    "output_type": "display_data",
                    "data": {
                        "text/html": "Total execution time: 00:00:00.053"
                    },
                    "metadata": {}
                }
            ],
            "execution_count": 9
        }
    ]
}