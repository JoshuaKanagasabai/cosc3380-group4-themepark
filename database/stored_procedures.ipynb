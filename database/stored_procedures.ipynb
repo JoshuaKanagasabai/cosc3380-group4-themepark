{
    "metadata": {
        "kernelspec": {
            "name": "SQL",
            "display_name": "SQL",
            "language": "sql"
        },
        "language_info": {
            "name": "sql",
            "version": ""
        }
    },
    "nbformat_minor": 2,
    "nbformat": 4,
    "cells": [
        {
            "cell_type": "markdown",
            "source": [
                "# Stored Procedure definitions:"
            ],
            "metadata": {
                "azdata_cell_guid": "10a9e241-7782-4c38-829b-c5fa92d5ca50"
            },
            "attachments": {}
        },
        {
            "cell_type": "markdown",
            "source": [
                "## HR Role\n",
                "\n",
                "- Proc_Add_Employee: Adds an employee to the database"
            ],
            "metadata": {
                "azdata_cell_guid": "13a0e6c4-4879-4b3e-b7ee-7e784482193a"
            },
            "attachments": {}
        },
        {
            "cell_type": "code",
            "source": [
                "drop proc [Theme_Park].[Proc_Add_Employee]\n",
                "go\n",
                "create proc [Theme_Park].[Proc_Add_Employee]\n",
                "    @fname varchar(20),\n",
                "    @lname varchar(20),\n",
                "    @ssn numeric(9,0),\n",
                "    @gender char,\n",
                "    @address varchar(50),\n",
                "    @phone numeric(10,0),\n",
                "    @date_joined date,\n",
                "    @dept_id int,\n",
                "    @role varchar(20),\n",
                "    @supervisor_ssn numeric(9,0),\n",
                "    @salaried bit,\n",
                "    @payrate money,\n",
                "    @vacation_days decimal(4,2)\n",
                "AS\n",
                "    INSERT INTO [Theme_Park].[Employee]\n",
                "    VALUES\n",
                "    ( @fname, @lname, @ssn, @gender, @address, @phone, @date_joined, @dept_id, @role, @supervisor_ssn, @salaried, @payrate, @vacation_days );\n",
                "GO"
            ],
            "metadata": {
                "azdata_cell_guid": "a619f5ce-0d92-4062-b75e-f4269ad69bed",
                "language": "sql"
            },
            "outputs": [
                {
                    "output_type": "display_data",
                    "data": {
                        "text/html": "Commands completed successfully."
                    },
                    "metadata": {}
                },
                {
                    "output_type": "display_data",
                    "data": {
                        "text/html": "Commands completed successfully."
                    },
                    "metadata": {}
                },
                {
                    "output_type": "display_data",
                    "data": {
                        "text/html": "Total execution time: 00:00:00.284"
                    },
                    "metadata": {}
                }
            ],
            "execution_count": 6
        },
        {
            "cell_type": "code",
            "source": [
                "exec [Theme_Park].[Proc_Add_Employee] 'Kimmy', 'Schmidt', 177889999, 'F', 'Middletown, OH', 01117777, '2022-10-24', 0, 'Heroine', 177889999, 0, 17.15, 0\n",
                "go"
            ],
            "metadata": {
                "language": "sql",
                "azdata_cell_guid": "a92e7f58-17da-4c00-833d-eecaf1c79a2a"
            },
            "outputs": [
                {
                    "output_type": "display_data",
                    "data": {
                        "text/html": "(1 row affected)"
                    },
                    "metadata": {}
                },
                {
                    "output_type": "display_data",
                    "data": {
                        "text/html": "Total execution time: 00:00:00.063"
                    },
                    "metadata": {}
                }
            ],
            "execution_count": 8
        }
    ]
}