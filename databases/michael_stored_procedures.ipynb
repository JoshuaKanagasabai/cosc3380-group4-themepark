{
    "metadata": {
        "kernelspec": {
            "name": "SQL",
            "display_name": "SQL",
            "language": "sql"
        },
        "language_info": {
            "name": "sql",
            "version": ""
        }
    },
    "nbformat_minor": 2,
    "nbformat": 4,
    "cells": [
        {
            "cell_type": "markdown",
            "source": [
                "# Stored Procedure definitions:"
            ],
            "metadata": {
                "azdata_cell_guid": "10a9e241-7782-4c38-829b-c5fa92d5ca50"
            },
            "attachments": {}
        },
        {
            "cell_type": "markdown",
            "source": [
                "## HR Role\n",
                "\n",
                "- Proc_Add_Employee: Adds an employee to the database"
            ],
            "metadata": {
                "azdata_cell_guid": "13a0e6c4-4879-4b3e-b7ee-7e784482193a"
            },
            "attachments": {}
        },
        {
            "cell_type": "code",
            "source": [
                "drop proc [Theme_Park].[Proc_Add_Employee]\n",
                "go\n",
                "create proc [Theme_Park].[Proc_Add_Employee]\n",
                "    @fname varchar(20),\n",
                "    @lname varchar(20),\n",
                "    @ssn numeric(9,0),\n",
                "    @gender char,\n",
                "    @address varchar(50),\n",
                "    @phone numeric(10,0),\n",
                "    @date_joined date,\n",
                "    @dept_id int,\n",
                "    @role varchar(20),\n",
                "    @supervisor_ssn numeric(9,0),\n",
                "    @salaried bit,\n",
                "    @payrate money,\n",
                "    @vacation_days decimal(4,2)\n",
                "AS\n",
                "    INSERT INTO [Theme_Park].[Employee]\n",
                "    VALUES\n",
                "    ( @fname, @lname, @ssn, @gender, @address, @phone, @date_joined, @dept_id, @role, @supervisor_ssn, @salaried, @payrate, @vacation_days );\n",
                "GO"
            ],
            "metadata": {
                "azdata_cell_guid": "a619f5ce-0d92-4062-b75e-f4269ad69bed",
                "language": "sql"
            },
            "outputs": [
                {
                    "output_type": "display_data",
                    "data": {
                        "text/html": "Commands completed successfully."
                    },
                    "metadata": {}
                },
                {
                    "output_type": "display_data",
                    "data": {
                        "text/html": "Commands completed successfully."
                    },
                    "metadata": {}
                },
                {
                    "output_type": "display_data",
                    "data": {
                        "text/html": "Total execution time: 00:00:00.184"
                    },
                    "metadata": {}
                }
            ],
            "execution_count": 1
        },
        {
            "cell_type": "code",
            "source": [
                "exec [Theme_Park].[Proc_Add_Employee] 'Kimmy', 'Schmidt', 177889999, 'F', 'Middletown, OH', 01117777, '2022-10-24', 0, 'Heroine', 177889999, 0, 17.15, 0\n",
                "go"
            ],
            "metadata": {
                "language": "sql",
                "azdata_cell_guid": "a92e7f58-17da-4c00-833d-eecaf1c79a2a"
            },
            "outputs": [
                {
                    "output_type": "display_data",
                    "data": {
                        "text/html": "(1 row affected)"
                    },
                    "metadata": {}
                },
                {
                    "output_type": "display_data",
                    "data": {
                        "text/html": "Total execution time: 00:00:00.063"
                    },
                    "metadata": {}
                }
            ],
            "execution_count": 8
        },
        {
            "cell_type": "markdown",
            "source": [
                "## Customer entity\n",
                "\n",
                "PROC_CUSTOMER_BUY_TICKET: adds a new ticket purchase to the database"
            ],
            "metadata": {
                "azdata_cell_guid": "5efd71fc-bff0-454b-a58f-167e9d8fa5a6"
            },
            "attachments": {}
        },
        {
            "cell_type": "code",
            "source": [
                "drop proc [Theme_Park].[Proc_Customer_Buy_Ticket]\n",
                "go\n",
                "create proc [Theme_Park].[Proc_Customer_Buy_Ticket]\n",
                "    @date datetime,\n",
                "    @class varchar(10),\n",
                "    @price decimal(5,2)\n",
                "AS\n",
                "    INSERT INTO [Theme_Park].[Ticket] (Date, Ticket_Class, Price, Reservation)\n",
                "    VALUES\n",
                "    (@date, @class, @price, NULL)\n",
                "GO"
            ],
            "metadata": {
                "azdata_cell_guid": "520cf474-8f20-41ca-9478-63a65c0e8548",
                "language": "sql",
                "tags": []
            },
            "outputs": [
                {
                    "output_type": "display_data",
                    "data": {
                        "text/html": "Commands completed successfully."
                    },
                    "metadata": {}
                },
                {
                    "output_type": "display_data",
                    "data": {
                        "text/html": "Commands completed successfully."
                    },
                    "metadata": {}
                },
                {
                    "output_type": "display_data",
                    "data": {
                        "text/html": "Total execution time: 00:00:00.129"
                    },
                    "metadata": {}
                }
            ],
            "execution_count": 1
        },
        {
            "cell_type": "code",
            "source": [
                "exec [Theme_Park].[Proc_Customer_Buy_Ticket] '2022-10-22', 'Poor', 11.50\n",
                "go"
            ],
            "metadata": {
                "language": "sql",
                "azdata_cell_guid": "dd347e3a-4f02-4fc3-b0b7-ddcb8bb945bf"
            },
            "outputs": [
                {
                    "output_type": "display_data",
                    "data": {
                        "text/html": "(1 row affected)"
                    },
                    "metadata": {}
                },
                {
                    "output_type": "display_data",
                    "data": {
                        "text/html": "Total execution time: 00:00:00.534"
                    },
                    "metadata": {}
                }
            ],
            "execution_count": 2
        },
        {
            "cell_type": "markdown",
            "source": [
                "PROC_CUSTOMER_BUY_RESERVATION: buy a new ticket reservation"
            ],
            "metadata": {
                "azdata_cell_guid": "ea36b7ba-d5c0-4da8-9581-11fbbc345515"
            },
            "attachments": {}
        },
        {
            "cell_type": "code",
            "source": [
                "drop proc [Theme_Park].[Proc_Customer_Buy_Reservations]\n",
                "GO\n",
                "create proc [Theme_Park].[Proc_Customer_Buy_Reservations]\n",
                "    @customer_id int,\n",
                "    @FirstName varchar(25),\n",
                "    @LastName varchar(25),\n",
                "    @Date_of_Visit datetime,\n",
                "    @Credit_Card_Number bigint,\n",
                "    @Ticket_Class varchar(10)\n",
                "AS\n",
                "    declare @Price decimal(5,2) =\n",
                "    (select case @Ticket_Class\n",
                "    when 'Poor' then 11.50\n",
                "    when 'Premium' then 16.00\n",
                "    else 13.00\n",
                "    end)\n",
                "    insert into [Theme_Park].[Ticket_Reservation]\n",
                "    (Customer_ID, FirstName, LastName, Date_Placed, Date_of_Visit, Credit_Card_Number, Ticket_Class, Expired, Price, Ticket_ID)\n",
                "    values\n",
                "    (@customer_id, @FirstName, @LastName, GETDATE(), @Date_of_Visit, @Credit_Card_Number, @Ticket_Class, 0, @Price, null)\n",
                "go"
            ],
            "metadata": {
                "azdata_cell_guid": "fdea1c44-a5db-4e04-86bd-64fbcc8bfbd0",
                "language": "sql"
            },
            "outputs": [
                {
                    "output_type": "display_data",
                    "data": {
                        "text/html": "Commands completed successfully."
                    },
                    "metadata": {}
                },
                {
                    "output_type": "display_data",
                    "data": {
                        "text/html": "Commands completed successfully."
                    },
                    "metadata": {}
                },
                {
                    "output_type": "display_data",
                    "data": {
                        "text/html": "Total execution time: 00:00:00.149"
                    },
                    "metadata": {}
                }
            ],
            "execution_count": 3
        },
        {
            "cell_type": "code",
            "source": [
                "select * from [Theme_Park].[Ticket_Reservation]"
            ],
            "metadata": {
                "azdata_cell_guid": "dbd11b30-61d1-4f25-86ba-0aba620c99fa",
                "language": "sql"
            },
            "outputs": [
                {
                    "output_type": "display_data",
                    "data": {
                        "text/html": "(3 rows affected)"
                    },
                    "metadata": {}
                },
                {
                    "output_type": "display_data",
                    "data": {
                        "text/html": "Total execution time: 00:00:00.346"
                    },
                    "metadata": {}
                },
                {
                    "output_type": "execute_result",
                    "metadata": {},
                    "execution_count": 4,
                    "data": {
                        "application/vnd.dataresource+json": {
                            "schema": {
                                "fields": [
                                    {
                                        "name": "Reservation_ID"
                                    },
                                    {
                                        "name": "Customer_ID"
                                    },
                                    {
                                        "name": "FirstName"
                                    },
                                    {
                                        "name": "LastName"
                                    },
                                    {
                                        "name": "Date_Placed"
                                    },
                                    {
                                        "name": "Date_of_Visit"
                                    },
                                    {
                                        "name": "Credit_Card_Number"
                                    },
                                    {
                                        "name": "Ticket_Class"
                                    },
                                    {
                                        "name": "Expired"
                                    },
                                    {
                                        "name": "Price"
                                    },
                                    {
                                        "name": "Ticket_ID"
                                    }
                                ]
                            },
                            "data": [
                                {
                                    "0": "1",
                                    "1": "1",
                                    "2": "Karen",
                                    "3": "Strong",
                                    "4": "2022-11-10 19:14:26.970",
                                    "5": "2022-12-25 00:00:00.000",
                                    "6": "111",
                                    "7": "Premium",
                                    "8": "0",
                                    "9": "11.50",
                                    "10": "NULL"
                                },
                                {
                                    "0": "2",
                                    "1": "1",
                                    "2": "Michael",
                                    "3": "Moorman",
                                    "4": "2022-11-10 21:01:31.230",
                                    "5": "2022-11-11 00:00:00.000",
                                    "6": "4266841488253319",
                                    "7": "Poor",
                                    "8": "0",
                                    "9": "11.50",
                                    "10": "NULL"
                                },
                                {
                                    "0": "3",
                                    "1": "1",
                                    "2": "Michael",
                                    "3": "Moorman",
                                    "4": "2022-11-10 21:14:15.067",
                                    "5": "2022-11-11 00:00:00.000",
                                    "6": "4266841488253319",
                                    "7": "Premium",
                                    "8": "0",
                                    "9": "16.00",
                                    "10": "NULL"
                                }
                            ]
                        },
                        "text/html": [
                            "<table>",
                            "<tr><th>Reservation_ID</th><th>Customer_ID</th><th>FirstName</th><th>LastName</th><th>Date_Placed</th><th>Date_of_Visit</th><th>Credit_Card_Number</th><th>Ticket_Class</th><th>Expired</th><th>Price</th><th>Ticket_ID</th></tr>",
                            "<tr><td>1</td><td>1</td><td>Karen</td><td>Strong</td><td>2022-11-10 19:14:26.970</td><td>2022-12-25 00:00:00.000</td><td>111</td><td>Premium</td><td>0</td><td>11.50</td><td>NULL</td></tr>",
                            "<tr><td>2</td><td>1</td><td>Michael</td><td>Moorman</td><td>2022-11-10 21:01:31.230</td><td>2022-11-11 00:00:00.000</td><td>4266841488253319</td><td>Poor</td><td>0</td><td>11.50</td><td>NULL</td></tr>",
                            "<tr><td>3</td><td>1</td><td>Michael</td><td>Moorman</td><td>2022-11-10 21:14:15.067</td><td>2022-11-11 00:00:00.000</td><td>4266841488253319</td><td>Premium</td><td>0</td><td>16.00</td><td>NULL</td></tr>",
                            "</table>"
                        ]
                    }
                }
            ],
            "execution_count": 4
        },
        {
            "cell_type": "markdown",
            "source": [
                "PROC_CUSTOMER_GET_CURRENT_RESERVATIONS: lists all current reservations"
            ],
            "metadata": {
                "azdata_cell_guid": "2117c6fd-2731-4aef-a228-41589239a671"
            },
            "attachments": {}
        },
        {
            "cell_type": "code",
            "source": [
                "drop proc [Theme_Park].[Proc_Customer_Get_Current_Reservations]\n",
                "GO\n",
                "create proc [Theme_Park].[Proc_Customer_Get_Current_Reservations]\n",
                "    @customer_id int\n",
                "AS\n",
                "    select Reservation_ID, Date_Placed, Date_of_Visit, Ticket_Class, Price, Ticket_ID, FirstName, LastName\n",
                "    from [Theme_Park].[Ticket_Reservation]\n",
                "    where Customer_ID=@customer_id\n",
                "    and Date_of_Visit >= GETDATE()\n",
                "    order by Date_Placed asc\n",
                "go"
            ],
            "metadata": {
                "azdata_cell_guid": "a142df85-6b21-4608-9efa-3da4d52c5e99",
                "language": "sql",
                "tags": []
            },
            "outputs": [
                {
                    "output_type": "display_data",
                    "data": {
                        "text/html": "Commands completed successfully."
                    },
                    "metadata": {}
                },
                {
                    "output_type": "display_data",
                    "data": {
                        "text/html": "Commands completed successfully."
                    },
                    "metadata": {}
                },
                {
                    "output_type": "display_data",
                    "data": {
                        "text/html": "Total execution time: 00:00:00.244"
                    },
                    "metadata": {}
                }
            ],
            "execution_count": 5
        },
        {
            "cell_type": "code",
            "source": [
                "drop proc [Theme_Park].[Proc_Customer_Cancel_Reservation]\n",
                "GO\n",
                "create proc [Theme_Park].[Proc_Customer_Cancel_Reservation]\n",
                "    @Reservation_ID int\n",
                "AS\n",
                "    delete from [Theme_Park].[Ticket_Reservation]\n",
                "    where Reservation_ID=@Reservation_ID\n",
                "go"
            ],
            "metadata": {
                "azdata_cell_guid": "cef9ff77-9d18-410c-964c-b4ee13a18024",
                "language": "sql"
            },
            "outputs": [
                {
                    "output_type": "error",
                    "ename": "",
                    "evalue": "Msg 3701, Level 11, State 5, Line 1\nCannot drop the procedure 'Theme_Park.Proc_Customer_Cancel_Reservation', because it does not exist or you do not have permission.",
                    "traceback": []
                },
                {
                    "output_type": "display_data",
                    "data": {
                        "text/html": "Commands completed successfully."
                    },
                    "metadata": {}
                },
                {
                    "output_type": "display_data",
                    "data": {
                        "text/html": "Total execution time: 00:00:00.144"
                    },
                    "metadata": {}
                }
            ],
            "execution_count": 28
        },
        {
            "cell_type": "code",
            "source": [
                "insert into [Theme_Park].[Customer]\n",
                "(name, cc_num, email, visit_count, username)\n",
                "values\n",
                "('Joe Blow', 7777666622221111, 'joeblow@uh.edu', 0, 'joe')\n",
                "go\n",
                "exec [Theme_Park].[Proc_Customer_Buy_Reservations] 15, 'Joe', 'Blow', '2022-11-03', 10, \"Poor\"\n",
                "go"
            ],
            "metadata": {
                "azdata_cell_guid": "c04e81ad-1970-4c54-afc0-25dc8725df93",
                "language": "sql",
                "tags": []
            },
            "outputs": [
                {
                    "output_type": "display_data",
                    "data": {
                        "text/html": "(1 row affected)"
                    },
                    "metadata": {}
                },
                {
                    "output_type": "error",
                    "ename": "",
                    "evalue": "Msg 547, Level 16, State 0, Procedure Theme_Park.Proc_Customer_Buy_Reservations, Line 9\nThe INSERT statement conflicted with the FOREIGN KEY constraint \"FK_Customer_Of_Reservation\". The conflict occurred in database \"themepark_dev\", table \"Theme_Park.Customer\", column 'customer_id'.",
                    "traceback": []
                },
                {
                    "output_type": "display_data",
                    "data": {
                        "text/html": "The statement has been terminated."
                    },
                    "metadata": {}
                },
                {
                    "output_type": "display_data",
                    "data": {
                        "text/html": "Total execution time: 00:00:00.193"
                    },
                    "metadata": {}
                }
            ],
            "execution_count": 23
        },
        {
            "cell_type": "code",
            "source": [
                "drop proc [Theme_Park].[Proc_Get_Maintenance_Notifications]\n",
                "go\n",
                "create proc [Theme_Park].[Proc_Get_Maintenance_Notifications]\n",
                "AS\n",
                "    select * from [Theme_Park].[Maintenance_Notification]\n",
                "    order by notification_id asc\n",
                "GO"
            ],
            "metadata": {
                "azdata_cell_guid": "cfbe0361-c623-4611-a751-128904cf36c0",
                "language": "sql"
            },
            "outputs": [
                {
                    "output_type": "display_data",
                    "data": {
                        "text/html": "Commands completed successfully."
                    },
                    "metadata": {}
                },
                {
                    "output_type": "display_data",
                    "data": {
                        "text/html": "Commands completed successfully."
                    },
                    "metadata": {}
                },
                {
                    "output_type": "display_data",
                    "data": {
                        "text/html": "Total execution time: 00:00:00.701"
                    },
                    "metadata": {}
                }
            ],
            "execution_count": 2
        },
        {
            "cell_type": "code",
            "source": [
                "drop proc [Theme_Park].[Proc_Mark_Maintenance_Notifications_Read]\n",
                "go\n",
                "create proc [Theme_Park].[Proc_Mark_Maintenance_Notifications_Read]\n",
                "AS\n",
                "    delete from [Theme_Park].[Maintenance_Notification]\n",
                "GO"
            ],
            "metadata": {
                "azdata_cell_guid": "c77dfe6c-17f3-4c89-bdda-3f24907aee4a",
                "language": "sql"
            },
            "outputs": [
                {
                    "output_type": "error",
                    "ename": "",
                    "evalue": "Msg 3701, Level 11, State 5, Line 1\nCannot drop the procedure 'Theme_Park.Proc_Mark_Maintenance_Notifications_Read', because it does not exist or you do not have permission.",
                    "traceback": []
                },
                {
                    "output_type": "display_data",
                    "data": {
                        "text/html": "Commands completed successfully."
                    },
                    "metadata": {}
                },
                {
                    "output_type": "display_data",
                    "data": {
                        "text/html": "Total execution time: 00:00:00.231"
                    },
                    "metadata": {}
                }
            ],
            "execution_count": 20
        },
        {
            "cell_type": "code",
            "source": [
                "drop table [Theme_Park].[Maintenance_Notification]\n",
                "go\n",
                "CREATE TABLE [Theme_Park].[Maintenance_Notification](\n",
                "\t[notification_id] [int] IDENTITY(1,1) NOT NULL,\n",
                "\t[maintenance_id] [int] NOT NULL,\n",
                "\t[completion] [datetime] NOT NULL,\n",
                "\t[billed_hours] [int] NULL,\n",
                "\t[amount] [smallmoney] NULL,\n",
                "    [maint_description] varchar(50) NULL\n",
                ") ON [PRIMARY]\n",
                "GO"
            ],
            "metadata": {
                "azdata_cell_guid": "3880c643-32aa-43e8-93ad-23f385f8f8c6",
                "language": "sql"
            },
            "outputs": [
                {
                    "output_type": "error",
                    "ename": "",
                    "evalue": "Msg 3701, Level 11, State 5, Line 1\nCannot drop the table 'Theme_Park.Maintenance_Notification', because it does not exist or you do not have permission.",
                    "traceback": []
                },
                {
                    "output_type": "display_data",
                    "data": {
                        "text/html": "Commands completed successfully."
                    },
                    "metadata": {}
                },
                {
                    "output_type": "display_data",
                    "data": {
                        "text/html": "Total execution time: 00:00:00.132"
                    },
                    "metadata": {}
                }
            ],
            "execution_count": 2
        },
        {
            "cell_type": "code",
            "source": [
                "drop proc [Theme_Park].[Proc_Aggregate_Ticket_Sales_By_Weekday]\n",
                "GO\n",
                "create proc [Theme_Park].[Proc_Aggregate_Ticket_Sales_By_Weekday]\n",
                "    @year int\n",
                "as\n",
                "    SELECT Ticket_Class, \n",
                "        COUNT(CASE WHEN DATEPART(WEEKDAY,Date) = 0 THEN 1 END) AS SUNDAY, \n",
                "        COUNT(CASE WHEN DATEPART(WEEKDAY,Date) = 1 THEN 1 END) AS MONDAY, \n",
                "        COUNT(CASE WHEN DATEPART(WEEKDAY,Date) = 2 THEN 1 END) AS TUESDAY, \n",
                "        COUNT(CASE WHEN DATEPART(WEEKDAY,Date) = 3 THEN 1 END) AS WEDNESDAY, \n",
                "        COUNT(CASE WHEN DATEPART(WEEKDAY,Date) = 4 THEN 1 END) AS THURSDAY, \n",
                "        COUNT(CASE WHEN DATEPART(WEEKDAY,Date) = 5 THEN 1 END) AS FRIDAY, \n",
                "        COUNT(CASE WHEN DATEPART(WEEKDAY,Date) = 6 THEN 1 END) AS SATURDAY\n",
                "    from \n",
                "    [Theme_Park].[Ticket]\n",
                "    where\n",
                "    DATEPART(YEAR,Date) = @year\n",
                "    group by Ticket_Class\n",
                "    order by Ticket_Class asc\n",
                "go"
            ],
            "metadata": {
                "language": "sql",
                "azdata_cell_guid": "99bc26bb-b95c-4889-a60e-29fb6a3895bd"
            },
            "outputs": [
                {
                    "output_type": "error",
                    "ename": "",
                    "evalue": "Msg 3701, Level 11, State 5, Line 1\nCannot drop the procedure 'Theme_Park.Proc_Aggregate_Ticket_Sales_By_Weekday', because it does not exist or you do not have permission.",
                    "traceback": []
                },
                {
                    "output_type": "display_data",
                    "data": {
                        "text/html": "Commands completed successfully."
                    },
                    "metadata": {}
                },
                {
                    "output_type": "display_data",
                    "data": {
                        "text/html": "Total execution time: 00:00:06.793"
                    },
                    "metadata": {}
                }
            ],
            "execution_count": 27
        },
        {
            "cell_type": "code",
            "source": [
                "drop proc [Theme_Park].[Proc_Aggregate_Ticket_Sales_By_Week_For_Given_Year]\n",
                "GO\n",
                "create proc [Theme_Park].[Proc_Aggregate_Ticket_Sales_By_Week_For_Given_Year]\n",
                "    @year int\n",
                "as\n",
                "    SELECT\n",
                "        DATEPART(WEEK, Date) AS WEEK_NUMBER,\n",
                "        COUNT(CASE WHEN DATEPART(WEEKDAY,Date) = 0 THEN 1 END) AS SUNDAY, \n",
                "        COUNT(CASE WHEN DATEPART(WEEKDAY,Date) = 1 THEN 1 END) AS MONDAY, \n",
                "        COUNT(CASE WHEN DATEPART(WEEKDAY,Date) = 2 THEN 1 END) AS TUESDAY, \n",
                "        COUNT(CASE WHEN DATEPART(WEEKDAY,Date) = 3 THEN 1 END) AS WEDNESDAY, \n",
                "        COUNT(CASE WHEN DATEPART(WEEKDAY,Date) = 4 THEN 1 END) AS THURSDAY, \n",
                "        COUNT(CASE WHEN DATEPART(WEEKDAY,Date) = 5 THEN 1 END) AS FRIDAY, \n",
                "        COUNT(CASE WHEN DATEPART(WEEKDAY,Date) = 6 THEN 1 END) AS SATURDAY\n",
                "    from \n",
                "    [Theme_Park].[Ticket]\n",
                "    where\n",
                "    DATEPART(YEAR,Date) = @year\n",
                "    group by\n",
                "    DATEPART(Week, Date)\n",
                "    order by\n",
                "    DATEPART(Week, Date) asc\n",
                "go"
            ],
            "metadata": {
                "language": "sql",
                "azdata_cell_guid": "c0852431-a619-400d-a9a0-cf1253b95fb1"
            },
            "outputs": [
                {
                    "output_type": "error",
                    "evalue": "Msg 3701, Level 11, State 5, Line 1\nCannot drop the procedure 'Theme_Park.Proc_Aggregate_Ticket_Sales_By_Week_For_Given_Year', because it does not exist or you do not have permission.",
                    "ename": "",
                    "traceback": []
                },
                {
                    "output_type": "display_data",
                    "data": {
                        "text/html": "Commands completed successfully."
                    },
                    "metadata": {}
                },
                {
                    "output_type": "display_data",
                    "data": {
                        "text/html": "Total execution time: 00:00:00.121"
                    },
                    "metadata": {}
                }
            ],
            "execution_count": 18
        },
        {
            "cell_type": "code",
            "source": [
                "exec [Theme_Park].[Proc_Aggregate_Ticket_Sales_By_Week_For_Given_Year] 2022"
            ],
            "metadata": {
                "language": "sql",
                "azdata_cell_guid": "c891cd0f-780e-4016-8253-212258a942b0"
            },
            "outputs": [
                {
                    "output_type": "display_data",
                    "data": {
                        "text/html": "Warning: Null value is eliminated by an aggregate or other SET operation."
                    },
                    "metadata": {}
                },
                {
                    "output_type": "display_data",
                    "data": {
                        "text/html": "(22 rows affected)"
                    },
                    "metadata": {}
                },
                {
                    "output_type": "display_data",
                    "data": {
                        "text/html": "Total execution time: 00:00:00.083"
                    },
                    "metadata": {}
                },
                {
                    "output_type": "execute_result",
                    "metadata": {},
                    "execution_count": 19,
                    "data": {
                        "application/vnd.dataresource+json": {
                            "schema": {
                                "fields": [
                                    {
                                        "name": "WEEK_NUMBER"
                                    },
                                    {
                                        "name": "SUNDAY"
                                    },
                                    {
                                        "name": "MONDAY"
                                    },
                                    {
                                        "name": "TUESDAY"
                                    },
                                    {
                                        "name": "WEDNESDAY"
                                    },
                                    {
                                        "name": "THURSDAY"
                                    },
                                    {
                                        "name": "FRIDAY"
                                    },
                                    {
                                        "name": "SATURDAY"
                                    }
                                ]
                            },
                            "data": [
                                {
                                    "0": "20",
                                    "1": "0",
                                    "2": "0",
                                    "3": "8",
                                    "4": "6",
                                    "5": "2",
                                    "6": "6",
                                    "7": "4"
                                },
                                {
                                    "0": "21",
                                    "1": "0",
                                    "2": "6",
                                    "3": "4",
                                    "4": "8",
                                    "5": "4",
                                    "6": "5",
                                    "7": "8"
                                },
                                {
                                    "0": "22",
                                    "1": "0",
                                    "2": "4",
                                    "3": "9",
                                    "4": "2",
                                    "5": "3",
                                    "6": "9",
                                    "7": "2"
                                },
                                {
                                    "0": "23",
                                    "1": "0",
                                    "2": "9",
                                    "3": "4",
                                    "4": "4",
                                    "5": "3",
                                    "6": "1",
                                    "7": "8"
                                },
                                {
                                    "0": "24",
                                    "1": "0",
                                    "2": "7",
                                    "3": "10",
                                    "4": "6",
                                    "5": "2",
                                    "6": "5",
                                    "7": "7"
                                },
                                {
                                    "0": "25",
                                    "1": "0",
                                    "2": "11",
                                    "3": "6",
                                    "4": "6",
                                    "5": "8",
                                    "6": "6",
                                    "7": "4"
                                },
                                {
                                    "0": "26",
                                    "1": "0",
                                    "2": "6",
                                    "3": "6",
                                    "4": "7",
                                    "5": "13",
                                    "6": "6",
                                    "7": "3"
                                },
                                {
                                    "0": "27",
                                    "1": "0",
                                    "2": "12",
                                    "3": "10",
                                    "4": "5",
                                    "5": "5",
                                    "6": "5",
                                    "7": "9"
                                },
                                {
                                    "0": "28",
                                    "1": "0",
                                    "2": "8",
                                    "3": "13",
                                    "4": "3",
                                    "5": "4",
                                    "6": "12",
                                    "7": "7"
                                },
                                {
                                    "0": "29",
                                    "1": "0",
                                    "2": "15",
                                    "3": "5",
                                    "4": "9",
                                    "5": "3",
                                    "6": "5",
                                    "7": "7"
                                },
                                {
                                    "0": "30",
                                    "1": "0",
                                    "2": "15",
                                    "3": "3",
                                    "4": "9",
                                    "5": "4",
                                    "6": "7",
                                    "7": "3"
                                },
                                {
                                    "0": "31",
                                    "1": "0",
                                    "2": "10",
                                    "3": "3",
                                    "4": "9",
                                    "5": "6",
                                    "6": "5",
                                    "7": "6"
                                },
                                {
                                    "0": "32",
                                    "1": "0",
                                    "2": "9",
                                    "3": "8",
                                    "4": "3",
                                    "5": "5",
                                    "6": "8",
                                    "7": "9"
                                },
                                {
                                    "0": "33",
                                    "1": "0",
                                    "2": "10",
                                    "3": "8",
                                    "4": "4",
                                    "5": "8",
                                    "6": "4",
                                    "7": "9"
                                },
                                {
                                    "0": "34",
                                    "1": "0",
                                    "2": "13",
                                    "3": "3",
                                    "4": "9",
                                    "5": "6",
                                    "6": "9",
                                    "7": "8"
                                },
                                {
                                    "0": "35",
                                    "1": "0",
                                    "2": "12",
                                    "3": "2",
                                    "4": "2",
                                    "5": "4",
                                    "6": "4",
                                    "7": "6"
                                },
                                {
                                    "0": "36",
                                    "1": "0",
                                    "2": "5",
                                    "3": "7",
                                    "4": "5",
                                    "5": "9",
                                    "6": "7",
                                    "7": "5"
                                },
                                {
                                    "0": "37",
                                    "1": "0",
                                    "2": "12",
                                    "3": "6",
                                    "4": "8",
                                    "5": "6",
                                    "6": "3",
                                    "7": "6"
                                },
                                {
                                    "0": "38",
                                    "1": "0",
                                    "2": "8",
                                    "3": "6",
                                    "4": "6",
                                    "5": "3",
                                    "6": "4",
                                    "7": "8"
                                },
                                {
                                    "0": "39",
                                    "1": "0",
                                    "2": "6",
                                    "3": "7",
                                    "4": "3",
                                    "5": "5",
                                    "6": "6",
                                    "7": "7"
                                },
                                {
                                    "0": "40",
                                    "1": "0",
                                    "2": "4",
                                    "3": "10",
                                    "4": "11",
                                    "5": "6",
                                    "6": "3",
                                    "7": "5"
                                },
                                {
                                    "0": "41",
                                    "1": "0",
                                    "2": "7",
                                    "3": "6",
                                    "4": "7",
                                    "5": "4",
                                    "6": "5",
                                    "7": "7"
                                }
                            ]
                        },
                        "text/html": [
                            "<table>",
                            "<tr><th>WEEK_NUMBER</th><th>SUNDAY</th><th>MONDAY</th><th>TUESDAY</th><th>WEDNESDAY</th><th>THURSDAY</th><th>FRIDAY</th><th>SATURDAY</th></tr>",
                            "<tr><td>20</td><td>0</td><td>0</td><td>8</td><td>6</td><td>2</td><td>6</td><td>4</td></tr>",
                            "<tr><td>21</td><td>0</td><td>6</td><td>4</td><td>8</td><td>4</td><td>5</td><td>8</td></tr>",
                            "<tr><td>22</td><td>0</td><td>4</td><td>9</td><td>2</td><td>3</td><td>9</td><td>2</td></tr>",
                            "<tr><td>23</td><td>0</td><td>9</td><td>4</td><td>4</td><td>3</td><td>1</td><td>8</td></tr>",
                            "<tr><td>24</td><td>0</td><td>7</td><td>10</td><td>6</td><td>2</td><td>5</td><td>7</td></tr>",
                            "<tr><td>25</td><td>0</td><td>11</td><td>6</td><td>6</td><td>8</td><td>6</td><td>4</td></tr>",
                            "<tr><td>26</td><td>0</td><td>6</td><td>6</td><td>7</td><td>13</td><td>6</td><td>3</td></tr>",
                            "<tr><td>27</td><td>0</td><td>12</td><td>10</td><td>5</td><td>5</td><td>5</td><td>9</td></tr>",
                            "<tr><td>28</td><td>0</td><td>8</td><td>13</td><td>3</td><td>4</td><td>12</td><td>7</td></tr>",
                            "<tr><td>29</td><td>0</td><td>15</td><td>5</td><td>9</td><td>3</td><td>5</td><td>7</td></tr>",
                            "<tr><td>30</td><td>0</td><td>15</td><td>3</td><td>9</td><td>4</td><td>7</td><td>3</td></tr>",
                            "<tr><td>31</td><td>0</td><td>10</td><td>3</td><td>9</td><td>6</td><td>5</td><td>6</td></tr>",
                            "<tr><td>32</td><td>0</td><td>9</td><td>8</td><td>3</td><td>5</td><td>8</td><td>9</td></tr>",
                            "<tr><td>33</td><td>0</td><td>10</td><td>8</td><td>4</td><td>8</td><td>4</td><td>9</td></tr>",
                            "<tr><td>34</td><td>0</td><td>13</td><td>3</td><td>9</td><td>6</td><td>9</td><td>8</td></tr>",
                            "<tr><td>35</td><td>0</td><td>12</td><td>2</td><td>2</td><td>4</td><td>4</td><td>6</td></tr>",
                            "<tr><td>36</td><td>0</td><td>5</td><td>7</td><td>5</td><td>9</td><td>7</td><td>5</td></tr>",
                            "<tr><td>37</td><td>0</td><td>12</td><td>6</td><td>8</td><td>6</td><td>3</td><td>6</td></tr>",
                            "<tr><td>38</td><td>0</td><td>8</td><td>6</td><td>6</td><td>3</td><td>4</td><td>8</td></tr>",
                            "<tr><td>39</td><td>0</td><td>6</td><td>7</td><td>3</td><td>5</td><td>6</td><td>7</td></tr>",
                            "<tr><td>40</td><td>0</td><td>4</td><td>10</td><td>11</td><td>6</td><td>3</td><td>5</td></tr>",
                            "<tr><td>41</td><td>0</td><td>7</td><td>6</td><td>7</td><td>4</td><td>5</td><td>7</td></tr>",
                            "</table>"
                        ]
                    }
                }
            ],
            "execution_count": 19
        },
        {
            "cell_type": "code",
            "source": [
                "drop proc [Theme_Park].[Proc_Aggregate_Ticket_Sales_For_Given_Week_For_Given_Year]\n",
                "GO\n",
                "create proc [Theme_Park].[Proc_Aggregate_Ticket_Sales_For_Given_Week_For_Given_Year]\n",
                "    @year int,\n",
                "    @week int\n",
                "as\n",
                "    SELECT  \n",
                "        COUNT(CASE WHEN DATEPART(WEEKDAY,Date) = 0 THEN 1 END) AS SUNDAY, \n",
                "        COUNT(CASE WHEN DATEPART(WEEKDAY,Date) = 1 THEN 1 END) AS MONDAY, \n",
                "        COUNT(CASE WHEN DATEPART(WEEKDAY,Date) = 2 THEN 1 END) AS TUESDAY, \n",
                "        COUNT(CASE WHEN DATEPART(WEEKDAY,Date) = 3 THEN 1 END) AS WEDNESDAY, \n",
                "        COUNT(CASE WHEN DATEPART(WEEKDAY,Date) = 4 THEN 1 END) AS THURSDAY, \n",
                "        COUNT(CASE WHEN DATEPART(WEEKDAY,Date) = 5 THEN 1 END) AS FRIDAY, \n",
                "        COUNT(CASE WHEN DATEPART(WEEKDAY,Date) = 6 THEN 1 END) AS SATURDAY\n",
                "    from \n",
                "    [Theme_Park].[Ticket]\n",
                "    where\n",
                "    DATEPART(YEAR,Date) = @year\n",
                "    and\n",
                "    DATEPART(WEEK,Date) = @week\n",
                "go"
            ],
            "metadata": {
                "language": "sql",
                "azdata_cell_guid": "0e986612-f2b3-4926-866d-0e8907316a00"
            },
            "outputs": [
                {
                    "output_type": "display_data",
                    "data": {
                        "text/html": "Commands completed successfully."
                    },
                    "metadata": {}
                },
                {
                    "output_type": "error",
                    "evalue": "Msg 137, Level 15, State 2, Line 4\nMust declare the scalar variable \"@year\".",
                    "ename": "",
                    "traceback": []
                },
                {
                    "output_type": "error",
                    "evalue": "Msg 137, Level 15, State 2, Line 18\nMust declare the scalar variable \"@year\".",
                    "ename": "",
                    "traceback": []
                },
                {
                    "output_type": "display_data",
                    "data": {
                        "text/html": "Total execution time: 00:00:00.291"
                    },
                    "metadata": {}
                }
            ],
            "execution_count": 20
        },
        {
            "cell_type": "code",
            "source": [
                "exec [Theme_Park].[Proc_Aggregate_Ticket_Sales_This_Week_For_Given_Year] 2022"
            ],
            "metadata": {
                "language": "sql",
                "azdata_cell_guid": "2aaa040d-cec9-4c44-ab3d-ae520eb3bfa9"
            },
            "outputs": [
                {
                    "output_type": "display_data",
                    "data": {
                        "text/html": "(1 row affected)"
                    },
                    "metadata": {}
                },
                {
                    "output_type": "display_data",
                    "data": {
                        "text/html": "Total execution time: 00:00:00.099"
                    },
                    "metadata": {}
                },
                {
                    "output_type": "execute_result",
                    "metadata": {},
                    "execution_count": 11,
                    "data": {
                        "application/vnd.dataresource+json": {
                            "schema": {
                                "fields": [
                                    {
                                        "name": "SUNDAY"
                                    },
                                    {
                                        "name": "MONDAY"
                                    },
                                    {
                                        "name": "TUESDAY"
                                    },
                                    {
                                        "name": "WEDNESDAY"
                                    },
                                    {
                                        "name": "THURSDAY"
                                    },
                                    {
                                        "name": "FRIDAY"
                                    },
                                    {
                                        "name": "SATURDAY"
                                    }
                                ]
                            },
                            "data": [
                                {
                                    "0": "0",
                                    "1": "0",
                                    "2": "0",
                                    "3": "0",
                                    "4": "0",
                                    "5": "0",
                                    "6": "0"
                                }
                            ]
                        },
                        "text/html": [
                            "<table>",
                            "<tr><th>SUNDAY</th><th>MONDAY</th><th>TUESDAY</th><th>WEDNESDAY</th><th>THURSDAY</th><th>FRIDAY</th><th>SATURDAY</th></tr>",
                            "<tr><td>0</td><td>0</td><td>0</td><td>0</td><td>0</td><td>0</td><td>0</td></tr>",
                            "</table>"
                        ]
                    }
                }
            ],
            "execution_count": 11
        },
        {
            "cell_type": "code",
            "source": [
                "exec [Theme_Park].[Proc_Aggregate_Ticket_Sales_For_Given_Week_For_Given_Year] 2021, 22"
            ],
            "metadata": {
                "language": "sql",
                "azdata_cell_guid": "c58df3a5-d7c2-4c49-9956-4657285da2a5"
            },
            "outputs": [
                {
                    "output_type": "display_data",
                    "data": {
                        "text/html": "Warning: Null value is eliminated by an aggregate or other SET operation."
                    },
                    "metadata": {}
                },
                {
                    "output_type": "display_data",
                    "data": {
                        "text/html": "(1 row affected)"
                    },
                    "metadata": {}
                },
                {
                    "output_type": "display_data",
                    "data": {
                        "text/html": "Total execution time: 00:00:00.064"
                    },
                    "metadata": {}
                },
                {
                    "output_type": "execute_result",
                    "metadata": {},
                    "execution_count": 17,
                    "data": {
                        "application/vnd.dataresource+json": {
                            "schema": {
                                "fields": [
                                    {
                                        "name": "SUNDAY"
                                    },
                                    {
                                        "name": "MONDAY"
                                    },
                                    {
                                        "name": "TUESDAY"
                                    },
                                    {
                                        "name": "WEDNESDAY"
                                    },
                                    {
                                        "name": "THURSDAY"
                                    },
                                    {
                                        "name": "FRIDAY"
                                    },
                                    {
                                        "name": "SATURDAY"
                                    }
                                ]
                            },
                            "data": [
                                {
                                    "0": "0",
                                    "1": "5",
                                    "2": "8",
                                    "3": "8",
                                    "4": "12",
                                    "5": "7",
                                    "6": "10"
                                }
                            ]
                        },
                        "text/html": [
                            "<table>",
                            "<tr><th>SUNDAY</th><th>MONDAY</th><th>TUESDAY</th><th>WEDNESDAY</th><th>THURSDAY</th><th>FRIDAY</th><th>SATURDAY</th></tr>",
                            "<tr><td>0</td><td>5</td><td>8</td><td>8</td><td>12</td><td>7</td><td>10</td></tr>",
                            "</table>"
                        ]
                    }
                }
            ],
            "execution_count": 17
        },
        {
            "cell_type": "code",
            "source": [
                "exec [Theme_Park].[Proc_Aggregate_Ticket_Sales_By_Weekday] 2022"
            ],
            "metadata": {
                "language": "sql",
                "azdata_cell_guid": "f239dd46-cd09-4c6d-8e35-6901ba83432f"
            },
            "outputs": [
                {
                    "output_type": "display_data",
                    "data": {
                        "text/html": "Warning: Null value is eliminated by an aggregate or other SET operation."
                    },
                    "metadata": {}
                },
                {
                    "output_type": "display_data",
                    "data": {
                        "text/html": "(3 rows affected)"
                    },
                    "metadata": {}
                },
                {
                    "output_type": "display_data",
                    "data": {
                        "text/html": "Total execution time: 00:00:00.232"
                    },
                    "metadata": {}
                },
                {
                    "output_type": "execute_result",
                    "execution_count": 28,
                    "data": {
                        "application/vnd.dataresource+json": {
                            "schema": {
                                "fields": [
                                    {
                                        "name": "Ticket_Class"
                                    },
                                    {
                                        "name": "SUNDAY"
                                    },
                                    {
                                        "name": "MONDAY"
                                    },
                                    {
                                        "name": "TUESDAY"
                                    },
                                    {
                                        "name": "WEDNESDAY"
                                    },
                                    {
                                        "name": "THURSDAY"
                                    },
                                    {
                                        "name": "FRIDAY"
                                    },
                                    {
                                        "name": "SATURDAY"
                                    }
                                ]
                            },
                            "data": [
                                {
                                    "0": "Normal",
                                    "1": "0",
                                    "2": "10",
                                    "3": "9",
                                    "4": "5",
                                    "5": "5",
                                    "6": "2",
                                    "7": "11"
                                },
                                {
                                    "0": "Poor",
                                    "1": "0",
                                    "2": "3",
                                    "3": "6",
                                    "4": "3",
                                    "5": "23",
                                    "6": "4",
                                    "7": "3"
                                },
                                {
                                    "0": "Premium",
                                    "1": "0",
                                    "2": "4",
                                    "3": "3",
                                    "4": "4",
                                    "5": "6",
                                    "6": "2",
                                    "7": "4"
                                }
                            ]
                        },
                        "text/html": "<table><tr><th>Ticket_Class</th><th>SUNDAY</th><th>MONDAY</th><th>TUESDAY</th><th>WEDNESDAY</th><th>THURSDAY</th><th>FRIDAY</th><th>SATURDAY</th></tr><tr><td>Normal</td><td>0</td><td>10</td><td>9</td><td>5</td><td>5</td><td>2</td><td>11</td></tr><tr><td>Poor</td><td>0</td><td>3</td><td>6</td><td>3</td><td>23</td><td>4</td><td>3</td></tr><tr><td>Premium</td><td>0</td><td>4</td><td>3</td><td>4</td><td>6</td><td>2</td><td>4</td></tr></table>"
                    },
                    "metadata": {}
                }
            ],
            "execution_count": 28
        },
        {
            "cell_type": "code",
            "source": [
                "select * from [Theme_Park].[Ticket] where DATEPART(YEAR,Date) = 2021 and DATEPART(WEEKDAY,Date) = 1\n",
                "order by Date asc"
            ],
            "metadata": {
                "language": "sql",
                "azdata_cell_guid": "f2c2c079-1ca9-4332-8385-69fa3ba3e189"
            },
            "outputs": [
                {
                    "output_type": "display_data",
                    "data": {
                        "text/html": "(21 rows affected)"
                    },
                    "metadata": {}
                },
                {
                    "output_type": "display_data",
                    "data": {
                        "text/html": "Total execution time: 00:00:00.078"
                    },
                    "metadata": {}
                },
                {
                    "output_type": "execute_result",
                    "execution_count": 31,
                    "data": {
                        "application/vnd.dataresource+json": {
                            "schema": {
                                "fields": [
                                    {
                                        "name": "Ticket_ID"
                                    },
                                    {
                                        "name": "Date"
                                    },
                                    {
                                        "name": "Ticket_Class"
                                    },
                                    {
                                        "name": "Price"
                                    },
                                    {
                                        "name": "Reservation"
                                    }
                                ]
                            },
                            "data": [
                                {
                                    "0": "180",
                                    "1": "2021-01-10 01:02:52.000",
                                    "2": "Normal",
                                    "3": "11.50",
                                    "4": "NULL"
                                },
                                {
                                    "0": "136",
                                    "1": "2021-01-17 16:05:51.000",
                                    "2": "Premium",
                                    "3": "11.50",
                                    "4": "NULL"
                                },
                                {
                                    "0": "213",
                                    "1": "2021-01-17 22:51:55.000",
                                    "2": "Normal",
                                    "3": "11.50",
                                    "4": "NULL"
                                },
                                {
                                    "0": "222",
                                    "1": "2021-01-24 11:14:42.000",
                                    "2": "Poor",
                                    "3": "11.50",
                                    "4": "NULL"
                                },
                                {
                                    "0": "161",
                                    "1": "2021-01-24 21:13:24.000",
                                    "2": "Poor",
                                    "3": "11.50",
                                    "4": "NULL"
                                },
                                {
                                    "0": "165",
                                    "1": "2021-03-07 08:59:19.000",
                                    "2": "Poor",
                                    "3": "11.50",
                                    "4": "NULL"
                                },
                                {
                                    "0": "185",
                                    "1": "2021-03-14 07:40:42.000",
                                    "2": "Normal",
                                    "3": "11.50",
                                    "4": "NULL"
                                },
                                {
                                    "0": "143",
                                    "1": "2021-03-21 16:36:33.000",
                                    "2": "Normal",
                                    "3": "11.50",
                                    "4": "NULL"
                                },
                                {
                                    "0": "200",
                                    "1": "2021-04-25 01:58:19.000",
                                    "2": "Normal",
                                    "3": "11.50",
                                    "4": "NULL"
                                },
                                {
                                    "0": "131",
                                    "1": "2021-05-23 00:53:23.000",
                                    "2": "Poor",
                                    "3": "11.50",
                                    "4": "NULL"
                                },
                                {
                                    "0": "217",
                                    "1": "2021-06-06 08:09:47.000",
                                    "2": "Normal",
                                    "3": "11.50",
                                    "4": "NULL"
                                },
                                {
                                    "0": "224",
                                    "1": "2021-06-13 13:08:49.000",
                                    "2": "Poor",
                                    "3": "11.50",
                                    "4": "NULL"
                                },
                                {
                                    "0": "145",
                                    "1": "2021-08-08 20:11:04.000",
                                    "2": "Premium",
                                    "3": "11.50",
                                    "4": "NULL"
                                },
                                {
                                    "0": "135",
                                    "1": "2021-08-15 06:35:19.000",
                                    "2": "Normal",
                                    "3": "11.50",
                                    "4": "NULL"
                                },
                                {
                                    "0": "181",
                                    "1": "2021-08-15 07:10:08.000",
                                    "2": "Normal",
                                    "3": "11.50",
                                    "4": "NULL"
                                },
                                {
                                    "0": "162",
                                    "1": "2021-08-15 23:29:56.000",
                                    "2": "Normal",
                                    "3": "11.50",
                                    "4": "NULL"
                                },
                                {
                                    "0": "173",
                                    "1": "2021-09-19 18:20:33.000",
                                    "2": "Poor",
                                    "3": "11.50",
                                    "4": "NULL"
                                },
                                {
                                    "0": "203",
                                    "1": "2021-09-19 21:39:13.000",
                                    "2": "Poor",
                                    "3": "11.50",
                                    "4": "NULL"
                                },
                                {
                                    "0": "202",
                                    "1": "2021-10-03 05:10:57.000",
                                    "2": "Normal",
                                    "3": "11.50",
                                    "4": "NULL"
                                },
                                {
                                    "0": "196",
                                    "1": "2021-10-10 06:16:17.000",
                                    "2": "Poor",
                                    "3": "11.50",
                                    "4": "NULL"
                                },
                                {
                                    "0": "201",
                                    "1": "2021-12-19 04:34:50.000",
                                    "2": "Normal",
                                    "3": "11.50",
                                    "4": "NULL"
                                }
                            ]
                        },
                        "text/html": "<table><tr><th>Ticket_ID</th><th>Date</th><th>Ticket_Class</th><th>Price</th><th>Reservation</th></tr><tr><td>180</td><td>2021-01-10 01:02:52.000</td><td>Normal</td><td>11.50</td><td>NULL</td></tr><tr><td>136</td><td>2021-01-17 16:05:51.000</td><td>Premium</td><td>11.50</td><td>NULL</td></tr><tr><td>213</td><td>2021-01-17 22:51:55.000</td><td>Normal</td><td>11.50</td><td>NULL</td></tr><tr><td>222</td><td>2021-01-24 11:14:42.000</td><td>Poor</td><td>11.50</td><td>NULL</td></tr><tr><td>161</td><td>2021-01-24 21:13:24.000</td><td>Poor</td><td>11.50</td><td>NULL</td></tr><tr><td>165</td><td>2021-03-07 08:59:19.000</td><td>Poor</td><td>11.50</td><td>NULL</td></tr><tr><td>185</td><td>2021-03-14 07:40:42.000</td><td>Normal</td><td>11.50</td><td>NULL</td></tr><tr><td>143</td><td>2021-03-21 16:36:33.000</td><td>Normal</td><td>11.50</td><td>NULL</td></tr><tr><td>200</td><td>2021-04-25 01:58:19.000</td><td>Normal</td><td>11.50</td><td>NULL</td></tr><tr><td>131</td><td>2021-05-23 00:53:23.000</td><td>Poor</td><td>11.50</td><td>NULL</td></tr><tr><td>217</td><td>2021-06-06 08:09:47.000</td><td>Normal</td><td>11.50</td><td>NULL</td></tr><tr><td>224</td><td>2021-06-13 13:08:49.000</td><td>Poor</td><td>11.50</td><td>NULL</td></tr><tr><td>145</td><td>2021-08-08 20:11:04.000</td><td>Premium</td><td>11.50</td><td>NULL</td></tr><tr><td>135</td><td>2021-08-15 06:35:19.000</td><td>Normal</td><td>11.50</td><td>NULL</td></tr><tr><td>181</td><td>2021-08-15 07:10:08.000</td><td>Normal</td><td>11.50</td><td>NULL</td></tr><tr><td>162</td><td>2021-08-15 23:29:56.000</td><td>Normal</td><td>11.50</td><td>NULL</td></tr><tr><td>173</td><td>2021-09-19 18:20:33.000</td><td>Poor</td><td>11.50</td><td>NULL</td></tr><tr><td>203</td><td>2021-09-19 21:39:13.000</td><td>Poor</td><td>11.50</td><td>NULL</td></tr><tr><td>202</td><td>2021-10-03 05:10:57.000</td><td>Normal</td><td>11.50</td><td>NULL</td></tr><tr><td>196</td><td>2021-10-10 06:16:17.000</td><td>Poor</td><td>11.50</td><td>NULL</td></tr><tr><td>201</td><td>2021-12-19 04:34:50.000</td><td>Normal</td><td>11.50</td><td>NULL</td></tr></table>"
                    },
                    "metadata": {}
                }
            ],
            "execution_count": 31
        }
    ]
}