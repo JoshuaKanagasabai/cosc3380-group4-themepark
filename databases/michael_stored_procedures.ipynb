{
    "metadata": {
        "kernelspec": {
            "name": "SQL",
            "display_name": "SQL",
            "language": "sql"
        },
        "language_info": {
            "name": "sql",
            "version": ""
        }
    },
    "nbformat_minor": 2,
    "nbformat": 4,
    "cells": [
        {
            "cell_type": "markdown",
            "source": [
                "# Stored Procedure definitions:"
            ],
            "metadata": {
                "azdata_cell_guid": "10a9e241-7782-4c38-829b-c5fa92d5ca50"
            },
            "attachments": {}
        },
        {
            "cell_type": "markdown",
            "source": [
                "## HR Role\n",
                "\n",
                "- Proc_Add_Employee: Adds an employee to the database"
            ],
            "metadata": {
                "azdata_cell_guid": "13a0e6c4-4879-4b3e-b7ee-7e784482193a"
            },
            "attachments": {}
        },
        {
            "cell_type": "code",
            "source": [
                "drop proc [Theme_Park].[Proc_Add_Employee]\n",
                "go\n",
                "create proc [Theme_Park].[Proc_Add_Employee]\n",
                "    @fname varchar(20),\n",
                "    @lname varchar(20),\n",
                "    @ssn numeric(9,0),\n",
                "    @gender char,\n",
                "    @address varchar(50),\n",
                "    @phone numeric(10,0),\n",
                "    @date_joined date,\n",
                "    @dept_id int,\n",
                "    @role varchar(20),\n",
                "    @supervisor_ssn numeric(9,0),\n",
                "    @salaried bit,\n",
                "    @payrate money,\n",
                "    @vacation_days decimal(4,2)\n",
                "AS\n",
                "    INSERT INTO [Theme_Park].[Employee]\n",
                "    VALUES\n",
                "    ( @fname, @lname, @ssn, @gender, @address, @phone, @date_joined, @dept_id, @role, @supervisor_ssn, @salaried, @payrate, @vacation_days );\n",
                "GO"
            ],
            "metadata": {
                "azdata_cell_guid": "a619f5ce-0d92-4062-b75e-f4269ad69bed",
                "language": "sql"
            },
            "outputs": [
                {
                    "output_type": "display_data",
                    "data": {
                        "text/html": "Commands completed successfully."
                    },
                    "metadata": {}
                },
                {
                    "output_type": "display_data",
                    "data": {
                        "text/html": "Commands completed successfully."
                    },
                    "metadata": {}
                },
                {
                    "output_type": "display_data",
                    "data": {
                        "text/html": "Total execution time: 00:00:00.184"
                    },
                    "metadata": {}
                }
            ],
            "execution_count": 1
        },
        {
            "cell_type": "code",
            "source": [
                "exec [Theme_Park].[Proc_Add_Employee] 'Kimmy', 'Schmidt', 177889999, 'F', 'Middletown, OH', 01117777, '2022-10-24', 0, 'Heroine', 177889999, 0, 17.15, 0\n",
                "go"
            ],
            "metadata": {
                "language": "sql",
                "azdata_cell_guid": "a92e7f58-17da-4c00-833d-eecaf1c79a2a"
            },
            "outputs": [
                {
                    "output_type": "display_data",
                    "data": {
                        "text/html": "(1 row affected)"
                    },
                    "metadata": {}
                },
                {
                    "output_type": "display_data",
                    "data": {
                        "text/html": "Total execution time: 00:00:00.063"
                    },
                    "metadata": {}
                }
            ],
            "execution_count": 8
        },
        {
            "cell_type": "markdown",
            "source": [
                "## Customer entity\n",
                "\n",
                "PROC_CUSTOMER_BUY_TICKET: adds a new ticket purchase to the database"
            ],
            "metadata": {
                "azdata_cell_guid": "5efd71fc-bff0-454b-a58f-167e9d8fa5a6"
            },
            "attachments": {}
        },
        {
            "cell_type": "code",
            "source": [
                "drop proc [Theme_Park].[Proc_Customer_Buy_Ticket]\n",
                "go\n",
                "create proc [Theme_Park].[Proc_Customer_Buy_Ticket]\n",
                "    @date datetime,\n",
                "    @class varchar(10),\n",
                "    @price decimal(5,2)\n",
                "AS\n",
                "    INSERT INTO [Theme_Park].[Ticket] (Date, Ticket_Class, Price, Reservation)\n",
                "    VALUES\n",
                "    (@date, @class, @price, NULL)\n",
                "GO"
            ],
            "metadata": {
                "azdata_cell_guid": "520cf474-8f20-41ca-9478-63a65c0e8548",
                "language": "sql",
                "tags": []
            },
            "outputs": [
                {
                    "output_type": "display_data",
                    "data": {
                        "text/html": "Commands completed successfully."
                    },
                    "metadata": {}
                },
                {
                    "output_type": "display_data",
                    "data": {
                        "text/html": "Commands completed successfully."
                    },
                    "metadata": {}
                },
                {
                    "output_type": "display_data",
                    "data": {
                        "text/html": "Total execution time: 00:00:00.129"
                    },
                    "metadata": {}
                }
            ],
            "execution_count": 1
        },
        {
            "cell_type": "code",
            "source": [
                "exec [Theme_Park].[Proc_Customer_Buy_Ticket] '2022-10-22', 'Poor', 11.50\n",
                "go"
            ],
            "metadata": {
                "language": "sql",
                "azdata_cell_guid": "dd347e3a-4f02-4fc3-b0b7-ddcb8bb945bf"
            },
            "outputs": [
                {
                    "output_type": "display_data",
                    "data": {
                        "text/html": "(1 row affected)"
                    },
                    "metadata": {}
                },
                {
                    "output_type": "display_data",
                    "data": {
                        "text/html": "Total execution time: 00:00:00.534"
                    },
                    "metadata": {}
                }
            ],
            "execution_count": 2
        },
        {
            "cell_type": "markdown",
            "source": [
                "PROC_CUSTOMER_BUY_RESERVATION: buy a new ticket reservation"
            ],
            "metadata": {
                "azdata_cell_guid": "ea36b7ba-d5c0-4da8-9581-11fbbc345515"
            },
            "attachments": {}
        },
        {
            "cell_type": "code",
            "source": [
                "drop proc [Theme_Park].[Proc_Customer_Buy_Reservations]\n",
                "GO\n",
                "create proc [Theme_Park].[Proc_Customer_Buy_Reservations]\n",
                "    @customer_id int,\n",
                "    @FirstName varchar(25),\n",
                "    @LastName varchar(25),\n",
                "    @Date_of_Visit datetime,\n",
                "    @Credit_Card_Number int,\n",
                "    @Ticket_Class varchar(10)\n",
                "AS\n",
                "    insert into [Theme_Park].[Ticket_Reservation]\n",
                "    (Customer_ID, FirstName, LastName, Date_Placed, Date_of_Visit, Credit_Card_Number, Ticket_Class, Expired, Price, Ticket_ID)\n",
                "    values\n",
                "    (@customer_id, @FirstName, @LastName, GETDATE(), @Date_of_Visit, @Credit_Card_Number, @Ticket_Class, 0, 11.50, null)\n",
                "go"
            ],
            "metadata": {
                "azdata_cell_guid": "fdea1c44-a5db-4e04-86bd-64fbcc8bfbd0",
                "language": "sql"
            },
            "outputs": [
                {
                    "output_type": "error",
                    "ename": "",
                    "evalue": "Msg 3701, Level 11, State 5, Line 1\nCannot drop the procedure 'Theme_Park.Proc_Customer_Buy_Reservations', because it does not exist or you do not have permission.",
                    "traceback": []
                },
                {
                    "output_type": "display_data",
                    "data": {
                        "text/html": "Commands completed successfully."
                    },
                    "metadata": {}
                },
                {
                    "output_type": "display_data",
                    "data": {
                        "text/html": "Total execution time: 00:00:00.142"
                    },
                    "metadata": {}
                }
            ],
            "execution_count": 4
        },
        {
            "cell_type": "markdown",
            "source": [
                "PROC_CUSTOMER_GET_CURRENT_RESERVATIONS: lists all current reservations"
            ],
            "metadata": {
                "azdata_cell_guid": "2117c6fd-2731-4aef-a228-41589239a671"
            },
            "attachments": {}
        },
        {
            "cell_type": "code",
            "source": [
                "drop proc [Theme_Park].[Proc_Customer_Get_Current_Reservations]\n",
                "GO\n",
                "create proc [Theme_Park].[Proc_Customer_Get_Current_Reservations]\n",
                "    @customer_id int\n",
                "AS\n",
                "    select Reservation_ID, Date_Placed, Date_of_Visit, Ticket_CLass, Price, Ticket_ID\n",
                "    from [Theme_Park].[Ticket_Reservation]\n",
                "    where Customer_ID=@customer_id\n",
                "    and Date_of_Visit >= GETDATE()\n",
                "    order by Date_Placed asc\n",
                "go"
            ],
            "metadata": {
                "azdata_cell_guid": "a142df85-6b21-4608-9efa-3da4d52c5e99",
                "language": "sql",
                "tags": []
            },
            "outputs": [
                {
                    "output_type": "error",
                    "ename": "",
                    "evalue": "Msg 3701, Level 11, State 5, Line 1\nCannot drop the procedure 'Theme_Park.Proc_Customer_Get_Current_Reservations', because it does not exist or you do not have permission.",
                    "traceback": []
                },
                {
                    "output_type": "display_data",
                    "data": {
                        "text/html": "Commands completed successfully."
                    },
                    "metadata": {}
                },
                {
                    "output_type": "display_data",
                    "data": {
                        "text/html": "Total execution time: 00:00:00.250"
                    },
                    "metadata": {}
                }
            ],
            "execution_count": 3
        },
        {
            "cell_type": "code",
            "source": [
                "drop proc [Theme_Park].[Proc_Customer_Cancel_Reservation]\n",
                "GO\n",
                "create proc [Theme_Park].[Proc_Customer_Cancel_Reservation]\n",
                "    @Reservation_ID int\n",
                "AS\n",
                "    delete from [Theme_Park].[Ticket_Reservation]\n",
                "    where Reservation_ID=@Reservation_ID\n",
                "go"
            ],
            "metadata": {
                "azdata_cell_guid": "cef9ff77-9d18-410c-964c-b4ee13a18024",
                "language": "sql"
            },
            "outputs": [
                {
                    "output_type": "error",
                    "ename": "",
                    "evalue": "Msg 3701, Level 11, State 5, Line 1\nCannot drop the procedure 'Theme_Park.Proc_Customer_Cancel_Reservation', because it does not exist or you do not have permission.",
                    "traceback": []
                },
                {
                    "output_type": "display_data",
                    "data": {
                        "text/html": "Commands completed successfully."
                    },
                    "metadata": {}
                },
                {
                    "output_type": "display_data",
                    "data": {
                        "text/html": "Total execution time: 00:00:00.144"
                    },
                    "metadata": {}
                }
            ],
            "execution_count": 28
        },
        {
            "cell_type": "code",
            "source": [
                "insert into [Theme_Park].[Customer]\n",
                "(name, cc_num, email, visit_count, username)\n",
                "values\n",
                "('Joe Blow', 7777666622221111, 'joeblow@uh.edu', 0, 'joe')\n",
                "go\n",
                "exec [Theme_Park].[Proc_Customer_Buy_Reservations] 15, 'Joe', 'Blow', '2022-11-03', 10, \"Poor\"\n",
                "go"
            ],
            "metadata": {
                "azdata_cell_guid": "c04e81ad-1970-4c54-afc0-25dc8725df93",
                "language": "sql",
                "tags": []
            },
            "outputs": [
                {
                    "output_type": "display_data",
                    "data": {
                        "text/html": "(1 row affected)"
                    },
                    "metadata": {}
                },
                {
                    "output_type": "error",
                    "ename": "",
                    "evalue": "Msg 547, Level 16, State 0, Procedure Theme_Park.Proc_Customer_Buy_Reservations, Line 9\nThe INSERT statement conflicted with the FOREIGN KEY constraint \"FK_Customer_Of_Reservation\". The conflict occurred in database \"themepark_dev\", table \"Theme_Park.Customer\", column 'customer_id'.",
                    "traceback": []
                },
                {
                    "output_type": "display_data",
                    "data": {
                        "text/html": "The statement has been terminated."
                    },
                    "metadata": {}
                },
                {
                    "output_type": "display_data",
                    "data": {
                        "text/html": "Total execution time: 00:00:00.193"
                    },
                    "metadata": {}
                }
            ],
            "execution_count": 23
        },
        {
            "cell_type": "code",
            "source": [
                "drop proc [Theme_Park].[Proc_Get_Maintenance_Notifications]\n",
                "go\n",
                "create proc [Theme_Park].[Proc_Get_Maintenance_Notifications]\n",
                "AS\n",
                "    select * from [Theme_Park].[Maintenance_Notification]\n",
                "    order by notification_id asc\n",
                "GO"
            ],
            "metadata": {
                "azdata_cell_guid": "cfbe0361-c623-4611-a751-128904cf36c0",
                "language": "sql"
            },
            "outputs": [
                {
                    "output_type": "display_data",
                    "data": {
                        "text/html": "Commands completed successfully."
                    },
                    "metadata": {}
                },
                {
                    "output_type": "display_data",
                    "data": {
                        "text/html": "Commands completed successfully."
                    },
                    "metadata": {}
                },
                {
                    "output_type": "display_data",
                    "data": {
                        "text/html": "Total execution time: 00:00:00.701"
                    },
                    "metadata": {}
                }
            ],
            "execution_count": 2
        },
        {
            "cell_type": "code",
            "source": [
                "drop proc [Theme_Park].[Proc_Mark_Maintenance_Notifications_Read]\n",
                "go\n",
                "create proc [Theme_Park].[Proc_Mark_Maintenance_Notifications_Read]\n",
                "AS\n",
                "    delete from [Theme_Park].[Maintenance_Notification]\n",
                "GO"
            ],
            "metadata": {
                "azdata_cell_guid": "c77dfe6c-17f3-4c89-bdda-3f24907aee4a",
                "language": "sql"
            },
            "outputs": [
                {
                    "output_type": "error",
                    "evalue": "Msg 3701, Level 11, State 5, Line 1\nCannot drop the procedure 'Theme_Park.Proc_Mark_Maintenance_Notifications_Read', because it does not exist or you do not have permission.",
                    "ename": "",
                    "traceback": []
                },
                {
                    "output_type": "display_data",
                    "data": {
                        "text/html": "Commands completed successfully."
                    },
                    "metadata": {}
                },
                {
                    "output_type": "display_data",
                    "data": {
                        "text/html": "Total execution time: 00:00:00.231"
                    },
                    "metadata": {}
                }
            ],
            "execution_count": 20
        },
        {
            "cell_type": "code",
            "source": [
                "drop table [Theme_Park].[Maintenance_Notification]\n",
                "go\n",
                "CREATE TABLE [Theme_Park].[Maintenance_Notification](\n",
                "\t[notification_id] [int] IDENTITY(1,1) NOT NULL,\n",
                "\t[maintenance_id] [int] NOT NULL,\n",
                "\t[completion] [datetime] NOT NULL,\n",
                "\t[billed_hours] [int] NULL,\n",
                "\t[amount] [smallmoney] NULL,\n",
                "    [maint_description] varchar(50) NULL\n",
                ") ON [PRIMARY]\n",
                "GO"
            ],
            "metadata": {
                "azdata_cell_guid": "3880c643-32aa-43e8-93ad-23f385f8f8c6",
                "language": "sql"
            },
            "outputs": [
                {
                    "output_type": "error",
                    "evalue": "Msg 3701, Level 11, State 5, Line 1\nCannot drop the table 'Theme_Park.Maintenance_Notification', because it does not exist or you do not have permission.",
                    "ename": "",
                    "traceback": []
                },
                {
                    "output_type": "display_data",
                    "data": {
                        "text/html": "Commands completed successfully."
                    },
                    "metadata": {}
                },
                {
                    "output_type": "display_data",
                    "data": {
                        "text/html": "Total execution time: 00:00:00.132"
                    },
                    "metadata": {}
                }
            ],
            "execution_count": 2
        },
        {
            "cell_type": "code",
            "source": [
                "drop proc [Theme_Park].[Proc_Aggregate_Ticket_Sales_By_Weekday]\n",
                "GO\n",
                "create proc [Theme_Park].[Proc_Aggregate_Ticket_Sales_By_Weekday]\n",
                "    @year int\n",
                "as\n",
                "    SELECT Ticket_Class, \n",
                "        COUNT(CASE WHEN DATEPART(WEEKDAY,Date) = 0 THEN 1 END) AS SUNDAY, \n",
                "        COUNT(CASE WHEN DATEPART(WEEKDAY,Date) = 1 THEN 1 END) AS MONDAY, \n",
                "        COUNT(CASE WHEN DATEPART(WEEKDAY,Date) = 2 THEN 1 END) AS TUESDAY, \n",
                "        COUNT(CASE WHEN DATEPART(WEEKDAY,Date) = 3 THEN 1 END) AS WEDNESDAY, \n",
                "        COUNT(CASE WHEN DATEPART(WEEKDAY,Date) = 4 THEN 1 END) AS THURSDAY, \n",
                "        COUNT(CASE WHEN DATEPART(WEEKDAY,Date) = 5 THEN 1 END) AS FRIDAY, \n",
                "        COUNT(CASE WHEN DATEPART(WEEKDAY,Date) = 6 THEN 1 END) AS SATURDAY\n",
                "    from \n",
                "    [Theme_Park].[Ticket]\n",
                "    where\n",
                "    DATEPART(YEAR,Date) = @year\n",
                "    group by Ticket_Class\n",
                "    order by Ticket_Class asc\n",
                "go"
            ],
            "metadata": {
                "language": "sql",
                "azdata_cell_guid": "99bc26bb-b95c-4889-a60e-29fb6a3895bd"
            },
            "outputs": [],
            "execution_count": null
        }
    ]
}