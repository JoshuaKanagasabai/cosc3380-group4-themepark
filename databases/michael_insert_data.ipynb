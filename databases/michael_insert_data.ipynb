{
    "metadata": {
        "kernelspec": {
            "name": "SQL",
            "display_name": "SQL",
            "language": "sql"
        },
        "language_info": {
            "name": "sql",
            "version": ""
        }
    },
    "nbformat_minor": 2,
    "nbformat": 4,
    "cells": [
        {
            "cell_type": "code",
            "source": [
                "select * from [Theme_Park].[Ticket]"
            ],
            "metadata": {
                "azdata_cell_guid": "99a6c83c-e423-428e-80c6-3b939f2009d4",
                "language": "sql"
            },
            "outputs": [
                {
                    "output_type": "display_data",
                    "data": {
                        "text/html": "(6 rows affected)"
                    },
                    "metadata": {}
                },
                {
                    "output_type": "display_data",
                    "data": {
                        "text/html": "Total execution time: 00:00:00.180"
                    },
                    "metadata": {}
                },
                {
                    "output_type": "execute_result",
                    "execution_count": 1,
                    "data": {
                        "application/vnd.dataresource+json": {
                            "schema": {
                                "fields": [
                                    {
                                        "name": "Ticket_ID"
                                    },
                                    {
                                        "name": "Date"
                                    },
                                    {
                                        "name": "Ticket_Class"
                                    },
                                    {
                                        "name": "Price"
                                    },
                                    {
                                        "name": "Reservation"
                                    }
                                ]
                            },
                            "data": [
                                {
                                    "0": "1",
                                    "1": "2022-10-22 00:00:00.000",
                                    "2": "Poor",
                                    "3": "11.50",
                                    "4": "NULL"
                                },
                                {
                                    "0": "2",
                                    "1": "2022-10-22 00:00:00.000",
                                    "2": "Poor",
                                    "3": "11.50",
                                    "4": "NULL"
                                },
                                {
                                    "0": "3",
                                    "1": "2022-10-29 00:00:00.000",
                                    "2": "Poor",
                                    "3": "11.50",
                                    "4": "NULL"
                                },
                                {
                                    "0": "4",
                                    "1": "2022-12-01 00:00:00.000",
                                    "2": "Poor",
                                    "3": "11.50",
                                    "4": "NULL"
                                },
                                {
                                    "0": "5",
                                    "1": "2022-12-01 00:00:00.000",
                                    "2": "Premium",
                                    "3": "11.50",
                                    "4": "NULL"
                                },
                                {
                                    "0": "6",
                                    "1": "2022-10-31 00:00:00.000",
                                    "2": "Poor",
                                    "3": "11.50",
                                    "4": "NULL"
                                }
                            ]
                        },
                        "text/html": "<table><tr><th>Ticket_ID</th><th>Date</th><th>Ticket_Class</th><th>Price</th><th>Reservation</th></tr><tr><td>1</td><td>2022-10-22 00:00:00.000</td><td>Poor</td><td>11.50</td><td>NULL</td></tr><tr><td>2</td><td>2022-10-22 00:00:00.000</td><td>Poor</td><td>11.50</td><td>NULL</td></tr><tr><td>3</td><td>2022-10-29 00:00:00.000</td><td>Poor</td><td>11.50</td><td>NULL</td></tr><tr><td>4</td><td>2022-12-01 00:00:00.000</td><td>Poor</td><td>11.50</td><td>NULL</td></tr><tr><td>5</td><td>2022-12-01 00:00:00.000</td><td>Premium</td><td>11.50</td><td>NULL</td></tr><tr><td>6</td><td>2022-10-31 00:00:00.000</td><td>Poor</td><td>11.50</td><td>NULL</td></tr></table>"
                    },
                    "metadata": {}
                }
            ],
            "execution_count": 1
        },
        {
            "cell_type": "code",
            "source": [
                "select * from [Theme_Park].[Department]"
            ],
            "metadata": {
                "language": "sql",
                "azdata_cell_guid": "d09bdce7-3f39-4577-935a-f6bbf60e96e3"
            },
            "outputs": [
                {
                    "output_type": "display_data",
                    "data": {
                        "text/html": "(0 rows affected)"
                    },
                    "metadata": {}
                },
                {
                    "output_type": "display_data",
                    "data": {
                        "text/html": "Total execution time: 00:00:00.898"
                    },
                    "metadata": {}
                },
                {
                    "output_type": "execute_result",
                    "execution_count": 5,
                    "data": {
                        "application/vnd.dataresource+json": {
                            "schema": {
                                "fields": [
                                    {
                                        "name": "dept_id"
                                    },
                                    {
                                        "name": "dept_name"
                                    },
                                    {
                                        "name": "supervisor_ssn"
                                    }
                                ]
                            },
                            "data": []
                        },
                        "text/html": "<table><tr><th>dept_id</th><th>dept_name</th><th>supervisor_ssn</th></tr></table>"
                    },
                    "metadata": {}
                }
            ],
            "execution_count": 5
        },
        {
            "cell_type": "code",
            "source": [
                "delete from [Theme_Park].[Department]\n",
                "go\n",
                "insert into [Theme_Park].[Department] (dept_name, supervisor_ssn) values\n",
                "('Admin', null),\n",
                "('Research', null)\n",
                "go"
            ],
            "metadata": {
                "language": "sql",
                "azdata_cell_guid": "af9d2231-9cc5-4ee2-b9a2-3b09d809e0bf"
            },
            "outputs": [
                {
                    "output_type": "display_data",
                    "data": {
                        "text/html": "(2 rows affected)"
                    },
                    "metadata": {}
                },
                {
                    "output_type": "display_data",
                    "data": {
                        "text/html": "(2 rows affected)"
                    },
                    "metadata": {}
                },
                {
                    "output_type": "display_data",
                    "data": {
                        "text/html": "Total execution time: 00:00:00.152"
                    },
                    "metadata": {}
                }
            ],
            "execution_count": 1
        },
        {
            "cell_type": "code",
            "source": [
                "delete from [Theme_Park].[Users]\n",
                "go\n",
                "insert into [Theme_Park].[Users] values\n",
                "('pjfry', 'slurm99', 'Maintenance'),\n",
                "('jsmith', 'p4ssw0rd', 'Manager'),\n",
                "('karen', 'mypassword', 'Customer'),\n",
                "('pam', 'thepassword', 'HR')\n",
                "go"
            ],
            "metadata": {
                "language": "sql",
                "azdata_cell_guid": "29cf439d-b881-4a91-99d4-06464af0f27d"
            },
            "outputs": [
                {
                    "output_type": "display_data",
                    "data": {
                        "text/html": "Total execution time: 00:00:00"
                    },
                    "metadata": {}
                }
            ],
            "execution_count": 8
        },
        {
            "cell_type": "code",
            "source": [
                "select * from [Theme_Park].[Users]\n",
                "go"
            ],
            "metadata": {
                "language": "sql",
                "azdata_cell_guid": "1ba0fede-7960-43e4-b39b-cd47c7620872",
                "tags": []
            },
            "outputs": [
                {
                    "output_type": "display_data",
                    "data": {
                        "text/html": "Total execution time: 00:00:00"
                    },
                    "metadata": {}
                }
            ],
            "execution_count": 11
        }
    ]
}