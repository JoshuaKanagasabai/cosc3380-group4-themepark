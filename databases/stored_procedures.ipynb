{
    "metadata": {
        "kernelspec": {
            "name": "SQL",
            "display_name": "SQL",
            "language": "sql"
        },
        "language_info": {
            "name": "sql",
            "version": ""
        }
    },
    "nbformat_minor": 2,
    "nbformat": 4,
    "cells": [
        {
            "cell_type": "markdown",
            "source": [
                "# Stored Procedure definitions:"
            ],
            "metadata": {
                "azdata_cell_guid": "10a9e241-7782-4c38-829b-c5fa92d5ca50"
            },
            "attachments": {}
        },
        {
            "cell_type": "markdown",
            "source": [
                "## HR Role\n",
                "\n",
                "- Proc_Add_Employee: Adds an employee to the database"
            ],
            "metadata": {
                "azdata_cell_guid": "13a0e6c4-4879-4b3e-b7ee-7e784482193a"
            },
            "attachments": {}
        },
        {
            "cell_type": "code",
            "source": [
                "drop proc [Theme_Park].[Proc_Add_Employee]\n",
                "go\n",
                "create proc [Theme_Park].[Proc_Add_Employee]\n",
                "    @fname varchar(20),\n",
                "    @lname varchar(20),\n",
                "    @ssn numeric(9,0),\n",
                "    @gender char,\n",
                "    @address varchar(50),\n",
                "    @phone numeric(10,0),\n",
                "    @date_joined date,\n",
                "    @dept_id int,\n",
                "    @role varchar(20),\n",
                "    @supervisor_ssn numeric(9,0),\n",
                "    @salaried bit,\n",
                "    @payrate money,\n",
                "    @vacation_days decimal(4,2)\n",
                "AS\n",
                "    INSERT INTO [Theme_Park].[Employee]\n",
                "    VALUES\n",
                "    ( @fname, @lname, @ssn, @gender, @address, @phone, @date_joined, @dept_id, @role, @supervisor_ssn, @salaried, @payrate, @vacation_days );\n",
                "GO"
            ],
            "metadata": {
                "azdata_cell_guid": "a619f5ce-0d92-4062-b75e-f4269ad69bed",
                "language": "sql"
            },
            "outputs": [
                {
                    "output_type": "display_data",
                    "data": {
                        "text/html": "Commands completed successfully."
                    },
                    "metadata": {}
                },
                {
                    "output_type": "display_data",
                    "data": {
                        "text/html": "Commands completed successfully."
                    },
                    "metadata": {}
                },
                {
                    "output_type": "display_data",
                    "data": {
                        "text/html": "Total execution time: 00:00:00.284"
                    },
                    "metadata": {}
                }
            ],
            "execution_count": 6
        },
        {
            "cell_type": "code",
            "source": [
                "exec [Theme_Park].[Proc_Add_Employee] 'Kimmy', 'Schmidt', 177889999, 'F', 'Middletown, OH', 01117777, '2022-10-24', 0, 'Heroine', 177889999, 0, 17.15, 0\n",
                "go"
            ],
            "metadata": {
                "language": "sql",
                "azdata_cell_guid": "a92e7f58-17da-4c00-833d-eecaf1c79a2a"
            },
            "outputs": [
                {
                    "output_type": "display_data",
                    "data": {
                        "text/html": "(1 row affected)"
                    },
                    "metadata": {}
                },
                {
                    "output_type": "display_data",
                    "data": {
                        "text/html": "Total execution time: 00:00:00.063"
                    },
                    "metadata": {}
                }
            ],
            "execution_count": 8
        },
        {
            "cell_type": "markdown",
            "source": [
                "## Customer entity\n",
                "\n",
                "PROC_CUSTOMER_BUY_TICKET: adds a new ticket purchase to the database"
            ],
            "metadata": {
                "azdata_cell_guid": "5efd71fc-bff0-454b-a58f-167e9d8fa5a6"
            },
            "attachments": {}
        },
        {
            "cell_type": "code",
            "source": [
                "drop proc [Theme_Park].[Proc_Customer_Buy_Ticket]\n",
                "go\n",
                "create proc [Theme_Park].[Proc_Customer_Buy_Ticket]\n",
                "    @date datetime,\n",
                "    @class varchar(10),\n",
                "    @price decimal(5,2)\n",
                "AS\n",
                "    INSERT INTO [Theme_Park].[Ticket] (Date, Ticket_Class, Price, Reservation)\n",
                "    VALUES\n",
                "    (@date, @class, @price, NULL)\n",
                "GO"
            ],
            "metadata": {
                "azdata_cell_guid": "520cf474-8f20-41ca-9478-63a65c0e8548",
                "language": "sql",
                "tags": []
            },
            "outputs": [
                {
                    "output_type": "display_data",
                    "data": {
                        "text/html": "Commands completed successfully."
                    },
                    "metadata": {}
                },
                {
                    "output_type": "display_data",
                    "data": {
                        "text/html": "Commands completed successfully."
                    },
                    "metadata": {}
                },
                {
                    "output_type": "display_data",
                    "data": {
                        "text/html": "Total execution time: 00:00:00.129"
                    },
                    "metadata": {}
                }
            ],
            "execution_count": 1
        },
        {
            "cell_type": "code",
            "source": [
                "exec [Theme_Park].[Proc_Customer_Buy_Ticket] '2022-10-22', 'Poor', 11.50\n",
                "go"
            ],
            "metadata": {
                "language": "sql",
                "azdata_cell_guid": "dd347e3a-4f02-4fc3-b0b7-ddcb8bb945bf"
            },
            "outputs": [
                {
                    "output_type": "display_data",
                    "data": {
                        "text/html": "(1 row affected)"
                    },
                    "metadata": {}
                },
                {
                    "output_type": "display_data",
                    "data": {
                        "text/html": "Total execution time: 00:00:00.534"
                    },
                    "metadata": {}
                }
            ],
            "execution_count": 2
        },
        {
            "cell_type": "markdown",
            "source": [
                "PROC_CUSTOMER_BUY_RESERVATION: buy a new ticket reservation"
            ],
            "metadata": {
                "azdata_cell_guid": "ea36b7ba-d5c0-4da8-9581-11fbbc345515"
            },
            "attachments": {}
        },
        {
            "cell_type": "code",
            "source": [
                "drop proc [Theme_Park].[Proc_Customer_Buy_Reservations]\n",
                "GO\n",
                "create proc [Theme_Park].[Proc_Customer_Buy_Reservations]\n",
                "    @customer_id int,\n",
                "    @FirstName varchar(25),\n",
                "    @LastName varchar(25),\n",
                "    @Date_of_Visit datetime,\n",
                "    @Credit_Card_Number int,\n",
                "    @Ticket_Class varchar(10)\n",
                "AS\n",
                "    insert into [Theme_Park].[Ticket_Reservation]\n",
                "    (Customer_ID, FirstName, LastName, Date_Placed, Date_of_Visit, Credit_Card_Number, Ticket_Class, Expired, Price, Ticket_ID)\n",
                "    values\n",
                "    (@customer_id, @FirstName, @LastName, GETDATE(), @Date_of_Visit, @Credit_Card_Number, @Ticket_Class, 0, 11.50, null)\n",
                "go"
            ],
            "metadata": {
                "azdata_cell_guid": "fdea1c44-a5db-4e04-86bd-64fbcc8bfbd0",
                "language": "sql"
            },
            "outputs": [
                {
                    "output_type": "error",
                    "evalue": "Msg 3701, Level 11, State 5, Line 1\nCannot drop the procedure 'Theme_Park.Proc_Customer_Buy_Reservations', because it does not exist or you do not have permission.",
                    "ename": "",
                    "traceback": []
                },
                {
                    "output_type": "display_data",
                    "data": {
                        "text/html": "Commands completed successfully."
                    },
                    "metadata": {}
                },
                {
                    "output_type": "display_data",
                    "data": {
                        "text/html": "Total execution time: 00:00:00.142"
                    },
                    "metadata": {}
                }
            ],
            "execution_count": 4
        },
        {
            "cell_type": "markdown",
            "source": [
                "PROC_CUSTOMER_GET_CURRENT_RESERVATIONS: lists all current reservations"
            ],
            "metadata": {
                "azdata_cell_guid": "2117c6fd-2731-4aef-a228-41589239a671"
            },
            "attachments": {}
        },
        {
            "cell_type": "code",
            "source": [
                "drop proc [Theme_Park].[Proc_Customer_Get_Current_Reservations]\n",
                "GO\n",
                "create proc [Theme_Park].[Proc_Customer_Get_Current_Reservations]\n",
                "    @customer_id int\n",
                "AS\n",
                "    select Reservation_ID, Date_Placed, Date_of_Visit, Ticket_CLass, Price, Ticket_ID\n",
                "    from [Theme_Park].[Ticket_Reservation]\n",
                "    where Customer_ID=@customer_id\n",
                "    and Date_of_Visit >= GETDATE()\n",
                "    order by Date_Placed asc\n",
                "go"
            ],
            "metadata": {
                "azdata_cell_guid": "a142df85-6b21-4608-9efa-3da4d52c5e99",
                "language": "sql",
                "tags": []
            },
            "outputs": [
                {
                    "output_type": "error",
                    "evalue": "Msg 3701, Level 11, State 5, Line 1\nCannot drop the procedure 'Theme_Park.Proc_Customer_Get_Current_Reservations', because it does not exist or you do not have permission.",
                    "ename": "",
                    "traceback": []
                },
                {
                    "output_type": "display_data",
                    "data": {
                        "text/html": "Commands completed successfully."
                    },
                    "metadata": {}
                },
                {
                    "output_type": "display_data",
                    "data": {
                        "text/html": "Total execution time: 00:00:00.250"
                    },
                    "metadata": {}
                }
            ],
            "execution_count": 3
        },
        {
            "cell_type": "code",
            "source": [
                "insert into [Theme_Park].[Customer]\n",
                "(name, cc_num, email, visit_count)\n",
                "values\n",
                "('Joe Blow', 7777666622221111, 'joeblow@uh.edu', 0)\n",
                "go\n",
                "exec [Theme_Park].[Proc_Customer_Buy_Reservations] 0, 'Joe', 'Blow', GETDATE(), 7777666622221111, \"Poor\"\n",
                "go"
            ],
            "metadata": {
                "azdata_cell_guid": "c04e81ad-1970-4c54-afc0-25dc8725df93",
                "language": "sql"
            },
            "outputs": [
                {
                    "output_type": "display_data",
                    "data": {
                        "text/html": "(1 row affected)"
                    },
                    "metadata": {}
                },
                {
                    "output_type": "error",
                    "evalue": "Msg 102, Level 15, State 1, Line 6\nIncorrect syntax near ')'.",
                    "ename": "",
                    "traceback": []
                },
                {
                    "output_type": "display_data",
                    "data": {
                        "text/html": "Total execution time: 00:00:00.261"
                    },
                    "metadata": {}
                }
            ],
            "execution_count": 10
        }
    ]
}