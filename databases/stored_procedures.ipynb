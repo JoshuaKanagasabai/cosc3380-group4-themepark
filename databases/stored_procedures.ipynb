{
    "metadata": {
        "kernelspec": {
            "name": "SQL",
            "display_name": "SQL",
            "language": "sql"
        },
        "language_info": {
            "name": "sql",
            "version": ""
        }
    },
    "nbformat_minor": 2,
    "nbformat": 4,
    "cells": [
        {
            "cell_type": "markdown",
            "source": [
                "# Stored Procedure definitions:"
            ],
            "metadata": {
                "azdata_cell_guid": "10a9e241-7782-4c38-829b-c5fa92d5ca50"
            },
            "attachments": {}
        },
        {
            "cell_type": "markdown",
            "source": [
                "## HR Role\n",
                "\n",
                "- Proc_Add_Employee: Adds an employee to the database"
            ],
            "metadata": {
                "azdata_cell_guid": "13a0e6c4-4879-4b3e-b7ee-7e784482193a"
            },
            "attachments": {}
        },
        {
            "cell_type": "code",
            "source": [
                "drop proc [Theme_Park].[Proc_Add_Employee]\n",
                "go\n",
                "create proc [Theme_Park].[Proc_Add_Employee]\n",
                "    @fname varchar(20),\n",
                "    @lname varchar(20),\n",
                "    @ssn numeric(9,0),\n",
                "    @gender char,\n",
                "    @address varchar(50),\n",
                "    @phone numeric(10,0),\n",
                "    @date_joined date,\n",
                "    @dept_id int,\n",
                "    @role varchar(20),\n",
                "    @supervisor_ssn numeric(9,0),\n",
                "    @salaried bit,\n",
                "    @payrate money,\n",
                "    @vacation_days decimal(4,2)\n",
                "AS\n",
                "    INSERT INTO [Theme_Park].[Employee]\n",
                "    VALUES\n",
                "    ( @fname, @lname, @ssn, @gender, @address, @phone, @date_joined, @dept_id, @role, @supervisor_ssn, @salaried, @payrate, @vacation_days );\n",
                "GO"
            ],
            "metadata": {
                "azdata_cell_guid": "a619f5ce-0d92-4062-b75e-f4269ad69bed",
                "language": "sql"
            },
            "outputs": [
                {
                    "output_type": "display_data",
                    "data": {
                        "text/html": "Commands completed successfully."
                    },
                    "metadata": {}
                },
                {
                    "output_type": "display_data",
                    "data": {
                        "text/html": "Commands completed successfully."
                    },
                    "metadata": {}
                },
                {
                    "output_type": "display_data",
                    "data": {
                        "text/html": "Total execution time: 00:00:00.284"
                    },
                    "metadata": {}
                }
            ],
            "execution_count": 6
        },
        {
            "cell_type": "code",
            "source": [
                "exec [Theme_Park].[Proc_Add_Employee] 'Kimmy', 'Schmidt', 177889999, 'F', 'Middletown, OH', 01117777, '2022-10-24', 0, 'Heroine', 177889999, 0, 17.15, 0\n",
                "go"
            ],
            "metadata": {
                "language": "sql",
                "azdata_cell_guid": "a92e7f58-17da-4c00-833d-eecaf1c79a2a"
            },
            "outputs": [
                {
                    "output_type": "display_data",
                    "data": {
                        "text/html": "(1 row affected)"
                    },
                    "metadata": {}
                },
                {
                    "output_type": "display_data",
                    "data": {
                        "text/html": "Total execution time: 00:00:00.063"
                    },
                    "metadata": {}
                }
            ],
            "execution_count": 8
        },
        {
            "cell_type": "markdown",
            "source": [
                "## Customer entity\n",
                "\n",
                "PROC_CUSTOMER_BUY_TICKET: adds a new ticket purchase to the database"
            ],
            "metadata": {
                "azdata_cell_guid": "5efd71fc-bff0-454b-a58f-167e9d8fa5a6"
            },
            "attachments": {}
        },
        {
            "cell_type": "code",
            "source": [
                "drop proc [Theme_Park].[Proc_Customer_Buy_Ticket]\n",
                "go\n",
                "create proc [Theme_Park].[Proc_Customer_Buy_Ticket]\n",
                "    @date datetime,\n",
                "    @class varchar(10),\n",
                "    @price decimal(5,2)\n",
                "AS\n",
                "    INSERT INTO [Theme_Park].[Ticket] (Date, Ticket_Class, Price, Reservation)\n",
                "    VALUES\n",
                "    (@date, @class, @price, NULL)\n",
                "GO"
            ],
            "metadata": {
                "azdata_cell_guid": "520cf474-8f20-41ca-9478-63a65c0e8548",
                "language": "sql",
                "tags": []
            },
            "outputs": [
                {
                    "output_type": "display_data",
                    "data": {
                        "text/html": "Commands completed successfully."
                    },
                    "metadata": {}
                },
                {
                    "output_type": "display_data",
                    "data": {
                        "text/html": "Commands completed successfully."
                    },
                    "metadata": {}
                },
                {
                    "output_type": "display_data",
                    "data": {
                        "text/html": "Total execution time: 00:00:00.129"
                    },
                    "metadata": {}
                }
            ],
            "execution_count": 1
        },
        {
            "cell_type": "code",
            "source": [
                "exec [Theme_Park].[Proc_Customer_Buy_Ticket] '2022-10-22', 'Poor', 11.50\n",
                "go"
            ],
            "metadata": {
                "language": "sql",
                "azdata_cell_guid": "dd347e3a-4f02-4fc3-b0b7-ddcb8bb945bf"
            },
            "outputs": [
                {
                    "output_type": "display_data",
                    "data": {
                        "text/html": "(1 row affected)"
                    },
                    "metadata": {}
                },
                {
                    "output_type": "display_data",
                    "data": {
                        "text/html": "Total execution time: 00:00:00.534"
                    },
                    "metadata": {}
                }
            ],
            "execution_count": 2
        },
        {
            "cell_type": "markdown",
            "source": [
                "PROC_CUSTOMER_BUY_RESERVATION: buy a new ticket reservation"
            ],
            "metadata": {
                "azdata_cell_guid": "ea36b7ba-d5c0-4da8-9581-11fbbc345515"
            },
            "attachments": {}
        },
        {
            "cell_type": "code",
            "source": [
                "drop proc [Theme_Park].[Proc_Customer_Buy_Reservations]\n",
                "GO\n",
                "create proc [Theme_Park].[Proc_Customer_Buy_Reservations]\n",
                "    @customer_id int,\n",
                "    @FirstName varchar(25),\n",
                "    @LastName varchar(25),\n",
                "    @Date_of_Visit datetime,\n",
                "    @Credit_Card_Number int,\n",
                "    @Ticket_Class varchar(10)\n",
                "AS\n",
                "    insert into [Theme_Park].[Ticket_Reservation]\n",
                "    (Customer_ID, FirstName, LastName, Date_Placed, Date_of_Visit, Credit_Card_Number, Ticket_Class, Expired, Price, Ticket_ID)\n",
                "    values\n",
                "    (@customer_id, @FirstName, @LastName, GETDATE(), @Date_of_Visit, @Credit_Card_Number, @Ticket_Class, 0, 11.50, null)\n",
                "go"
            ],
            "metadata": {
                "azdata_cell_guid": "fdea1c44-a5db-4e04-86bd-64fbcc8bfbd0",
                "language": "sql"
            },
            "outputs": [
                {
                    "output_type": "error",
                    "ename": "",
                    "evalue": "Msg 3701, Level 11, State 5, Line 1\nCannot drop the procedure 'Theme_Park.Proc_Customer_Buy_Reservations', because it does not exist or you do not have permission.",
                    "traceback": []
                },
                {
                    "output_type": "display_data",
                    "data": {
                        "text/html": "Commands completed successfully."
                    },
                    "metadata": {}
                },
                {
                    "output_type": "display_data",
                    "data": {
                        "text/html": "Total execution time: 00:00:00.142"
                    },
                    "metadata": {}
                }
            ],
            "execution_count": 4
        },
        {
            "cell_type": "markdown",
            "source": [
                "PROC_CUSTOMER_GET_CURRENT_RESERVATIONS: lists all current reservations"
            ],
            "metadata": {
                "azdata_cell_guid": "2117c6fd-2731-4aef-a228-41589239a671"
            },
            "attachments": {}
        },
        {
            "cell_type": "code",
            "source": [
                "drop proc [Theme_Park].[Proc_Customer_Get_Current_Reservations]\n",
                "GO\n",
                "create proc [Theme_Park].[Proc_Customer_Get_Current_Reservations]\n",
                "    @customer_id int\n",
                "AS\n",
                "    select Reservation_ID, Date_Placed, Date_of_Visit, Ticket_CLass, Price, Ticket_ID\n",
                "    from [Theme_Park].[Ticket_Reservation]\n",
                "    where Customer_ID=@customer_id\n",
                "    and Date_of_Visit >= GETDATE()\n",
                "    order by Date_Placed asc\n",
                "go"
            ],
            "metadata": {
                "azdata_cell_guid": "a142df85-6b21-4608-9efa-3da4d52c5e99",
                "language": "sql",
                "tags": []
            },
            "outputs": [
                {
                    "output_type": "error",
                    "ename": "",
                    "evalue": "Msg 3701, Level 11, State 5, Line 1\nCannot drop the procedure 'Theme_Park.Proc_Customer_Get_Current_Reservations', because it does not exist or you do not have permission.",
                    "traceback": []
                },
                {
                    "output_type": "display_data",
                    "data": {
                        "text/html": "Commands completed successfully."
                    },
                    "metadata": {}
                },
                {
                    "output_type": "display_data",
                    "data": {
                        "text/html": "Total execution time: 00:00:00.250"
                    },
                    "metadata": {}
                }
            ],
            "execution_count": 3
        },
        {
            "cell_type": "code",
            "source": [
                "drop proc [Theme_Park].[Proc_Customer_Cancel_Reservation]\n",
                "GO\n",
                "create proc [Theme_Park].[Proc_Customer_Cancel_Reservation]\n",
                "    @Reservation_ID int\n",
                "AS\n",
                "    delete from [Theme_Park].[Ticket_Reservation]\n",
                "    where Reservation_ID=@Reservation_ID\n",
                "go"
            ],
            "metadata": {
                "azdata_cell_guid": "cef9ff77-9d18-410c-964c-b4ee13a18024",
                "language": "sql"
            },
            "outputs": [
                {
                    "output_type": "error",
                    "ename": "",
                    "evalue": "Msg 3701, Level 11, State 5, Line 1\nCannot drop the procedure 'Theme_Park.Proc_Customer_Cancel_Reservation', because it does not exist or you do not have permission.",
                    "traceback": []
                },
                {
                    "output_type": "display_data",
                    "data": {
                        "text/html": "Commands completed successfully."
                    },
                    "metadata": {}
                },
                {
                    "output_type": "display_data",
                    "data": {
                        "text/html": "Total execution time: 00:00:00.144"
                    },
                    "metadata": {}
                }
            ],
            "execution_count": 28
        },
        {
            "cell_type": "code",
            "source": [
                "insert into [Theme_Park].[Customer]\n",
                "(name, cc_num, email, visit_count, username)\n",
                "values\n",
                "('Joe Blow', 7777666622221111, 'joeblow@uh.edu', 0, 'joe')\n",
                "go\n",
                "exec [Theme_Park].[Proc_Customer_Buy_Reservations] 15, 'Joe', 'Blow', '2022-11-03', 10, \"Poor\"\n",
                "go"
            ],
            "metadata": {
                "azdata_cell_guid": "c04e81ad-1970-4c54-afc0-25dc8725df93",
                "language": "sql",
                "tags": []
            },
            "outputs": [
                {
                    "output_type": "display_data",
                    "data": {
                        "text/html": "(1 row affected)"
                    },
                    "metadata": {}
                },
                {
                    "output_type": "error",
                    "ename": "",
                    "evalue": "Msg 547, Level 16, State 0, Procedure Theme_Park.Proc_Customer_Buy_Reservations, Line 9\nThe INSERT statement conflicted with the FOREIGN KEY constraint \"FK_Customer_Of_Reservation\". The conflict occurred in database \"themepark_dev\", table \"Theme_Park.Customer\", column 'customer_id'.",
                    "traceback": []
                },
                {
                    "output_type": "display_data",
                    "data": {
                        "text/html": "The statement has been terminated."
                    },
                    "metadata": {}
                },
                {
                    "output_type": "display_data",
                    "data": {
                        "text/html": "Total execution time: 00:00:00.193"
                    },
                    "metadata": {}
                }
            ],
            "execution_count": 23
        },
        {
            "cell_type": "code",
            "source": [
                "exec [Theme_Park].[Proc_Customer_Buy_Reservations] 15, 'Joe', 'Blow', '2022-11-03', 10, \"Poor\"\n",
                "go"
            ],
            "metadata": {
                "language": "sql",
                "azdata_cell_guid": "8e55afc8-d5a6-4868-9734-9d1d4d4f8d05"
            },
            "outputs": [
                {
                    "output_type": "display_data",
                    "data": {
                        "text/html": "(1 row affected)"
                    },
                    "metadata": {}
                },
                {
                    "output_type": "display_data",
                    "data": {
                        "text/html": "Total execution time: 00:00:00.189"
                    },
                    "metadata": {}
                }
            ],
            "execution_count": 24
        },
        {
            "cell_type": "code",
            "source": [
                "exec [Theme_Park].[Proc_Customer_Get_Current_Reservations] 16"
            ],
            "metadata": {
                "language": "sql",
                "azdata_cell_guid": "8cd02639-f22c-480e-bb99-6a1ae36e29f6"
            },
            "outputs": [
                {
                    "output_type": "display_data",
                    "data": {
                        "text/html": "(0 rows affected)"
                    },
                    "metadata": {}
                },
                {
                    "output_type": "display_data",
                    "data": {
                        "text/html": "Total execution time: 00:00:00.057"
                    },
                    "metadata": {}
                },
                {
                    "output_type": "execute_result",
                    "execution_count": 32,
                    "data": {
                        "application/vnd.dataresource+json": {
                            "schema": {
                                "fields": [
                                    {
                                        "name": "Reservation_ID"
                                    },
                                    {
                                        "name": "Date_Placed"
                                    },
                                    {
                                        "name": "Date_of_Visit"
                                    },
                                    {
                                        "name": "Ticket_CLass"
                                    },
                                    {
                                        "name": "Price"
                                    },
                                    {
                                        "name": "Ticket_ID"
                                    }
                                ]
                            },
                            "data": []
                        },
                        "text/html": "<table><tr><th>Reservation_ID</th><th>Date_Placed</th><th>Date_of_Visit</th><th>Ticket_CLass</th><th>Price</th><th>Ticket_ID</th></tr></table>"
                    },
                    "metadata": {}
                }
            ],
            "execution_count": 32
        },
        {
            "cell_type": "code",
            "source": [
                "select customer_id from [Theme_Park].[Customer] where username='karen';"
            ],
            "metadata": {
                "language": "sql",
                "azdata_cell_guid": "4585da92-5797-4d95-bda6-e1f733514f9e"
            },
            "outputs": [
                {
                    "output_type": "display_data",
                    "data": {
                        "text/html": "(0 rows affected)"
                    },
                    "metadata": {}
                },
                {
                    "output_type": "display_data",
                    "data": {
                        "text/html": "Total execution time: 00:00:00.133"
                    },
                    "metadata": {}
                },
                {
                    "output_type": "execute_result",
                    "execution_count": 35,
                    "data": {
                        "application/vnd.dataresource+json": {
                            "schema": {
                                "fields": [
                                    {
                                        "name": "customer_id"
                                    }
                                ]
                            },
                            "data": []
                        },
                        "text/html": "<table><tr><th>customer_id</th></tr></table>"
                    },
                    "metadata": {}
                }
            ],
            "execution_count": 35
        },
        {
            "cell_type": "code",
            "source": [
                "exec [Theme_Park].[Proc_Customer_Cancel_Reservation] 13"
            ],
            "metadata": {
                "language": "sql",
                "azdata_cell_guid": "83b23c1f-fcbb-4a8b-870e-e608d69d182e"
            },
            "outputs": [
                {
                    "output_type": "display_data",
                    "data": {
                        "text/html": "(1 row affected)"
                    },
                    "metadata": {}
                },
                {
                    "output_type": "display_data",
                    "data": {
                        "text/html": "Total execution time: 00:00:00.063"
                    },
                    "metadata": {}
                }
            ],
            "execution_count": 29
        },
        {
            "cell_type": "code",
            "source": [
                "drop proc [Theme_Park].[Proc_Get_Maintenance_Notifications]\n",
                "go\n",
                "create proc [Theme_Park].[Proc_Get_Maintenance_Notifications]\n",
                "AS\n",
                "    select * from [Theme_Park].[Maintenance_Notifications]\n",
                "GO"
            ],
            "metadata": {
                "azdata_cell_guid": "cfbe0361-c623-4611-a751-128904cf36c0",
                "language": "sql",
                "tags": []
            },
            "outputs": [
                {
                    "output_type": "display_data",
                    "data": {
                        "text/html": "Commands completed successfully."
                    },
                    "metadata": {}
                },
                {
                    "output_type": "display_data",
                    "data": {
                        "text/html": "Commands completed successfully."
                    },
                    "metadata": {}
                },
                {
                    "output_type": "display_data",
                    "data": {
                        "text/html": "Total execution time: 00:00:00.107"
                    },
                    "metadata": {}
                }
            ],
            "execution_count": 11
        },
        {
            "cell_type": "code",
            "source": [
                "drop proc [Theme_Park].[Proc_Get_Manager_Notifications]\n",
                "go\n",
                "create proc [Theme_Park].[Proc_Get_Manager_Notifications]\n",
                "    @username varchar(20)\n",
                "as\n",
                "    select * from [Theme_Park].[Manager_Notifications]\n",
                "    where manager_ssn = (select ssn from [Theme_Park].[Employee] as E, [Theme_Park].[Users] as U where E.db_user = U.db_user and U.db_user=@username)\n",
                "go"
            ],
            "metadata": {
                "language": "sql",
                "azdata_cell_guid": "3967b666-cab7-4f8d-a91e-f6af3a722089"
            },
            "outputs": [
                {
                    "output_type": "error",
                    "evalue": "Msg 3701, Level 11, State 5, Line 1\nCannot drop the procedure 'Theme_Park.Proc_Get_Manager_Notifications', because it does not exist or you do not have permission.",
                    "ename": "",
                    "traceback": []
                },
                {
                    "output_type": "error",
                    "evalue": "Msg 207, Level 16, State 1, Procedure Proc_Get_Manager_Notifications, Line 6\nInvalid column name 'dept_id'.",
                    "ename": "",
                    "traceback": []
                },
                {
                    "output_type": "display_data",
                    "data": {
                        "text/html": "Total execution time: 00:00:00.101"
                    },
                    "metadata": {}
                }
            ],
            "execution_count": 15
        },
        {
            "cell_type": "code",
            "source": [
                "exec [Theme_Park].[Proc_Get_Manager_Notifications] 'fernando'"
            ],
            "metadata": {
                "language": "sql",
                "azdata_cell_guid": "e417b846-d1bc-46c7-bb41-1bc0df5062d4"
            },
            "outputs": [
                {
                    "output_type": "display_data",
                    "data": {
                        "text/html": "(6 rows affected)"
                    },
                    "metadata": {}
                },
                {
                    "output_type": "display_data",
                    "data": {
                        "text/html": "Total execution time: 00:00:00.056"
                    },
                    "metadata": {}
                },
                {
                    "output_type": "execute_result",
                    "metadata": {},
                    "execution_count": 13,
                    "data": {
                        "application/vnd.dataresource+json": {
                            "schema": {
                                "fields": [
                                    {
                                        "name": "manager_ssn"
                                    },
                                    {
                                        "name": "employee_fname"
                                    },
                                    {
                                        "name": "employee_lname"
                                    },
                                    {
                                        "name": "dept_id"
                                    },
                                    {
                                        "name": "role"
                                    },
                                    {
                                        "name": "payrate"
                                    },
                                    {
                                        "name": "salaried"
                                    },
                                    {
                                        "name": "super_fname"
                                    },
                                    {
                                        "name": "super_lname"
                                    },
                                    {
                                        "name": "type"
                                    }
                                ]
                            },
                            "data": [
                                {
                                    "0": "123456788",
                                    "1": "Mario",
                                    "2": "Mario",
                                    "3": "1",
                                    "4": "Plumber",
                                    "5": "7.99",
                                    "6": "0",
                                    "7": "Fernando",
                                    "8": "Recinos",
                                    "9": "P"
                                },
                                {
                                    "0": "123456788",
                                    "1": "Mario",
                                    "2": "Mario",
                                    "3": "1",
                                    "4": "Plumber",
                                    "5": "7.99",
                                    "6": "0",
                                    "7": "Fernando",
                                    "8": "Recinos",
                                    "9": "P"
                                },
                                {
                                    "0": "123456788",
                                    "1": "Mario",
                                    "2": "Mario",
                                    "3": "1",
                                    "4": "Plumber",
                                    "5": "7.99",
                                    "6": "0",
                                    "7": "Fernando",
                                    "8": "Recinos",
                                    "9": "R"
                                },
                                {
                                    "0": "123456788",
                                    "1": "Mario",
                                    "2": "Mario",
                                    "3": "1",
                                    "4": "Plumber",
                                    "5": "7.99",
                                    "6": "0",
                                    "7": "Fernando",
                                    "8": "Recinos",
                                    "9": "R"
                                },
                                {
                                    "0": "123456788",
                                    "1": "Mario",
                                    "2": "Mario",
                                    "3": "2",
                                    "4": "Plumber",
                                    "5": "7.99",
                                    "6": "0",
                                    "7": "Fernando",
                                    "8": "Recinos",
                                    "9": "R"
                                },
                                {
                                    "0": "123456788",
                                    "1": "Mario",
                                    "2": "Mario",
                                    "3": "2",
                                    "4": "Plumber",
                                    "5": "30000.00",
                                    "6": "1",
                                    "7": "Fernando",
                                    "8": "Recinos",
                                    "9": "P"
                                }
                            ]
                        },
                        "text/html": [
                            "<table>",
                            "<tr><th>manager_ssn</th><th>employee_fname</th><th>employee_lname</th><th>dept_id</th><th>role</th><th>payrate</th><th>salaried</th><th>super_fname</th><th>super_lname</th><th>type</th></tr>",
                            "<tr><td>123456788</td><td>Mario</td><td>Mario</td><td>1</td><td>Plumber</td><td>7.99</td><td>0</td><td>Fernando</td><td>Recinos</td><td>P</td></tr>",
                            "<tr><td>123456788</td><td>Mario</td><td>Mario</td><td>1</td><td>Plumber</td><td>7.99</td><td>0</td><td>Fernando</td><td>Recinos</td><td>P</td></tr>",
                            "<tr><td>123456788</td><td>Mario</td><td>Mario</td><td>1</td><td>Plumber</td><td>7.99</td><td>0</td><td>Fernando</td><td>Recinos</td><td>R</td></tr>",
                            "<tr><td>123456788</td><td>Mario</td><td>Mario</td><td>1</td><td>Plumber</td><td>7.99</td><td>0</td><td>Fernando</td><td>Recinos</td><td>R</td></tr>",
                            "<tr><td>123456788</td><td>Mario</td><td>Mario</td><td>2</td><td>Plumber</td><td>7.99</td><td>0</td><td>Fernando</td><td>Recinos</td><td>R</td></tr>",
                            "<tr><td>123456788</td><td>Mario</td><td>Mario</td><td>2</td><td>Plumber</td><td>30000.00</td><td>1</td><td>Fernando</td><td>Recinos</td><td>P</td></tr>",
                            "</table>"
                        ]
                    }
                }
            ],
            "execution_count": 13
        },
        {
            "cell_type": "code",
            "source": [
                "alter table [Theme_Park].[Employee]\n",
                "add db_user varchar(20) null\n",
                "go\n",
                "alter table [Theme_Park].[Employee]\n",
                "add constraint FK_Employee_Username\n",
                "foreign key (db_user) references [Theme_Park].[Users] (db_user)\n",
                "go"
            ],
            "metadata": {
                "language": "sql",
                "azdata_cell_guid": "87f74dad-8dbe-449d-a20b-0f37b1d70cae"
            },
            "outputs": [
                {
                    "output_type": "error",
                    "evalue": "Msg 2705, Level 16, State 4, Line 1\nColumn names in each table must be unique. Column name 'db_user' in table 'Theme_Park.Employee' is specified more than once.",
                    "ename": "",
                    "traceback": []
                },
                {
                    "output_type": "display_data",
                    "data": {
                        "text/html": "Commands completed successfully."
                    },
                    "metadata": {}
                },
                {
                    "output_type": "display_data",
                    "data": {
                        "text/html": "Total execution time: 00:00:00.227"
                    },
                    "metadata": {}
                }
            ],
            "execution_count": 3
        }
    ]
}