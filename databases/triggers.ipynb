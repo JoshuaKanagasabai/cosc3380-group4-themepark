{
    "metadata": {
        "kernelspec": {
            "name": "SQL",
            "display_name": "SQL",
            "language": "sql"
        },
        "language_info": {
            "name": "sql",
            "version": ""
        }
    },
    "nbformat_minor": 2,
    "nbformat": 4,
    "cells": [
        {
            "cell_type": "code",
            "source": [
                "delete from [Theme_Park].[Maintenance_Calendar]\n",
                "go\n",
                "drop table [Theme_Park].[Maintenance_Notification]\n",
                "go\n",
                "create table [Theme_Park].[Maintenance_Notification]\n",
                "(\n",
                "    notification_id int identity(1,1),\n",
                "    maintenance_id int not null,\n",
                "    completion datetime not null,\n",
                "    billed_hours int,\n",
                "    amount smallmoney,\n",
                ")"
            ],
            "metadata": {
                "language": "sql",
                "azdata_cell_guid": "e349276c-932f-47f9-8b67-b1946442daa1"
            },
            "outputs": [
                {
                    "output_type": "error",
                    "ename": "",
                    "evalue": "Msg 3701, Level 11, State 5, Line 1\nCannot drop the table 'Theme_Park.Maintenance_Notification', because it does not exist or you do not have permission.",
                    "traceback": []
                },
                {
                    "output_type": "display_data",
                    "data": {
                        "text/html": "Commands completed successfully."
                    },
                    "metadata": {}
                },
                {
                    "output_type": "display_data",
                    "data": {
                        "text/html": "Total execution time: 00:00:00.121"
                    },
                    "metadata": {}
                }
            ],
            "execution_count": 1
        },
        {
            "cell_type": "markdown",
            "source": [
                "## Trigger TRIGGER_MANAGER_NOTIFICATION_ON_MAINTENANCE_COMPLETION:\n",
                "\n",
                "This trigger is intended to create notification entries whenever a maintenance event is updated or inserted\n",
                "with a completion time set. These notifications have \n",
                ""
            ],
            "metadata": {
                "azdata_cell_guid": "27a0ad47-c5f7-4e10-9d1a-22e7f8fc6b6f"
            },
            "attachments": {}
        },
        {
            "cell_type": "code",
            "source": [
                "drop trigger [Theme_Park].[Trigger_Manager_Notification_On_Maintenance_Completion]\n",
                "go\n",
                "create trigger [Theme_Park].[Trigger_Manager_Notification_On_Maintenance_Completion]\n",
                "on [Theme_Park].[Maintenance_Calendar]\n",
                "after insert,update\n",
                "as\n",
                "BEGIN\n",
                "    set nocount on\n",
                "    declare \n",
                "        @id int,\n",
                "        @Completion_Date datetime,\n",
                "        @Hours int,\n",
                "        @Amount smallmoney,\n",
                "        @Description varchar(50)\n",
                "    declare cur cursor read_only for \n",
                "        select Maint_ID, Maint_Completion, Billed_Hours, Invoice_amount, Maint_Description from inserted\n",
                "    open cur\n",
                "    fetch next from cur into @id, @Completion_Date, @Hours, @Amount, @Description\n",
                "    while @@fetch_status = 0\n",
                "    begin\n",
                "        if (@Completion_Date is not null)\n",
                "        begin\n",
                "            insert into [Theme_Park].[Maintenance_Notification]\n",
                "            values (@id, @Completion_Date, @Hours, @Amount, @Description)\n",
                "        end\n",
                "        fetch next from cur into @id, @Completion_Date, @Hours, @Amount, @Description\n",
                "    end\n",
                "    close cur\n",
                "    deallocate cur\n",
                "end\n",
                "    "
            ],
            "metadata": {
                "azdata_cell_guid": "9d4136cb-be9d-41b8-9124-eb817b8648c5",
                "language": "sql"
            },
            "outputs": [
                {
                    "output_type": "display_data",
                    "data": {
                        "text/html": "Commands completed successfully."
                    },
                    "metadata": {}
                },
                {
                    "output_type": "display_data",
                    "data": {
                        "text/html": "Commands completed successfully."
                    },
                    "metadata": {}
                },
                {
                    "output_type": "display_data",
                    "data": {
                        "text/html": "Total execution time: 00:00:00.156"
                    },
                    "metadata": {}
                }
            ],
            "execution_count": 1
        },
        {
            "cell_type": "code",
            "source": [
                "insert into [Theme_Park].[Maintenance_Calendar]\n",
                "(Occurence_datetime, Priority, Maint_Start, Maint_Completion, Billed_Hours, Invoice_amount)\n",
                "values\n",
                "(\n",
                "    GETDATE(), 'ASAP', GETDATE(), GETDATE(), 1, 1130.50 \n",
                ")"
            ],
            "metadata": {
                "azdata_cell_guid": "3d3ee4e0-6e1d-498a-99f5-9bc11be5a411",
                "language": "sql"
            },
            "outputs": [
                {
                    "output_type": "display_data",
                    "data": {
                        "text/html": "(1 row affected)"
                    },
                    "metadata": {}
                },
                {
                    "output_type": "display_data",
                    "data": {
                        "text/html": "Total execution time: 00:00:00.061"
                    },
                    "metadata": {}
                }
            ],
            "execution_count": 4
        },
        {
            "cell_type": "code",
            "source": [
                "insert into [Theme_Park].[Maintenance_Calendar]\n",
                "(Occurence_datetime, Priority, Maint_Start)\n",
                "values\n",
                "(\n",
                "    GETDATE(), 'ASAP', GETDATE()\n",
                ")"
            ],
            "metadata": {
                "language": "sql",
                "azdata_cell_guid": "1ae8ff81-2ed5-4000-a2d3-4599f210327c",
                "tags": []
            },
            "outputs": [
                {
                    "output_type": "display_data",
                    "data": {
                        "text/html": "(1 row affected)"
                    },
                    "metadata": {}
                },
                {
                    "output_type": "display_data",
                    "data": {
                        "text/html": "Total execution time: 00:00:00.053"
                    },
                    "metadata": {}
                }
            ],
            "execution_count": 8
        },
        {
            "cell_type": "code",
            "source": [
                "update [Theme_Park].[Maintenance_Calendar]\n",
                "set Maint_Completion = GETDATE()\n",
                "where Maint_ID = 3\n",
                "go"
            ],
            "metadata": {
                "language": "sql",
                "azdata_cell_guid": "b1bea9ed-1378-4560-b410-8f270100f7a2"
            },
            "outputs": [
                {
                    "output_type": "display_data",
                    "data": {
                        "text/html": "(1 row affected)"
                    },
                    "metadata": {}
                },
                {
                    "output_type": "display_data",
                    "data": {
                        "text/html": "Total execution time: 00:00:00.058"
                    },
                    "metadata": {}
                }
            ],
            "execution_count": 12
        },
        {
            "cell_type": "code",
            "source": [
                "select * from [Theme_Park].[Maintenance_Notification]"
            ],
            "metadata": {
                "language": "sql",
                "azdata_cell_guid": "b899c83c-bda4-41a3-9b34-980b5095fbdb"
            },
            "outputs": [
                {
                    "output_type": "display_data",
                    "data": {
                        "text/html": "(15 rows affected)"
                    },
                    "metadata": {}
                },
                {
                    "output_type": "display_data",
                    "data": {
                        "text/html": "Total execution time: 00:00:00.061"
                    },
                    "metadata": {}
                },
                {
                    "output_type": "execute_result",
                    "execution_count": 9,
                    "data": {
                        "application/vnd.dataresource+json": {
                            "schema": {
                                "fields": [
                                    {
                                        "name": "notification_id"
                                    },
                                    {
                                        "name": "maintenance_id"
                                    },
                                    {
                                        "name": "completion"
                                    },
                                    {
                                        "name": "billed_hours"
                                    },
                                    {
                                        "name": "amount"
                                    }
                                ]
                            },
                            "data": [
                                {
                                    "0": "1",
                                    "1": "1",
                                    "2": "2022-11-02 18:22:44.457",
                                    "3": "1",
                                    "4": "1130.50"
                                },
                                {
                                    "0": "2",
                                    "1": "2",
                                    "2": "2022-11-02 18:22:50.080",
                                    "3": "1",
                                    "4": "1130.50"
                                },
                                {
                                    "0": "3",
                                    "1": "3",
                                    "2": "2022-11-02 18:26:44.707",
                                    "3": "NULL",
                                    "4": "NULL"
                                },
                                {
                                    "0": "4",
                                    "1": "3",
                                    "2": "2022-11-02 18:26:53.157",
                                    "3": "NULL",
                                    "4": "NULL"
                                },
                                {
                                    "0": "5",
                                    "1": "13",
                                    "2": "2022-11-03 00:47:21.440",
                                    "3": "1",
                                    "4": "1.00"
                                },
                                {
                                    "0": "6",
                                    "1": "13",
                                    "2": "2022-11-03 00:48:10.653",
                                    "3": "1",
                                    "4": "1.00"
                                },
                                {
                                    "0": "7",
                                    "1": "13",
                                    "2": "2022-11-03 00:48:28.907",
                                    "3": "1",
                                    "4": "1.00"
                                },
                                {
                                    "0": "12",
                                    "1": "16",
                                    "2": "2022-11-03 00:00:00.000",
                                    "3": "5",
                                    "4": "5.00"
                                },
                                {
                                    "0": "15",
                                    "1": "21",
                                    "2": "2022-11-03 00:00:00.000",
                                    "3": "3",
                                    "4": "2.00"
                                },
                                {
                                    "0": "8",
                                    "1": "13",
                                    "2": "2022-11-03 00:48:48.937",
                                    "3": "1",
                                    "4": "1.00"
                                },
                                {
                                    "0": "9",
                                    "1": "13",
                                    "2": "2022-11-03 00:49:16.653",
                                    "3": "2",
                                    "4": "2.00"
                                },
                                {
                                    "0": "10",
                                    "1": "13",
                                    "2": "2022-11-03 00:50:01.873",
                                    "3": "2",
                                    "4": "420.69"
                                },
                                {
                                    "0": "13",
                                    "1": "17",
                                    "2": "2022-11-03 00:00:00.000",
                                    "3": "2",
                                    "4": "145.00"
                                },
                                {
                                    "0": "14",
                                    "1": "20",
                                    "2": "2022-11-03 00:00:00.000",
                                    "3": "3",
                                    "4": "100.00"
                                },
                                {
                                    "0": "11",
                                    "1": "14",
                                    "2": "2022-11-03 17:24:22.650",
                                    "3": "2",
                                    "4": "12.12"
                                }
                            ]
                        },
                        "text/html": "<table><tr><th>notification_id</th><th>maintenance_id</th><th>completion</th><th>billed_hours</th><th>amount</th></tr><tr><td>1</td><td>1</td><td>2022-11-02 18:22:44.457</td><td>1</td><td>1130.50</td></tr><tr><td>2</td><td>2</td><td>2022-11-02 18:22:50.080</td><td>1</td><td>1130.50</td></tr><tr><td>3</td><td>3</td><td>2022-11-02 18:26:44.707</td><td>NULL</td><td>NULL</td></tr><tr><td>4</td><td>3</td><td>2022-11-02 18:26:53.157</td><td>NULL</td><td>NULL</td></tr><tr><td>5</td><td>13</td><td>2022-11-03 00:47:21.440</td><td>1</td><td>1.00</td></tr><tr><td>6</td><td>13</td><td>2022-11-03 00:48:10.653</td><td>1</td><td>1.00</td></tr><tr><td>7</td><td>13</td><td>2022-11-03 00:48:28.907</td><td>1</td><td>1.00</td></tr><tr><td>12</td><td>16</td><td>2022-11-03 00:00:00.000</td><td>5</td><td>5.00</td></tr><tr><td>15</td><td>21</td><td>2022-11-03 00:00:00.000</td><td>3</td><td>2.00</td></tr><tr><td>8</td><td>13</td><td>2022-11-03 00:48:48.937</td><td>1</td><td>1.00</td></tr><tr><td>9</td><td>13</td><td>2022-11-03 00:49:16.653</td><td>2</td><td>2.00</td></tr><tr><td>10</td><td>13</td><td>2022-11-03 00:50:01.873</td><td>2</td><td>420.69</td></tr><tr><td>13</td><td>17</td><td>2022-11-03 00:00:00.000</td><td>2</td><td>145.00</td></tr><tr><td>14</td><td>20</td><td>2022-11-03 00:00:00.000</td><td>3</td><td>100.00</td></tr><tr><td>11</td><td>14</td><td>2022-11-03 17:24:22.650</td><td>2</td><td>12.12</td></tr></table>"
                    },
                    "metadata": {}
                }
            ],
            "execution_count": 9
        },
        {
            "cell_type": "code",
            "source": [
                "declare @date datetime = GETDATE()\n",
                "exec [Theme_Park].[Proc_Add_Maint] @date, null, null, 'Urgent', @date\n",
                "go "
            ],
            "metadata": {
                "azdata_cell_guid": "6f759f0b-e38b-4317-a690-0a2b30ed0766",
                "language": "sql"
            },
            "outputs": [
                {
                    "output_type": "display_data",
                    "data": {
                        "text/html": "(1 row affected)"
                    },
                    "metadata": {}
                },
                {
                    "output_type": "display_data",
                    "data": {
                        "text/html": "Total execution time: 00:00:00.086"
                    },
                    "metadata": {}
                }
            ],
            "execution_count": 16
        },
        {
            "cell_type": "code",
            "source": [
                "select * from [Theme_Park].[Maintenance_Calendar]\n",
                "go\n",
                "select * from [Theme_Park].[Attractions]\n",
                "GO\n",
                "select * from [Theme_Park].[Vendor]\n",
                "go\n",
                "select * from [Theme_Park].[Department]\n",
                "go\n",
                "select * from [Theme_Park].[Ticket]\n",
                "go\n",
                "select * from [Theme_Park].[Merchandise_Sale]\n",
                "go\n",
                "select * from [Theme_Park].[Merchandise]\n",
                "go\n",
                "select * from [Theme_Park].[Employee]\n",
                "go"
            ],
            "metadata": {
                "language": "sql",
                "azdata_cell_guid": "67a4aa41-1e0d-4f47-9325-5ece7e0ee062"
            },
            "outputs": [
                {
                    "output_type": "display_data",
                    "data": {
                        "text/html": "(16 rows affected)"
                    },
                    "metadata": {}
                },
                {
                    "output_type": "display_data",
                    "data": {
                        "text/html": "(1 row affected)"
                    },
                    "metadata": {}
                },
                {
                    "output_type": "display_data",
                    "data": {
                        "text/html": "(1 row affected)"
                    },
                    "metadata": {}
                },
                {
                    "output_type": "display_data",
                    "data": {
                        "text/html": "(4 rows affected)"
                    },
                    "metadata": {}
                },
                {
                    "output_type": "display_data",
                    "data": {
                        "text/html": "(322 rows affected)"
                    },
                    "metadata": {}
                },
                {
                    "output_type": "display_data",
                    "data": {
                        "text/html": "(100 rows affected)"
                    },
                    "metadata": {}
                },
                {
                    "output_type": "display_data",
                    "data": {
                        "text/html": "(5 rows affected)"
                    },
                    "metadata": {}
                },
                {
                    "output_type": "display_data",
                    "data": {
                        "text/html": "(2 rows affected)"
                    },
                    "metadata": {}
                },
                {
                    "output_type": "display_data",
                    "data": {
                        "text/html": "Total execution time: 00:00:00.659"
                    },
                    "metadata": {}
                },
                {
                    "output_type": "execute_result",
                    "execution_count": 8,
                    "data": {
                        "application/vnd.dataresource+json": {
                            "schema": {
                                "fields": [
                                    {
                                        "name": "Maint_ID"
                                    },
                                    {
                                        "name": "Occurence_datetime"
                                    },
                                    {
                                        "name": "Vendor_ID"
                                    },
                                    {
                                        "name": "Attraction_ID"
                                    },
                                    {
                                        "name": "Priority"
                                    },
                                    {
                                        "name": "Maint_Start"
                                    },
                                    {
                                        "name": "Maint_Completion"
                                    },
                                    {
                                        "name": "Billed_Hours"
                                    },
                                    {
                                        "name": "Invoice_amount"
                                    },
                                    {
                                        "name": "Scanned_invoice"
                                    }
                                ]
                            },
                            "data": [
                                {
                                    "0": "1",
                                    "1": "2022-11-02 18:22:44.457",
                                    "2": "NULL",
                                    "3": "NULL",
                                    "4": "ASAP",
                                    "5": "2022-11-02 18:22:44.457",
                                    "6": "2022-11-02 18:22:44.457",
                                    "7": "1",
                                    "8": "1130.50",
                                    "9": "NULL"
                                },
                                {
                                    "0": "2",
                                    "1": "2022-11-02 18:22:50.080",
                                    "2": "NULL",
                                    "3": "NULL",
                                    "4": "ASAP",
                                    "5": "2022-11-02 18:22:50.080",
                                    "6": "2022-11-02 18:22:50.080",
                                    "7": "1",
                                    "8": "1130.50",
                                    "9": "NULL"
                                },
                                {
                                    "0": "3",
                                    "1": "2022-11-02 18:25:32.470",
                                    "2": "NULL",
                                    "3": "NULL",
                                    "4": "ASAP",
                                    "5": "2022-11-02 18:25:32.470",
                                    "6": "2022-11-02 18:26:53.157",
                                    "7": "NULL",
                                    "8": "NULL",
                                    "9": "NULL"
                                },
                                {
                                    "0": "4",
                                    "1": "2022-11-02 18:25:33.410",
                                    "2": "NULL",
                                    "3": "NULL",
                                    "4": "ASAP",
                                    "5": "2022-11-02 18:25:33.410",
                                    "6": "NULL",
                                    "7": "NULL",
                                    "8": "NULL",
                                    "9": "NULL"
                                },
                                {
                                    "0": "5",
                                    "1": "2022-11-02 18:25:34.140",
                                    "2": "NULL",
                                    "3": "NULL",
                                    "4": "ASAP",
                                    "5": "2022-11-02 18:25:34.140",
                                    "6": "NULL",
                                    "7": "NULL",
                                    "8": "NULL",
                                    "9": "NULL"
                                },
                                {
                                    "0": "6",
                                    "1": "2022-11-02 23:20:44.100",
                                    "2": "NULL",
                                    "3": "NULL",
                                    "4": "Urgent",
                                    "5": "2022-11-02 23:20:44.100",
                                    "6": "NULL",
                                    "7": "NULL",
                                    "8": "NULL",
                                    "9": "NULL"
                                },
                                {
                                    "0": "7",
                                    "1": "2022-11-02 23:23:34.757",
                                    "2": "NULL",
                                    "3": "NULL",
                                    "4": "Urgent",
                                    "5": "2022-11-02 23:23:34.757",
                                    "6": "NULL",
                                    "7": "NULL",
                                    "8": "NULL",
                                    "9": "NULL"
                                },
                                {
                                    "0": "8",
                                    "1": "2022-11-02 00:00:00.000",
                                    "2": "2",
                                    "3": "1",
                                    "4": "Urgent",
                                    "5": "2022-11-02 00:00:00.000",
                                    "6": "NULL",
                                    "7": "NULL",
                                    "8": "NULL",
                                    "9": "NULL"
                                },
                                {
                                    "0": "13",
                                    "1": "2022-11-02 00:00:00.000",
                                    "2": "2",
                                    "3": "1",
                                    "4": "Not Urgent",
                                    "5": "2022-11-02 00:00:00.000",
                                    "6": "2022-11-03 00:50:01.873",
                                    "7": "2",
                                    "8": "420.69",
                                    "9": "NULL"
                                },
                                {
                                    "0": "14",
                                    "1": "2022-11-03 17:23:38.380",
                                    "2": "NULL",
                                    "3": "NULL",
                                    "4": "ASAP",
                                    "5": "2022-11-03 17:23:38.380",
                                    "6": "2022-11-03 17:24:22.650",
                                    "7": "2",
                                    "8": "12.12",
                                    "9": "NULL"
                                },
                                {
                                    "0": "15",
                                    "1": "2022-11-02 00:00:00.000",
                                    "2": "2",
                                    "3": "1",
                                    "4": "Not Urgent",
                                    "5": "2022-11-03 00:00:00.000",
                                    "6": "NULL",
                                    "7": "NULL",
                                    "8": "NULL",
                                    "9": "NULL"
                                },
                                {
                                    "0": "16",
                                    "1": "2022-11-03 00:00:00.000",
                                    "2": "2",
                                    "3": "1",
                                    "4": "Urgent",
                                    "5": "2022-11-03 00:00:00.000",
                                    "6": "2022-11-03 00:00:00.000",
                                    "7": "5",
                                    "8": "5.00",
                                    "9": "NULL"
                                },
                                {
                                    "0": "17",
                                    "1": "2022-11-03 00:00:00.000",
                                    "2": "2",
                                    "3": "1",
                                    "4": "Not Urgent",
                                    "5": "2022-11-03 00:00:00.000",
                                    "6": "2022-11-03 00:00:00.000",
                                    "7": "2",
                                    "8": "145.00",
                                    "9": "NULL"
                                },
                                {
                                    "0": "18",
                                    "1": "2022-11-02 00:00:00.000",
                                    "2": "2",
                                    "3": "1",
                                    "4": "Urgent",
                                    "5": "2022-11-04 00:00:00.000",
                                    "6": "NULL",
                                    "7": "NULL",
                                    "8": "NULL",
                                    "9": "NULL"
                                },
                                {
                                    "0": "20",
                                    "1": "2022-11-03 00:00:00.000",
                                    "2": "2",
                                    "3": "1",
                                    "4": "ASAP",
                                    "5": "2022-11-03 00:00:00.000",
                                    "6": "2022-11-03 00:00:00.000",
                                    "7": "3",
                                    "8": "100.00",
                                    "9": "NULL"
                                },
                                {
                                    "0": "21",
                                    "1": "2022-11-02 00:00:00.000",
                                    "2": "2",
                                    "3": "1",
                                    "4": "Not Urgent",
                                    "5": "2022-11-03 00:00:00.000",
                                    "6": "2022-11-03 00:00:00.000",
                                    "7": "3",
                                    "8": "2.00",
                                    "9": "NULL"
                                }
                            ]
                        },
                        "text/html": "<table><tr><th>Maint_ID</th><th>Occurence_datetime</th><th>Vendor_ID</th><th>Attraction_ID</th><th>Priority</th><th>Maint_Start</th><th>Maint_Completion</th><th>Billed_Hours</th><th>Invoice_amount</th><th>Scanned_invoice</th></tr><tr><td>1</td><td>2022-11-02 18:22:44.457</td><td>NULL</td><td>NULL</td><td>ASAP</td><td>2022-11-02 18:22:44.457</td><td>2022-11-02 18:22:44.457</td><td>1</td><td>1130.50</td><td>NULL</td></tr><tr><td>2</td><td>2022-11-02 18:22:50.080</td><td>NULL</td><td>NULL</td><td>ASAP</td><td>2022-11-02 18:22:50.080</td><td>2022-11-02 18:22:50.080</td><td>1</td><td>1130.50</td><td>NULL</td></tr><tr><td>3</td><td>2022-11-02 18:25:32.470</td><td>NULL</td><td>NULL</td><td>ASAP</td><td>2022-11-02 18:25:32.470</td><td>2022-11-02 18:26:53.157</td><td>NULL</td><td>NULL</td><td>NULL</td></tr><tr><td>4</td><td>2022-11-02 18:25:33.410</td><td>NULL</td><td>NULL</td><td>ASAP</td><td>2022-11-02 18:25:33.410</td><td>NULL</td><td>NULL</td><td>NULL</td><td>NULL</td></tr><tr><td>5</td><td>2022-11-02 18:25:34.140</td><td>NULL</td><td>NULL</td><td>ASAP</td><td>2022-11-02 18:25:34.140</td><td>NULL</td><td>NULL</td><td>NULL</td><td>NULL</td></tr><tr><td>6</td><td>2022-11-02 23:20:44.100</td><td>NULL</td><td>NULL</td><td>Urgent</td><td>2022-11-02 23:20:44.100</td><td>NULL</td><td>NULL</td><td>NULL</td><td>NULL</td></tr><tr><td>7</td><td>2022-11-02 23:23:34.757</td><td>NULL</td><td>NULL</td><td>Urgent</td><td>2022-11-02 23:23:34.757</td><td>NULL</td><td>NULL</td><td>NULL</td><td>NULL</td></tr><tr><td>8</td><td>2022-11-02 00:00:00.000</td><td>2</td><td>1</td><td>Urgent</td><td>2022-11-02 00:00:00.000</td><td>NULL</td><td>NULL</td><td>NULL</td><td>NULL</td></tr><tr><td>13</td><td>2022-11-02 00:00:00.000</td><td>2</td><td>1</td><td>Not Urgent</td><td>2022-11-02 00:00:00.000</td><td>2022-11-03 00:50:01.873</td><td>2</td><td>420.69</td><td>NULL</td></tr><tr><td>14</td><td>2022-11-03 17:23:38.380</td><td>NULL</td><td>NULL</td><td>ASAP</td><td>2022-11-03 17:23:38.380</td><td>2022-11-03 17:24:22.650</td><td>2</td><td>12.12</td><td>NULL</td></tr><tr><td>15</td><td>2022-11-02 00:00:00.000</td><td>2</td><td>1</td><td>Not Urgent</td><td>2022-11-03 00:00:00.000</td><td>NULL</td><td>NULL</td><td>NULL</td><td>NULL</td></tr><tr><td>16</td><td>2022-11-03 00:00:00.000</td><td>2</td><td>1</td><td>Urgent</td><td>2022-11-03 00:00:00.000</td><td>2022-11-03 00:00:00.000</td><td>5</td><td>5.00</td><td>NULL</td></tr><tr><td>17</td><td>2022-11-03 00:00:00.000</td><td>2</td><td>1</td><td>Not Urgent</td><td>2022-11-03 00:00:00.000</td><td>2022-11-03 00:00:00.000</td><td>2</td><td>145.00</td><td>NULL</td></tr><tr><td>18</td><td>2022-11-02 00:00:00.000</td><td>2</td><td>1</td><td>Urgent</td><td>2022-11-04 00:00:00.000</td><td>NULL</td><td>NULL</td><td>NULL</td><td>NULL</td></tr><tr><td>20</td><td>2022-11-03 00:00:00.000</td><td>2</td><td>1</td><td>ASAP</td><td>2022-11-03 00:00:00.000</td><td>2022-11-03 00:00:00.000</td><td>3</td><td>100.00</td><td>NULL</td></tr><tr><td>21</td><td>2022-11-02 00:00:00.000</td><td>2</td><td>1</td><td>Not Urgent</td><td>2022-11-03 00:00:00.000</td><td>2022-11-03 00:00:00.000</td><td>3</td><td>2.00</td><td>NULL</td></tr></table>"
                    },
                    "metadata": {}
                },
                {
                    "output_type": "execute_result",
                    "execution_count": 8,
                    "data": {
                        "application/vnd.dataresource+json": {
                            "schema": {
                                "fields": [
                                    {
                                        "name": "attraction_id"
                                    },
                                    {
                                        "name": "name"
                                    },
                                    {
                                        "name": "dept_id"
                                    }
                                ]
                            },
                            "data": [
                                {
                                    "0": "1",
                                    "1": "Spinny Spin",
                                    "2": "6"
                                }
                            ]
                        },
                        "text/html": "<table><tr><th>attraction_id</th><th>name</th><th>dept_id</th></tr><tr><td>1</td><td>Spinny Spin</td><td>6</td></tr></table>"
                    },
                    "metadata": {}
                },
                {
                    "output_type": "execute_result",
                    "execution_count": 8,
                    "data": {
                        "application/vnd.dataresource+json": {
                            "schema": {
                                "fields": [
                                    {
                                        "name": "name"
                                    },
                                    {
                                        "name": "vendor_point_of_contact_name"
                                    },
                                    {
                                        "name": "business_phone"
                                    },
                                    {
                                        "name": "business_address"
                                    },
                                    {
                                        "name": "service_type"
                                    },
                                    {
                                        "name": "contract_start_date"
                                    },
                                    {
                                        "name": "scanned_contract"
                                    },
                                    {
                                        "name": "vendor_id"
                                    }
                                ]
                            },
                            "data": [
                                {
                                    "0": "Bills Sandwiches",
                                    "1": "Jim Bob",
                                    "2": "5125125125",
                                    "3": "123 Sandwich Park, Houston TX 77004",
                                    "4": "Food",
                                    "5": "2022-09-12",
                                    "6": "NULL",
                                    "7": "2"
                                }
                            ]
                        },
                        "text/html": "<table><tr><th>name</th><th>vendor_point_of_contact_name</th><th>business_phone</th><th>business_address</th><th>service_type</th><th>contract_start_date</th><th>scanned_contract</th><th>vendor_id</th></tr><tr><td>Bills Sandwiches</td><td>Jim Bob</td><td>5125125125</td><td>123 Sandwich Park, Houston TX 77004</td><td>Food</td><td>2022-09-12</td><td>NULL</td><td>2</td></tr></table>"
                    },
                    "metadata": {}
                },
                {
                    "output_type": "execute_result",
                    "execution_count": 8,
                    "data": {
                        "application/vnd.dataresource+json": {
                            "schema": {
                                "fields": [
                                    {
                                        "name": "dept_id"
                                    },
                                    {
                                        "name": "dept_name"
                                    },
                                    {
                                        "name": "supervisor_ssn"
                                    }
                                ]
                            },
                            "data": [
                                {
                                    "0": "3",
                                    "1": "Admin",
                                    "2": "NULL"
                                },
                                {
                                    "0": "4",
                                    "1": "Research",
                                    "2": "NULL"
                                },
                                {
                                    "0": "5",
                                    "1": "Food Court",
                                    "2": "NULL"
                                },
                                {
                                    "0": "6",
                                    "1": "Thrills",
                                    "2": "NULL"
                                }
                            ]
                        },
                        "text/html": "<table><tr><th>dept_id</th><th>dept_name</th><th>supervisor_ssn</th></tr><tr><td>3</td><td>Admin</td><td>NULL</td></tr><tr><td>4</td><td>Research</td><td>NULL</td></tr><tr><td>5</td><td>Food Court</td><td>NULL</td></tr><tr><td>6</td><td>Thrills</td><td>NULL</td></tr></table>"
                    },
                    "metadata": {}
                },
                {
                    "output_type": "execute_result",
                    "execution_count": 8,
                    "data": {
                        "application/vnd.dataresource+json": {
                            "schema": {
                                "fields": [
                                    {
                                        "name": "Ticket_ID"
                                    },
                                    {
                                        "name": "Date"
                                    },
                                    {
                                        "name": "Ticket_Class"
                                    },
                                    {
                                        "name": "Price"
                                    },
                                    {
                                        "name": "Reservation"
                                    }
                                ]
                            },
                            "data": [
                                {
                                    "0": "1",
                                    "1": "2022-10-22 00:00:00.000",
                                    "2": "Poor",
                                    "3": "11.50",
                                    "4": "NULL"
                                },
                                {
                                    "0": "2",
                                    "1": "2022-10-22 00:00:00.000",
                                    "2": "Poor",
                                    "3": "11.50",
                                    "4": "NULL"
                                },
                                {
                                    "0": "3",
                                    "1": "2022-10-29 00:00:00.000",
                                    "2": "Poor",
                                    "3": "11.50",
                                    "4": "NULL"
                                },
                                {
                                    "0": "4",
                                    "1": "2022-12-01 00:00:00.000",
                                    "2": "Poor",
                                    "3": "11.50",
                                    "4": "NULL"
                                },
                                {
                                    "0": "5",
                                    "1": "2022-12-01 00:00:00.000",
                                    "2": "Premium",
                                    "3": "11.50",
                                    "4": "NULL"
                                },
                                {
                                    "0": "6",
                                    "1": "2022-10-31 00:00:00.000",
                                    "2": "Poor",
                                    "3": "11.50",
                                    "4": "NULL"
                                },
                                {
                                    "0": "7",
                                    "1": "2022-11-02 06:02:40.570",
                                    "2": "Normal",
                                    "3": "11.50",
                                    "4": "NULL"
                                },
                                {
                                    "0": "8",
                                    "1": "2022-11-02 06:02:58.347",
                                    "2": "Poor",
                                    "3": "11.50",
                                    "4": "NULL"
                                },
                                {
                                    "0": "13",
                                    "1": "2022-11-02 07:45:26.007",
                                    "2": "Poor",
                                    "3": "11.50",
                                    "4": "NULL"
                                },
                                {
                                    "0": "14",
                                    "1": "2022-11-02 07:45:38.123",
                                    "2": "Poor",
                                    "3": "11.50",
                                    "4": "NULL"
                                },
                                {
                                    "0": "15",
                                    "1": "2022-11-02 08:06:22.170",
                                    "2": "Poor",
                                    "3": "11.50",
                                    "4": "NULL"
                                },
                                {
                                    "0": "16",
                                    "1": "2022-11-02 08:27:46.293",
                                    "2": "Poor",
                                    "3": "11.50",
                                    "4": "NULL"
                                },
                                {
                                    "0": "17",
                                    "1": "2022-11-02 08:30:03.027",
                                    "2": "Poor",
                                    "3": "11.50",
                                    "4": "NULL"
                                },
                                {
                                    "0": "18",
                                    "1": "2022-11-02 08:30:10.103",
                                    "2": "Poor",
                                    "3": "11.50",
                                    "4": "NULL"
                                },
                                {
                                    "0": "19",
                                    "1": "2022-11-02 08:34:41.650",
                                    "2": "Poor",
                                    "3": "11.50",
                                    "4": "NULL"
                                },
                                {
                                    "0": "20",
                                    "1": "2022-11-02 08:35:56.340",
                                    "2": "Poor",
                                    "3": "11.50",
                                    "4": "NULL"
                                },
                                {
                                    "0": "21",
                                    "1": "2022-11-02 08:37:23.457",
                                    "2": "Poor",
                                    "3": "11.50",
                                    "4": "NULL"
                                },
                                {
                                    "0": "22",
                                    "1": "2022-04-21 03:22:21.000",
                                    "2": "Premium",
                                    "3": "11.50",
                                    "4": "NULL"
                                },
                                {
                                    "0": "23",
                                    "1": "2022-11-02 08:41:18.853",
                                    "2": "Poor",
                                    "3": "11.50",
                                    "4": "NULL"
                                },
                                {
                                    "0": "24",
                                    "1": "2022-11-02 08:44:11.740",
                                    "2": "Poor",
                                    "3": "11.50",
                                    "4": "NULL"
                                },
                                {
                                    "0": "25",
                                    "1": "2022-11-02 08:45:39.817",
                                    "2": "Poor",
                                    "3": "11.50",
                                    "4": "NULL"
                                },
                                {
                                    "0": "26",
                                    "1": "2022-11-02 08:45:39.887",
                                    "2": "Poor",
                                    "3": "11.50",
                                    "4": "NULL"
                                },
                                {
                                    "0": "27",
                                    "1": "2022-05-27 00:17:24.000",
                                    "2": "Premium",
                                    "3": "11.50",
                                    "4": "NULL"
                                },
                                {
                                    "0": "28",
                                    "1": "2022-12-24 14:55:11.000",
                                    "2": "Premium",
                                    "3": "11.50",
                                    "4": "NULL"
                                },
                                {
                                    "0": "29",
                                    "1": "2022-03-03 09:05:41.000",
                                    "2": "Poor",
                                    "3": "11.50",
                                    "4": "NULL"
                                },
                                {
                                    "0": "30",
                                    "1": "2022-06-12 07:47:24.000",
                                    "2": "Normal",
                                    "3": "11.50",
                                    "4": "NULL"
                                },
                                {
                                    "0": "31",
                                    "1": "2022-06-17 08:15:42.000",
                                    "2": "Poor",
                                    "3": "11.50",
                                    "4": "NULL"
                                },
                                {
                                    "0": "32",
                                    "1": "2022-12-26 09:48:48.000",
                                    "2": "Premium",
                                    "3": "11.50",
                                    "4": "NULL"
                                },
                                {
                                    "0": "33",
                                    "1": "2022-09-10 19:52:15.000",
                                    "2": "Normal",
                                    "3": "11.50",
                                    "4": "NULL"
                                },
                                {
                                    "0": "34",
                                    "1": "2022-08-26 06:44:38.000",
                                    "2": "Normal",
                                    "3": "11.50",
                                    "4": "NULL"
                                },
                                {
                                    "0": "35",
                                    "1": "2022-04-03 15:07:22.000",
                                    "2": "Premium",
                                    "3": "11.50",
                                    "4": "NULL"
                                },
                                {
                                    "0": "36",
                                    "1": "2022-12-23 23:28:55.000",
                                    "2": "Poor",
                                    "3": "11.50",
                                    "4": "NULL"
                                },
                                {
                                    "0": "37",
                                    "1": "2022-09-07 01:08:00.000",
                                    "2": "Poor",
                                    "3": "11.50",
                                    "4": "NULL"
                                },
                                {
                                    "0": "38",
                                    "1": "2022-07-20 17:29:14.000",
                                    "2": "Poor",
                                    "3": "11.50",
                                    "4": "NULL"
                                },
                                {
                                    "0": "39",
                                    "1": "2022-03-22 21:55:44.000",
                                    "2": "Premium",
                                    "3": "11.50",
                                    "4": "NULL"
                                },
                                {
                                    "0": "40",
                                    "1": "2022-12-02 22:40:06.000",
                                    "2": "Normal",
                                    "3": "11.50",
                                    "4": "NULL"
                                },
                                {
                                    "0": "41",
                                    "1": "2022-06-23 19:42:31.000",
                                    "2": "Normal",
                                    "3": "11.50",
                                    "4": "NULL"
                                },
                                {
                                    "0": "42",
                                    "1": "2022-12-13 20:08:52.000",
                                    "2": "Normal",
                                    "3": "11.50",
                                    "4": "NULL"
                                },
                                {
                                    "0": "43",
                                    "1": "2022-09-26 07:59:01.000",
                                    "2": "Normal",
                                    "3": "11.50",
                                    "4": "NULL"
                                },
                                {
                                    "0": "44",
                                    "1": "2022-01-16 10:42:18.000",
                                    "2": "Premium",
                                    "3": "11.50",
                                    "4": "NULL"
                                },
                                {
                                    "0": "45",
                                    "1": "2022-05-23 08:24:48.000",
                                    "2": "Normal",
                                    "3": "11.50",
                                    "4": "NULL"
                                },
                                {
                                    "0": "46",
                                    "1": "2022-06-12 10:40:09.000",
                                    "2": "Normal",
                                    "3": "11.50",
                                    "4": "NULL"
                                },
                                {
                                    "0": "47",
                                    "1": "2022-04-11 17:55:19.000",
                                    "2": "Poor",
                                    "3": "11.50",
                                    "4": "NULL"
                                },
                                {
                                    "0": "48",
                                    "1": "2022-07-01 05:09:31.000",
                                    "2": "Normal",
                                    "3": "11.50",
                                    "4": "NULL"
                                },
                                {
                                    "0": "49",
                                    "1": "2022-08-02 03:37:06.000",
                                    "2": "Normal",
                                    "3": "11.50",
                                    "4": "NULL"
                                },
                                {
                                    "0": "50",
                                    "1": "2022-09-27 07:49:47.000",
                                    "2": "Normal",
                                    "3": "11.50",
                                    "4": "NULL"
                                },
                                {
                                    "0": "51",
                                    "1": "2022-04-09 15:19:01.000",
                                    "2": "Poor",
                                    "3": "11.50",
                                    "4": "NULL"
                                },
                                {
                                    "0": "52",
                                    "1": "2022-02-11 11:55:39.000",
                                    "2": "Poor",
                                    "3": "11.50",
                                    "4": "NULL"
                                },
                                {
                                    "0": "53",
                                    "1": "2022-11-14 03:54:35.000",
                                    "2": "Normal",
                                    "3": "11.50",
                                    "4": "NULL"
                                },
                                {
                                    "0": "54",
                                    "1": "2022-03-02 21:06:08.000",
                                    "2": "Normal",
                                    "3": "11.50",
                                    "4": "NULL"
                                },
                                {
                                    "0": "55",
                                    "1": "2022-09-28 00:14:48.000",
                                    "2": "Normal",
                                    "3": "11.50",
                                    "4": "NULL"
                                },
                                {
                                    "0": "56",
                                    "1": "2022-07-13 07:01:23.000",
                                    "2": "Poor",
                                    "3": "11.50",
                                    "4": "NULL"
                                },
                                {
                                    "0": "57",
                                    "1": "2022-08-27 00:37:43.000",
                                    "2": "Premium",
                                    "3": "11.50",
                                    "4": "NULL"
                                },
                                {
                                    "0": "58",
                                    "1": "2022-10-22 12:23:31.000",
                                    "2": "Normal",
                                    "3": "11.50",
                                    "4": "NULL"
                                },
                                {
                                    "0": "59",
                                    "1": "2022-08-04 15:06:59.000",
                                    "2": "Normal",
                                    "3": "11.50",
                                    "4": "NULL"
                                },
                                {
                                    "0": "60",
                                    "1": "2022-08-09 11:49:53.000",
                                    "2": "Premium",
                                    "3": "11.50",
                                    "4": "NULL"
                                },
                                {
                                    "0": "61",
                                    "1": "2022-02-12 20:40:47.000",
                                    "2": "Premium",
                                    "3": "11.50",
                                    "4": "NULL"
                                },
                                {
                                    "0": "62",
                                    "1": "2022-11-07 19:57:45.000",
                                    "2": "Normal",
                                    "3": "11.50",
                                    "4": "NULL"
                                },
                                {
                                    "0": "63",
                                    "1": "2022-10-23 10:54:57.000",
                                    "2": "Normal",
                                    "3": "11.50",
                                    "4": "NULL"
                                },
                                {
                                    "0": "64",
                                    "1": "2022-11-01 21:07:21.000",
                                    "2": "Poor",
                                    "3": "11.50",
                                    "4": "NULL"
                                },
                                {
                                    "0": "65",
                                    "1": "2022-08-14 05:06:29.000",
                                    "2": "Normal",
                                    "3": "11.50",
                                    "4": "NULL"
                                },
                                {
                                    "0": "66",
                                    "1": "2022-10-10 23:39:53.000",
                                    "2": "Normal",
                                    "3": "11.50",
                                    "4": "NULL"
                                },
                                {
                                    "0": "67",
                                    "1": "2022-10-16 05:31:28.000",
                                    "2": "Normal",
                                    "3": "11.50",
                                    "4": "NULL"
                                },
                                {
                                    "0": "68",
                                    "1": "2022-05-09 07:13:31.000",
                                    "2": "Normal",
                                    "3": "11.50",
                                    "4": "NULL"
                                },
                                {
                                    "0": "69",
                                    "1": "2022-11-16 06:06:14.000",
                                    "2": "Premium",
                                    "3": "11.50",
                                    "4": "NULL"
                                },
                                {
                                    "0": "70",
                                    "1": "2022-06-25 01:17:25.000",
                                    "2": "Poor",
                                    "3": "11.50",
                                    "4": "NULL"
                                },
                                {
                                    "0": "71",
                                    "1": "2022-08-27 08:51:52.000",
                                    "2": "Normal",
                                    "3": "11.50",
                                    "4": "NULL"
                                },
                                {
                                    "0": "72",
                                    "1": "2022-06-16 01:42:01.000",
                                    "2": "Poor",
                                    "3": "11.50",
                                    "4": "NULL"
                                },
                                {
                                    "0": "73",
                                    "1": "2022-09-02 20:59:10.000",
                                    "2": "Normal",
                                    "3": "11.50",
                                    "4": "NULL"
                                },
                                {
                                    "0": "74",
                                    "1": "2022-09-23 14:04:15.000",
                                    "2": "Normal",
                                    "3": "11.50",
                                    "4": "NULL"
                                },
                                {
                                    "0": "75",
                                    "1": "2022-05-27 12:33:47.000",
                                    "2": "Normal",
                                    "3": "11.50",
                                    "4": "NULL"
                                },
                                {
                                    "0": "76",
                                    "1": "2022-08-21 17:00:14.000",
                                    "2": "Poor",
                                    "3": "11.50",
                                    "4": "NULL"
                                },
                                {
                                    "0": "77",
                                    "1": "2022-07-13 01:40:22.000",
                                    "2": "Premium",
                                    "3": "11.50",
                                    "4": "NULL"
                                },
                                {
                                    "0": "78",
                                    "1": "2022-07-13 02:34:06.000",
                                    "2": "Premium",
                                    "3": "11.50",
                                    "4": "NULL"
                                },
                                {
                                    "0": "79",
                                    "1": "2022-05-22 00:24:19.000",
                                    "2": "Normal",
                                    "3": "11.50",
                                    "4": "NULL"
                                },
                                {
                                    "0": "80",
                                    "1": "2022-03-16 21:39:21.000",
                                    "2": "Normal",
                                    "3": "11.50",
                                    "4": "NULL"
                                },
                                {
                                    "0": "81",
                                    "1": "2022-12-10 21:02:52.000",
                                    "2": "Poor",
                                    "3": "11.50",
                                    "4": "NULL"
                                },
                                {
                                    "0": "82",
                                    "1": "2022-10-13 16:07:53.000",
                                    "2": "Poor",
                                    "3": "11.50",
                                    "4": "NULL"
                                },
                                {
                                    "0": "83",
                                    "1": "2022-09-09 18:37:09.000",
                                    "2": "Premium",
                                    "3": "11.50",
                                    "4": "NULL"
                                },
                                {
                                    "0": "84",
                                    "1": "2022-11-27 11:51:44.000",
                                    "2": "Normal",
                                    "3": "11.50",
                                    "4": "NULL"
                                },
                                {
                                    "0": "85",
                                    "1": "2022-11-11 04:15:56.000",
                                    "2": "Normal",
                                    "3": "11.50",
                                    "4": "NULL"
                                },
                                {
                                    "0": "86",
                                    "1": "2022-06-08 22:15:12.000",
                                    "2": "Poor",
                                    "3": "11.50",
                                    "4": "NULL"
                                },
                                {
                                    "0": "87",
                                    "1": "2022-02-13 00:44:56.000",
                                    "2": "Normal",
                                    "3": "11.50",
                                    "4": "NULL"
                                },
                                {
                                    "0": "88",
                                    "1": "2022-07-01 06:44:20.000",
                                    "2": "Premium",
                                    "3": "11.50",
                                    "4": "NULL"
                                },
                                {
                                    "0": "89",
                                    "1": "2022-06-05 08:53:37.000",
                                    "2": "Normal",
                                    "3": "11.50",
                                    "4": "NULL"
                                },
                                {
                                    "0": "90",
                                    "1": "2022-01-21 14:44:42.000",
                                    "2": "Normal",
                                    "3": "11.50",
                                    "4": "NULL"
                                },
                                {
                                    "0": "91",
                                    "1": "2022-12-28 00:47:57.000",
                                    "2": "Poor",
                                    "3": "11.50",
                                    "4": "NULL"
                                },
                                {
                                    "0": "92",
                                    "1": "2022-02-14 02:48:12.000",
                                    "2": "Poor",
                                    "3": "11.50",
                                    "4": "NULL"
                                },
                                {
                                    "0": "93",
                                    "1": "2022-07-11 14:35:59.000",
                                    "2": "Normal",
                                    "3": "11.50",
                                    "4": "NULL"
                                },
                                {
                                    "0": "94",
                                    "1": "2022-09-19 12:46:34.000",
                                    "2": "Premium",
                                    "3": "11.50",
                                    "4": "NULL"
                                },
                                {
                                    "0": "95",
                                    "1": "2022-04-05 05:18:32.000",
                                    "2": "Normal",
                                    "3": "11.50",
                                    "4": "NULL"
                                },
                                {
                                    "0": "96",
                                    "1": "2022-05-23 14:56:00.000",
                                    "2": "Poor",
                                    "3": "11.50",
                                    "4": "NULL"
                                },
                                {
                                    "0": "97",
                                    "1": "2022-07-01 07:06:46.000",
                                    "2": "Normal",
                                    "3": "11.50",
                                    "4": "NULL"
                                },
                                {
                                    "0": "98",
                                    "1": "2022-08-03 11:26:40.000",
                                    "2": "Poor",
                                    "3": "11.50",
                                    "4": "NULL"
                                },
                                {
                                    "0": "99",
                                    "1": "2022-06-07 14:56:23.000",
                                    "2": "Normal",
                                    "3": "11.50",
                                    "4": "NULL"
                                },
                                {
                                    "0": "100",
                                    "1": "2022-03-07 09:00:02.000",
                                    "2": "Premium",
                                    "3": "11.50",
                                    "4": "NULL"
                                },
                                {
                                    "0": "101",
                                    "1": "2022-05-15 17:16:37.000",
                                    "2": "Normal",
                                    "3": "11.50",
                                    "4": "NULL"
                                },
                                {
                                    "0": "102",
                                    "1": "2022-01-28 19:51:06.000",
                                    "2": "Premium",
                                    "3": "11.50",
                                    "4": "NULL"
                                },
                                {
                                    "0": "103",
                                    "1": "2022-11-13 14:52:29.000",
                                    "2": "Premium",
                                    "3": "11.50",
                                    "4": "NULL"
                                },
                                {
                                    "0": "104",
                                    "1": "2022-01-07 03:07:30.000",
                                    "2": "Normal",
                                    "3": "11.50",
                                    "4": "NULL"
                                },
                                {
                                    "0": "105",
                                    "1": "2022-05-17 07:30:48.000",
                                    "2": "Poor",
                                    "3": "11.50",
                                    "4": "NULL"
                                },
                                {
                                    "0": "106",
                                    "1": "2022-04-13 23:07:08.000",
                                    "2": "Premium",
                                    "3": "11.50",
                                    "4": "NULL"
                                },
                                {
                                    "0": "107",
                                    "1": "2022-04-06 01:24:46.000",
                                    "2": "Poor",
                                    "3": "11.50",
                                    "4": "NULL"
                                },
                                {
                                    "0": "108",
                                    "1": "2022-06-03 00:45:37.000",
                                    "2": "Normal",
                                    "3": "11.50",
                                    "4": "NULL"
                                },
                                {
                                    "0": "109",
                                    "1": "2022-10-17 00:19:56.000",
                                    "2": "Poor",
                                    "3": "11.50",
                                    "4": "NULL"
                                },
                                {
                                    "0": "110",
                                    "1": "2022-06-26 17:15:58.000",
                                    "2": "Premium",
                                    "3": "11.50",
                                    "4": "NULL"
                                },
                                {
                                    "0": "111",
                                    "1": "2022-05-01 13:47:41.000",
                                    "2": "Poor",
                                    "3": "11.50",
                                    "4": "NULL"
                                },
                                {
                                    "0": "112",
                                    "1": "2022-02-26 05:36:33.000",
                                    "2": "Normal",
                                    "3": "11.50",
                                    "4": "NULL"
                                },
                                {
                                    "0": "113",
                                    "1": "2022-12-12 23:56:38.000",
                                    "2": "Normal",
                                    "3": "11.50",
                                    "4": "NULL"
                                },
                                {
                                    "0": "114",
                                    "1": "2022-02-09 13:33:03.000",
                                    "2": "Normal",
                                    "3": "11.50",
                                    "4": "NULL"
                                },
                                {
                                    "0": "115",
                                    "1": "2022-11-09 17:36:55.000",
                                    "2": "Poor",
                                    "3": "11.50",
                                    "4": "NULL"
                                },
                                {
                                    "0": "116",
                                    "1": "2022-11-22 09:47:16.000",
                                    "2": "Premium",
                                    "3": "11.50",
                                    "4": "NULL"
                                },
                                {
                                    "0": "117",
                                    "1": "2022-08-10 21:42:26.000",
                                    "2": "Poor",
                                    "3": "11.50",
                                    "4": "NULL"
                                },
                                {
                                    "0": "118",
                                    "1": "2022-03-02 04:14:49.000",
                                    "2": "Premium",
                                    "3": "11.50",
                                    "4": "NULL"
                                },
                                {
                                    "0": "119",
                                    "1": "2022-07-18 23:12:41.000",
                                    "2": "Normal",
                                    "3": "11.50",
                                    "4": "NULL"
                                },
                                {
                                    "0": "120",
                                    "1": "2022-04-05 14:00:39.000",
                                    "2": "Poor",
                                    "3": "11.50",
                                    "4": "NULL"
                                },
                                {
                                    "0": "121",
                                    "1": "2022-04-03 05:43:33.000",
                                    "2": "Poor",
                                    "3": "11.50",
                                    "4": "NULL"
                                },
                                {
                                    "0": "122",
                                    "1": "2022-01-12 02:15:40.000",
                                    "2": "Premium",
                                    "3": "11.50",
                                    "4": "NULL"
                                },
                                {
                                    "0": "123",
                                    "1": "2022-10-18 12:20:15.000",
                                    "2": "Premium",
                                    "3": "11.50",
                                    "4": "NULL"
                                },
                                {
                                    "0": "124",
                                    "1": "2022-06-18 00:33:45.000",
                                    "2": "Premium",
                                    "3": "11.50",
                                    "4": "NULL"
                                },
                                {
                                    "0": "125",
                                    "1": "2022-09-03 23:44:33.000",
                                    "2": "Premium",
                                    "3": "11.50",
                                    "4": "NULL"
                                },
                                {
                                    "0": "126",
                                    "1": "2022-08-08 08:06:36.000",
                                    "2": "Poor",
                                    "3": "11.50",
                                    "4": "NULL"
                                },
                                {
                                    "0": "127",
                                    "1": "2021-09-02 03:41:17.000",
                                    "2": "Poor",
                                    "3": "11.50",
                                    "4": "NULL"
                                },
                                {
                                    "0": "128",
                                    "1": "2021-05-03 05:47:26.000",
                                    "2": "Normal",
                                    "3": "11.50",
                                    "4": "NULL"
                                },
                                {
                                    "0": "129",
                                    "1": "2021-05-14 00:32:11.000",
                                    "2": "Premium",
                                    "3": "11.50",
                                    "4": "NULL"
                                },
                                {
                                    "0": "130",
                                    "1": "2021-09-16 20:12:01.000",
                                    "2": "Poor",
                                    "3": "11.50",
                                    "4": "NULL"
                                },
                                {
                                    "0": "131",
                                    "1": "2021-05-23 00:53:23.000",
                                    "2": "Poor",
                                    "3": "11.50",
                                    "4": "NULL"
                                },
                                {
                                    "0": "132",
                                    "1": "2021-01-18 05:26:08.000",
                                    "2": "Poor",
                                    "3": "11.50",
                                    "4": "NULL"
                                },
                                {
                                    "0": "133",
                                    "1": "2021-12-14 08:55:46.000",
                                    "2": "Premium",
                                    "3": "11.50",
                                    "4": "NULL"
                                },
                                {
                                    "0": "134",
                                    "1": "2021-03-25 12:33:07.000",
                                    "2": "Normal",
                                    "3": "11.50",
                                    "4": "NULL"
                                },
                                {
                                    "0": "135",
                                    "1": "2021-08-15 06:35:19.000",
                                    "2": "Normal",
                                    "3": "11.50",
                                    "4": "NULL"
                                },
                                {
                                    "0": "136",
                                    "1": "2021-01-17 16:05:51.000",
                                    "2": "Premium",
                                    "3": "11.50",
                                    "4": "NULL"
                                },
                                {
                                    "0": "137",
                                    "1": "2021-04-17 08:34:38.000",
                                    "2": "Poor",
                                    "3": "11.50",
                                    "4": "NULL"
                                },
                                {
                                    "0": "138",
                                    "1": "2021-10-13 12:47:58.000",
                                    "2": "Premium",
                                    "3": "11.50",
                                    "4": "NULL"
                                },
                                {
                                    "0": "139",
                                    "1": "2021-07-10 01:19:04.000",
                                    "2": "Poor",
                                    "3": "11.50",
                                    "4": "NULL"
                                },
                                {
                                    "0": "140",
                                    "1": "2021-09-04 22:37:41.000",
                                    "2": "Poor",
                                    "3": "11.50",
                                    "4": "NULL"
                                },
                                {
                                    "0": "141",
                                    "1": "2021-10-05 14:16:18.000",
                                    "2": "Poor",
                                    "3": "11.50",
                                    "4": "NULL"
                                },
                                {
                                    "0": "142",
                                    "1": "2021-12-22 15:18:22.000",
                                    "2": "Poor",
                                    "3": "11.50",
                                    "4": "NULL"
                                },
                                {
                                    "0": "143",
                                    "1": "2021-03-21 16:36:33.000",
                                    "2": "Normal",
                                    "3": "11.50",
                                    "4": "NULL"
                                },
                                {
                                    "0": "144",
                                    "1": "2021-10-04 23:49:58.000",
                                    "2": "Normal",
                                    "3": "11.50",
                                    "4": "NULL"
                                },
                                {
                                    "0": "145",
                                    "1": "2021-08-08 20:11:04.000",
                                    "2": "Premium",
                                    "3": "11.50",
                                    "4": "NULL"
                                },
                                {
                                    "0": "146",
                                    "1": "2021-04-14 18:13:35.000",
                                    "2": "Poor",
                                    "3": "11.50",
                                    "4": "NULL"
                                },
                                {
                                    "0": "147",
                                    "1": "2021-11-18 01:23:52.000",
                                    "2": "Normal",
                                    "3": "11.50",
                                    "4": "NULL"
                                },
                                {
                                    "0": "148",
                                    "1": "2021-09-23 14:04:29.000",
                                    "2": "Normal",
                                    "3": "11.50",
                                    "4": "NULL"
                                },
                                {
                                    "0": "149",
                                    "1": "2021-05-01 10:23:40.000",
                                    "2": "Normal",
                                    "3": "11.50",
                                    "4": "NULL"
                                },
                                {
                                    "0": "150",
                                    "1": "2021-03-17 22:02:39.000",
                                    "2": "Premium",
                                    "3": "11.50",
                                    "4": "NULL"
                                },
                                {
                                    "0": "151",
                                    "1": "2021-11-11 13:24:38.000",
                                    "2": "Poor",
                                    "3": "11.50",
                                    "4": "NULL"
                                },
                                {
                                    "0": "152",
                                    "1": "2021-11-24 15:34:43.000",
                                    "2": "Premium",
                                    "3": "11.50",
                                    "4": "NULL"
                                },
                                {
                                    "0": "153",
                                    "1": "2021-01-23 18:57:46.000",
                                    "2": "Premium",
                                    "3": "11.50",
                                    "4": "NULL"
                                },
                                {
                                    "0": "154",
                                    "1": "2021-09-06 19:42:23.000",
                                    "2": "Poor",
                                    "3": "11.50",
                                    "4": "NULL"
                                },
                                {
                                    "0": "155",
                                    "1": "2021-04-10 04:51:42.000",
                                    "2": "Normal",
                                    "3": "11.50",
                                    "4": "NULL"
                                },
                                {
                                    "0": "156",
                                    "1": "2021-04-01 08:12:41.000",
                                    "2": "Premium",
                                    "3": "11.50",
                                    "4": "NULL"
                                },
                                {
                                    "0": "157",
                                    "1": "2021-10-18 20:06:10.000",
                                    "2": "Normal",
                                    "3": "11.50",
                                    "4": "NULL"
                                },
                                {
                                    "0": "158",
                                    "1": "2021-03-17 10:38:33.000",
                                    "2": "Poor",
                                    "3": "11.50",
                                    "4": "NULL"
                                },
                                {
                                    "0": "159",
                                    "1": "2021-08-20 12:26:09.000",
                                    "2": "Premium",
                                    "3": "11.50",
                                    "4": "NULL"
                                },
                                {
                                    "0": "160",
                                    "1": "2021-06-05 09:04:18.000",
                                    "2": "Normal",
                                    "3": "11.50",
                                    "4": "NULL"
                                },
                                {
                                    "0": "161",
                                    "1": "2021-01-24 21:13:24.000",
                                    "2": "Poor",
                                    "3": "11.50",
                                    "4": "NULL"
                                },
                                {
                                    "0": "162",
                                    "1": "2021-08-15 23:29:56.000",
                                    "2": "Normal",
                                    "3": "11.50",
                                    "4": "NULL"
                                },
                                {
                                    "0": "163",
                                    "1": "2021-08-04 10:45:24.000",
                                    "2": "Premium",
                                    "3": "11.50",
                                    "4": "NULL"
                                },
                                {
                                    "0": "164",
                                    "1": "2021-02-01 00:05:26.000",
                                    "2": "Premium",
                                    "3": "11.50",
                                    "4": "NULL"
                                },
                                {
                                    "0": "165",
                                    "1": "2021-03-07 08:59:19.000",
                                    "2": "Poor",
                                    "3": "11.50",
                                    "4": "NULL"
                                },
                                {
                                    "0": "166",
                                    "1": "2021-03-19 07:41:14.000",
                                    "2": "Premium",
                                    "3": "11.50",
                                    "4": "NULL"
                                },
                                {
                                    "0": "167",
                                    "1": "2021-05-28 08:37:58.000",
                                    "2": "Premium",
                                    "3": "11.50",
                                    "4": "NULL"
                                },
                                {
                                    "0": "168",
                                    "1": "2021-05-20 16:21:07.000",
                                    "2": "Normal",
                                    "3": "11.50",
                                    "4": "NULL"
                                },
                                {
                                    "0": "169",
                                    "1": "2021-09-18 13:19:36.000",
                                    "2": "Poor",
                                    "3": "11.50",
                                    "4": "NULL"
                                },
                                {
                                    "0": "170",
                                    "1": "2021-06-09 12:03:44.000",
                                    "2": "Normal",
                                    "3": "11.50",
                                    "4": "NULL"
                                },
                                {
                                    "0": "171",
                                    "1": "2021-05-01 22:07:39.000",
                                    "2": "Normal",
                                    "3": "11.50",
                                    "4": "NULL"
                                },
                                {
                                    "0": "172",
                                    "1": "2021-10-09 00:02:05.000",
                                    "2": "Poor",
                                    "3": "11.50",
                                    "4": "NULL"
                                },
                                {
                                    "0": "173",
                                    "1": "2021-09-19 18:20:33.000",
                                    "2": "Poor",
                                    "3": "11.50",
                                    "4": "NULL"
                                },
                                {
                                    "0": "174",
                                    "1": "2021-05-27 11:56:31.000",
                                    "2": "Premium",
                                    "3": "11.50",
                                    "4": "NULL"
                                },
                                {
                                    "0": "175",
                                    "1": "2021-06-07 21:48:16.000",
                                    "2": "Premium",
                                    "3": "11.50",
                                    "4": "NULL"
                                },
                                {
                                    "0": "176",
                                    "1": "2021-06-21 21:09:45.000",
                                    "2": "Premium",
                                    "3": "11.50",
                                    "4": "NULL"
                                },
                                {
                                    "0": "177",
                                    "1": "2021-04-15 08:05:40.000",
                                    "2": "Normal",
                                    "3": "11.50",
                                    "4": "NULL"
                                },
                                {
                                    "0": "178",
                                    "1": "2021-10-01 14:19:31.000",
                                    "2": "Poor",
                                    "3": "11.50",
                                    "4": "NULL"
                                },
                                {
                                    "0": "179",
                                    "1": "2021-03-18 11:45:48.000",
                                    "2": "Premium",
                                    "3": "11.50",
                                    "4": "NULL"
                                },
                                {
                                    "0": "180",
                                    "1": "2021-01-10 01:02:52.000",
                                    "2": "Normal",
                                    "3": "11.50",
                                    "4": "NULL"
                                },
                                {
                                    "0": "181",
                                    "1": "2021-08-15 07:10:08.000",
                                    "2": "Normal",
                                    "3": "11.50",
                                    "4": "NULL"
                                },
                                {
                                    "0": "182",
                                    "1": "2021-03-02 01:19:54.000",
                                    "2": "Poor",
                                    "3": "11.50",
                                    "4": "NULL"
                                },
                                {
                                    "0": "183",
                                    "1": "2021-02-16 18:41:00.000",
                                    "2": "Normal",
                                    "3": "11.50",
                                    "4": "NULL"
                                },
                                {
                                    "0": "184",
                                    "1": "2021-11-19 10:55:42.000",
                                    "2": "Premium",
                                    "3": "11.50",
                                    "4": "NULL"
                                },
                                {
                                    "0": "185",
                                    "1": "2021-03-14 07:40:42.000",
                                    "2": "Normal",
                                    "3": "11.50",
                                    "4": "NULL"
                                },
                                {
                                    "0": "186",
                                    "1": "2021-10-14 14:12:35.000",
                                    "2": "Poor",
                                    "3": "11.50",
                                    "4": "NULL"
                                },
                                {
                                    "0": "187",
                                    "1": "2021-01-22 19:35:47.000",
                                    "2": "Normal",
                                    "3": "11.50",
                                    "4": "NULL"
                                },
                                {
                                    "0": "188",
                                    "1": "2021-06-16 02:24:24.000",
                                    "2": "Poor",
                                    "3": "11.50",
                                    "4": "NULL"
                                },
                                {
                                    "0": "189",
                                    "1": "2021-08-11 00:29:21.000",
                                    "2": "Poor",
                                    "3": "11.50",
                                    "4": "NULL"
                                },
                                {
                                    "0": "190",
                                    "1": "2021-10-23 05:19:46.000",
                                    "2": "Normal",
                                    "3": "11.50",
                                    "4": "NULL"
                                },
                                {
                                    "0": "191",
                                    "1": "2021-11-12 10:27:14.000",
                                    "2": "Poor",
                                    "3": "11.50",
                                    "4": "NULL"
                                },
                                {
                                    "0": "192",
                                    "1": "2021-02-05 08:20:42.000",
                                    "2": "Premium",
                                    "3": "11.50",
                                    "4": "NULL"
                                },
                                {
                                    "0": "193",
                                    "1": "2021-01-20 09:40:06.000",
                                    "2": "Poor",
                                    "3": "11.50",
                                    "4": "NULL"
                                },
                                {
                                    "0": "194",
                                    "1": "2021-06-16 12:41:45.000",
                                    "2": "Normal",
                                    "3": "11.50",
                                    "4": "NULL"
                                },
                                {
                                    "0": "195",
                                    "1": "2021-02-02 01:05:17.000",
                                    "2": "Poor",
                                    "3": "11.50",
                                    "4": "NULL"
                                },
                                {
                                    "0": "196",
                                    "1": "2021-10-10 06:16:17.000",
                                    "2": "Poor",
                                    "3": "11.50",
                                    "4": "NULL"
                                },
                                {
                                    "0": "197",
                                    "1": "2021-06-16 17:12:22.000",
                                    "2": "Premium",
                                    "3": "11.50",
                                    "4": "NULL"
                                },
                                {
                                    "0": "198",
                                    "1": "2021-10-20 07:42:11.000",
                                    "2": "Premium",
                                    "3": "11.50",
                                    "4": "NULL"
                                },
                                {
                                    "0": "199",
                                    "1": "2021-12-02 15:12:01.000",
                                    "2": "Premium",
                                    "3": "11.50",
                                    "4": "NULL"
                                },
                                {
                                    "0": "200",
                                    "1": "2021-04-25 01:58:19.000",
                                    "2": "Normal",
                                    "3": "11.50",
                                    "4": "NULL"
                                },
                                {
                                    "0": "201",
                                    "1": "2021-12-19 04:34:50.000",
                                    "2": "Normal",
                                    "3": "11.50",
                                    "4": "NULL"
                                },
                                {
                                    "0": "202",
                                    "1": "2021-10-03 05:10:57.000",
                                    "2": "Normal",
                                    "3": "11.50",
                                    "4": "NULL"
                                },
                                {
                                    "0": "203",
                                    "1": "2021-09-19 21:39:13.000",
                                    "2": "Poor",
                                    "3": "11.50",
                                    "4": "NULL"
                                },
                                {
                                    "0": "204",
                                    "1": "2021-04-23 18:06:04.000",
                                    "2": "Premium",
                                    "3": "11.50",
                                    "4": "NULL"
                                },
                                {
                                    "0": "205",
                                    "1": "2021-05-14 09:01:03.000",
                                    "2": "Poor",
                                    "3": "11.50",
                                    "4": "NULL"
                                },
                                {
                                    "0": "206",
                                    "1": "2021-07-19 00:35:15.000",
                                    "2": "Normal",
                                    "3": "11.50",
                                    "4": "NULL"
                                },
                                {
                                    "0": "207",
                                    "1": "2021-03-10 00:56:23.000",
                                    "2": "Premium",
                                    "3": "11.50",
                                    "4": "NULL"
                                },
                                {
                                    "0": "208",
                                    "1": "2021-03-03 00:05:24.000",
                                    "2": "Premium",
                                    "3": "11.50",
                                    "4": "NULL"
                                },
                                {
                                    "0": "209",
                                    "1": "2021-05-17 16:33:31.000",
                                    "2": "Premium",
                                    "3": "11.50",
                                    "4": "NULL"
                                },
                                {
                                    "0": "210",
                                    "1": "2021-03-05 18:21:22.000",
                                    "2": "Poor",
                                    "3": "11.50",
                                    "4": "NULL"
                                },
                                {
                                    "0": "211",
                                    "1": "2021-02-27 20:36:25.000",
                                    "2": "Premium",
                                    "3": "11.50",
                                    "4": "NULL"
                                },
                                {
                                    "0": "212",
                                    "1": "2021-04-26 07:36:55.000",
                                    "2": "Normal",
                                    "3": "11.50",
                                    "4": "NULL"
                                },
                                {
                                    "0": "213",
                                    "1": "2021-01-17 22:51:55.000",
                                    "2": "Normal",
                                    "3": "11.50",
                                    "4": "NULL"
                                },
                                {
                                    "0": "214",
                                    "1": "2021-03-20 17:09:34.000",
                                    "2": "Poor",
                                    "3": "11.50",
                                    "4": "NULL"
                                },
                                {
                                    "0": "215",
                                    "1": "2021-06-15 08:46:50.000",
                                    "2": "Premium",
                                    "3": "11.50",
                                    "4": "NULL"
                                },
                                {
                                    "0": "216",
                                    "1": "2021-05-26 13:40:36.000",
                                    "2": "Normal",
                                    "3": "11.50",
                                    "4": "NULL"
                                },
                                {
                                    "0": "217",
                                    "1": "2021-06-06 08:09:47.000",
                                    "2": "Normal",
                                    "3": "11.50",
                                    "4": "NULL"
                                },
                                {
                                    "0": "218",
                                    "1": "2021-10-04 08:24:34.000",
                                    "2": "Premium",
                                    "3": "11.50",
                                    "4": "NULL"
                                },
                                {
                                    "0": "219",
                                    "1": "2021-11-13 18:39:48.000",
                                    "2": "Poor",
                                    "3": "11.50",
                                    "4": "NULL"
                                },
                                {
                                    "0": "220",
                                    "1": "2021-10-02 05:53:15.000",
                                    "2": "Normal",
                                    "3": "11.50",
                                    "4": "NULL"
                                },
                                {
                                    "0": "221",
                                    "1": "2021-06-16 20:32:33.000",
                                    "2": "Normal",
                                    "3": "11.50",
                                    "4": "NULL"
                                },
                                {
                                    "0": "222",
                                    "1": "2021-01-24 11:14:42.000",
                                    "2": "Poor",
                                    "3": "11.50",
                                    "4": "NULL"
                                },
                                {
                                    "0": "223",
                                    "1": "2021-10-02 14:34:37.000",
                                    "2": "Premium",
                                    "3": "11.50",
                                    "4": "NULL"
                                },
                                {
                                    "0": "224",
                                    "1": "2021-06-13 13:08:49.000",
                                    "2": "Poor",
                                    "3": "11.50",
                                    "4": "NULL"
                                },
                                {
                                    "0": "225",
                                    "1": "2021-12-27 20:19:14.000",
                                    "2": "Poor",
                                    "3": "11.50",
                                    "4": "NULL"
                                },
                                {
                                    "0": "226",
                                    "1": "2021-04-02 00:08:50.000",
                                    "2": "Normal",
                                    "3": "11.50",
                                    "4": "NULL"
                                },
                                {
                                    "0": "227",
                                    "1": "2020-09-08 18:14:55.000",
                                    "2": "Poor",
                                    "3": "11.50",
                                    "4": "NULL"
                                },
                                {
                                    "0": "228",
                                    "1": "2020-12-09 03:55:09.000",
                                    "2": "Normal",
                                    "3": "11.50",
                                    "4": "NULL"
                                },
                                {
                                    "0": "229",
                                    "1": "2020-02-18 04:44:16.000",
                                    "2": "Premium",
                                    "3": "11.50",
                                    "4": "NULL"
                                },
                                {
                                    "0": "230",
                                    "1": "2020-05-24 15:06:53.000",
                                    "2": "Premium",
                                    "3": "11.50",
                                    "4": "NULL"
                                },
                                {
                                    "0": "231",
                                    "1": "2020-06-04 17:05:01.000",
                                    "2": "Poor",
                                    "3": "11.50",
                                    "4": "NULL"
                                },
                                {
                                    "0": "232",
                                    "1": "2020-10-14 09:27:16.000",
                                    "2": "Premium",
                                    "3": "11.50",
                                    "4": "NULL"
                                },
                                {
                                    "0": "233",
                                    "1": "2020-01-07 09:08:51.000",
                                    "2": "Normal",
                                    "3": "11.50",
                                    "4": "NULL"
                                },
                                {
                                    "0": "234",
                                    "1": "2020-02-27 22:46:49.000",
                                    "2": "Normal",
                                    "3": "11.50",
                                    "4": "NULL"
                                },
                                {
                                    "0": "235",
                                    "1": "2020-09-21 13:50:18.000",
                                    "2": "Premium",
                                    "3": "11.50",
                                    "4": "NULL"
                                },
                                {
                                    "0": "236",
                                    "1": "2020-05-14 03:14:15.000",
                                    "2": "Premium",
                                    "3": "11.50",
                                    "4": "NULL"
                                },
                                {
                                    "0": "237",
                                    "1": "2020-02-12 01:19:29.000",
                                    "2": "Poor",
                                    "3": "11.50",
                                    "4": "NULL"
                                },
                                {
                                    "0": "238",
                                    "1": "2020-02-08 18:31:34.000",
                                    "2": "Poor",
                                    "3": "11.50",
                                    "4": "NULL"
                                },
                                {
                                    "0": "239",
                                    "1": "2020-12-26 16:35:46.000",
                                    "2": "Normal",
                                    "3": "11.50",
                                    "4": "NULL"
                                },
                                {
                                    "0": "240",
                                    "1": "2020-12-22 10:08:00.000",
                                    "2": "Poor",
                                    "3": "11.50",
                                    "4": "NULL"
                                },
                                {
                                    "0": "241",
                                    "1": "2020-02-20 21:45:17.000",
                                    "2": "Premium",
                                    "3": "11.50",
                                    "4": "NULL"
                                },
                                {
                                    "0": "242",
                                    "1": "2020-08-28 00:42:27.000",
                                    "2": "Normal",
                                    "3": "11.50",
                                    "4": "NULL"
                                },
                                {
                                    "0": "243",
                                    "1": "2020-10-21 09:03:22.000",
                                    "2": "Poor",
                                    "3": "11.50",
                                    "4": "NULL"
                                },
                                {
                                    "0": "244",
                                    "1": "2020-09-26 07:44:49.000",
                                    "2": "Poor",
                                    "3": "11.50",
                                    "4": "NULL"
                                },
                                {
                                    "0": "245",
                                    "1": "2020-04-02 13:14:04.000",
                                    "2": "Normal",
                                    "3": "11.50",
                                    "4": "NULL"
                                },
                                {
                                    "0": "246",
                                    "1": "2020-10-10 12:34:48.000",
                                    "2": "Normal",
                                    "3": "11.50",
                                    "4": "NULL"
                                },
                                {
                                    "0": "247",
                                    "1": "2020-08-02 13:11:16.000",
                                    "2": "Premium",
                                    "3": "11.50",
                                    "4": "NULL"
                                },
                                {
                                    "0": "248",
                                    "1": "2020-05-15 07:04:25.000",
                                    "2": "Premium",
                                    "3": "11.50",
                                    "4": "NULL"
                                },
                                {
                                    "0": "249",
                                    "1": "2020-06-16 04:46:01.000",
                                    "2": "Normal",
                                    "3": "11.50",
                                    "4": "NULL"
                                },
                                {
                                    "0": "250",
                                    "1": "2020-07-11 00:47:59.000",
                                    "2": "Poor",
                                    "3": "11.50",
                                    "4": "NULL"
                                },
                                {
                                    "0": "251",
                                    "1": "2020-06-10 22:51:30.000",
                                    "2": "Poor",
                                    "3": "11.50",
                                    "4": "NULL"
                                },
                                {
                                    "0": "252",
                                    "1": "2020-07-10 18:20:24.000",
                                    "2": "Premium",
                                    "3": "11.50",
                                    "4": "NULL"
                                },
                                {
                                    "0": "253",
                                    "1": "2020-04-06 22:20:18.000",
                                    "2": "Premium",
                                    "3": "11.50",
                                    "4": "NULL"
                                },
                                {
                                    "0": "254",
                                    "1": "2020-02-10 21:11:40.000",
                                    "2": "Poor",
                                    "3": "11.50",
                                    "4": "NULL"
                                },
                                {
                                    "0": "255",
                                    "1": "2020-07-24 16:45:21.000",
                                    "2": "Premium",
                                    "3": "11.50",
                                    "4": "NULL"
                                },
                                {
                                    "0": "256",
                                    "1": "2020-04-17 09:52:16.000",
                                    "2": "Premium",
                                    "3": "11.50",
                                    "4": "NULL"
                                },
                                {
                                    "0": "257",
                                    "1": "2020-07-13 06:29:13.000",
                                    "2": "Premium",
                                    "3": "11.50",
                                    "4": "NULL"
                                },
                                {
                                    "0": "258",
                                    "1": "2020-12-04 19:10:11.000",
                                    "2": "Poor",
                                    "3": "11.50",
                                    "4": "NULL"
                                },
                                {
                                    "0": "259",
                                    "1": "2020-12-24 11:47:41.000",
                                    "2": "Normal",
                                    "3": "11.50",
                                    "4": "NULL"
                                },
                                {
                                    "0": "260",
                                    "1": "2020-03-22 17:49:14.000",
                                    "2": "Poor",
                                    "3": "11.50",
                                    "4": "NULL"
                                },
                                {
                                    "0": "261",
                                    "1": "2020-09-19 00:23:56.000",
                                    "2": "Poor",
                                    "3": "11.50",
                                    "4": "NULL"
                                },
                                {
                                    "0": "262",
                                    "1": "2020-11-21 17:47:53.000",
                                    "2": "Premium",
                                    "3": "11.50",
                                    "4": "NULL"
                                },
                                {
                                    "0": "263",
                                    "1": "2020-09-08 23:28:54.000",
                                    "2": "Normal",
                                    "3": "11.50",
                                    "4": "NULL"
                                },
                                {
                                    "0": "264",
                                    "1": "2020-11-25 07:16:51.000",
                                    "2": "Normal",
                                    "3": "11.50",
                                    "4": "NULL"
                                },
                                {
                                    "0": "265",
                                    "1": "2020-04-18 18:29:37.000",
                                    "2": "Poor",
                                    "3": "11.50",
                                    "4": "NULL"
                                },
                                {
                                    "0": "266",
                                    "1": "2020-02-22 23:06:20.000",
                                    "2": "Normal",
                                    "3": "11.50",
                                    "4": "NULL"
                                },
                                {
                                    "0": "267",
                                    "1": "2020-02-15 14:15:55.000",
                                    "2": "Premium",
                                    "3": "11.50",
                                    "4": "NULL"
                                },
                                {
                                    "0": "268",
                                    "1": "2020-01-01 02:28:47.000",
                                    "2": "Poor",
                                    "3": "11.50",
                                    "4": "NULL"
                                },
                                {
                                    "0": "269",
                                    "1": "2020-08-07 04:58:12.000",
                                    "2": "Normal",
                                    "3": "11.50",
                                    "4": "NULL"
                                },
                                {
                                    "0": "270",
                                    "1": "2020-02-11 01:26:43.000",
                                    "2": "Normal",
                                    "3": "11.50",
                                    "4": "NULL"
                                },
                                {
                                    "0": "271",
                                    "1": "2020-04-11 04:54:21.000",
                                    "2": "Normal",
                                    "3": "11.50",
                                    "4": "NULL"
                                },
                                {
                                    "0": "272",
                                    "1": "2020-10-28 06:09:05.000",
                                    "2": "Poor",
                                    "3": "11.50",
                                    "4": "NULL"
                                },
                                {
                                    "0": "273",
                                    "1": "2020-02-16 09:02:22.000",
                                    "2": "Normal",
                                    "3": "11.50",
                                    "4": "NULL"
                                },
                                {
                                    "0": "274",
                                    "1": "2020-10-24 23:33:20.000",
                                    "2": "Normal",
                                    "3": "11.50",
                                    "4": "NULL"
                                },
                                {
                                    "0": "275",
                                    "1": "2020-09-08 06:43:28.000",
                                    "2": "Poor",
                                    "3": "11.50",
                                    "4": "NULL"
                                },
                                {
                                    "0": "276",
                                    "1": "2020-10-01 11:44:44.000",
                                    "2": "Normal",
                                    "3": "11.50",
                                    "4": "NULL"
                                },
                                {
                                    "0": "277",
                                    "1": "2020-08-13 19:05:57.000",
                                    "2": "Normal",
                                    "3": "11.50",
                                    "4": "NULL"
                                },
                                {
                                    "0": "278",
                                    "1": "2020-12-24 16:51:09.000",
                                    "2": "Poor",
                                    "3": "11.50",
                                    "4": "NULL"
                                },
                                {
                                    "0": "279",
                                    "1": "2020-03-02 15:54:42.000",
                                    "2": "Premium",
                                    "3": "11.50",
                                    "4": "NULL"
                                },
                                {
                                    "0": "280",
                                    "1": "2020-10-01 00:39:33.000",
                                    "2": "Poor",
                                    "3": "11.50",
                                    "4": "NULL"
                                },
                                {
                                    "0": "281",
                                    "1": "2020-06-19 09:16:25.000",
                                    "2": "Normal",
                                    "3": "11.50",
                                    "4": "NULL"
                                },
                                {
                                    "0": "282",
                                    "1": "2020-07-24 22:43:52.000",
                                    "2": "Normal",
                                    "3": "11.50",
                                    "4": "NULL"
                                },
                                {
                                    "0": "283",
                                    "1": "2020-10-04 01:19:12.000",
                                    "2": "Poor",
                                    "3": "11.50",
                                    "4": "NULL"
                                },
                                {
                                    "0": "284",
                                    "1": "2020-02-14 01:31:52.000",
                                    "2": "Premium",
                                    "3": "11.50",
                                    "4": "NULL"
                                },
                                {
                                    "0": "285",
                                    "1": "2020-12-05 06:41:27.000",
                                    "2": "Normal",
                                    "3": "11.50",
                                    "4": "NULL"
                                },
                                {
                                    "0": "286",
                                    "1": "2020-08-11 04:20:11.000",
                                    "2": "Normal",
                                    "3": "11.50",
                                    "4": "NULL"
                                },
                                {
                                    "0": "287",
                                    "1": "2020-03-23 19:39:36.000",
                                    "2": "Poor",
                                    "3": "11.50",
                                    "4": "NULL"
                                },
                                {
                                    "0": "288",
                                    "1": "2020-01-11 23:43:08.000",
                                    "2": "Normal",
                                    "3": "11.50",
                                    "4": "NULL"
                                },
                                {
                                    "0": "289",
                                    "1": "2020-02-20 04:03:54.000",
                                    "2": "Premium",
                                    "3": "11.50",
                                    "4": "NULL"
                                },
                                {
                                    "0": "290",
                                    "1": "2020-06-27 20:09:04.000",
                                    "2": "Normal",
                                    "3": "11.50",
                                    "4": "NULL"
                                },
                                {
                                    "0": "291",
                                    "1": "2020-04-16 23:59:34.000",
                                    "2": "Normal",
                                    "3": "11.50",
                                    "4": "NULL"
                                },
                                {
                                    "0": "292",
                                    "1": "2020-05-25 13:12:36.000",
                                    "2": "Poor",
                                    "3": "11.50",
                                    "4": "NULL"
                                },
                                {
                                    "0": "293",
                                    "1": "2020-12-25 13:43:51.000",
                                    "2": "Normal",
                                    "3": "11.50",
                                    "4": "NULL"
                                },
                                {
                                    "0": "294",
                                    "1": "2020-08-21 02:37:28.000",
                                    "2": "Poor",
                                    "3": "11.50",
                                    "4": "NULL"
                                },
                                {
                                    "0": "295",
                                    "1": "2020-05-22 19:20:38.000",
                                    "2": "Poor",
                                    "3": "11.50",
                                    "4": "NULL"
                                },
                                {
                                    "0": "296",
                                    "1": "2020-11-11 19:26:01.000",
                                    "2": "Poor",
                                    "3": "11.50",
                                    "4": "NULL"
                                },
                                {
                                    "0": "297",
                                    "1": "2020-01-26 22:44:56.000",
                                    "2": "Premium",
                                    "3": "11.50",
                                    "4": "NULL"
                                },
                                {
                                    "0": "298",
                                    "1": "2020-01-10 19:21:06.000",
                                    "2": "Poor",
                                    "3": "11.50",
                                    "4": "NULL"
                                },
                                {
                                    "0": "299",
                                    "1": "2020-08-05 17:56:06.000",
                                    "2": "Normal",
                                    "3": "11.50",
                                    "4": "NULL"
                                },
                                {
                                    "0": "300",
                                    "1": "2020-09-22 23:14:39.000",
                                    "2": "Poor",
                                    "3": "11.50",
                                    "4": "NULL"
                                },
                                {
                                    "0": "301",
                                    "1": "2020-06-27 03:30:41.000",
                                    "2": "Poor",
                                    "3": "11.50",
                                    "4": "NULL"
                                },
                                {
                                    "0": "302",
                                    "1": "2020-07-21 16:48:31.000",
                                    "2": "Normal",
                                    "3": "11.50",
                                    "4": "NULL"
                                },
                                {
                                    "0": "303",
                                    "1": "2020-08-13 20:04:17.000",
                                    "2": "Normal",
                                    "3": "11.50",
                                    "4": "NULL"
                                },
                                {
                                    "0": "304",
                                    "1": "2020-06-05 11:41:51.000",
                                    "2": "Poor",
                                    "3": "11.50",
                                    "4": "NULL"
                                },
                                {
                                    "0": "305",
                                    "1": "2020-04-22 15:42:59.000",
                                    "2": "Poor",
                                    "3": "11.50",
                                    "4": "NULL"
                                },
                                {
                                    "0": "306",
                                    "1": "2020-07-06 09:16:29.000",
                                    "2": "Normal",
                                    "3": "11.50",
                                    "4": "NULL"
                                },
                                {
                                    "0": "307",
                                    "1": "2020-01-24 15:06:00.000",
                                    "2": "Normal",
                                    "3": "11.50",
                                    "4": "NULL"
                                },
                                {
                                    "0": "308",
                                    "1": "2020-10-12 15:36:34.000",
                                    "2": "Premium",
                                    "3": "11.50",
                                    "4": "NULL"
                                },
                                {
                                    "0": "309",
                                    "1": "2020-02-27 09:17:28.000",
                                    "2": "Premium",
                                    "3": "11.50",
                                    "4": "NULL"
                                },
                                {
                                    "0": "310",
                                    "1": "2020-04-16 17:58:08.000",
                                    "2": "Normal",
                                    "3": "11.50",
                                    "4": "NULL"
                                },
                                {
                                    "0": "311",
                                    "1": "2020-06-19 06:28:13.000",
                                    "2": "Premium",
                                    "3": "11.50",
                                    "4": "NULL"
                                },
                                {
                                    "0": "312",
                                    "1": "2020-06-27 01:37:55.000",
                                    "2": "Premium",
                                    "3": "11.50",
                                    "4": "NULL"
                                },
                                {
                                    "0": "313",
                                    "1": "2020-04-09 14:40:38.000",
                                    "2": "Premium",
                                    "3": "11.50",
                                    "4": "NULL"
                                },
                                {
                                    "0": "314",
                                    "1": "2020-12-02 09:38:08.000",
                                    "2": "Normal",
                                    "3": "11.50",
                                    "4": "NULL"
                                },
                                {
                                    "0": "315",
                                    "1": "2020-03-12 07:01:00.000",
                                    "2": "Normal",
                                    "3": "11.50",
                                    "4": "NULL"
                                },
                                {
                                    "0": "316",
                                    "1": "2020-09-17 03:45:52.000",
                                    "2": "Poor",
                                    "3": "11.50",
                                    "4": "NULL"
                                },
                                {
                                    "0": "317",
                                    "1": "2020-02-23 23:33:13.000",
                                    "2": "Poor",
                                    "3": "11.50",
                                    "4": "NULL"
                                },
                                {
                                    "0": "318",
                                    "1": "2020-06-13 13:04:18.000",
                                    "2": "Poor",
                                    "3": "11.50",
                                    "4": "NULL"
                                },
                                {
                                    "0": "319",
                                    "1": "2020-04-08 15:36:03.000",
                                    "2": "Normal",
                                    "3": "11.50",
                                    "4": "NULL"
                                },
                                {
                                    "0": "320",
                                    "1": "2020-03-25 06:26:30.000",
                                    "2": "Normal",
                                    "3": "11.50",
                                    "4": "NULL"
                                },
                                {
                                    "0": "321",
                                    "1": "2020-01-21 22:35:54.000",
                                    "2": "Poor",
                                    "3": "11.50",
                                    "4": "NULL"
                                },
                                {
                                    "0": "322",
                                    "1": "2020-07-03 22:31:03.000",
                                    "2": "Premium",
                                    "3": "11.50",
                                    "4": "NULL"
                                },
                                {
                                    "0": "323",
                                    "1": "2020-03-19 11:45:37.000",
                                    "2": "Normal",
                                    "3": "11.50",
                                    "4": "NULL"
                                },
                                {
                                    "0": "324",
                                    "1": "2020-03-21 17:47:42.000",
                                    "2": "Premium",
                                    "3": "11.50",
                                    "4": "NULL"
                                },
                                {
                                    "0": "325",
                                    "1": "2020-04-20 18:31:46.000",
                                    "2": "Premium",
                                    "3": "11.50",
                                    "4": "NULL"
                                },
                                {
                                    "0": "326",
                                    "1": "2020-04-14 12:47:24.000",
                                    "2": "Poor",
                                    "3": "11.50",
                                    "4": "NULL"
                                }
                            ]
                        },
                        "text/html": "<table><tr><th>Ticket_ID</th><th>Date</th><th>Ticket_Class</th><th>Price</th><th>Reservation</th></tr><tr><td>1</td><td>2022-10-22 00:00:00.000</td><td>Poor</td><td>11.50</td><td>NULL</td></tr><tr><td>2</td><td>2022-10-22 00:00:00.000</td><td>Poor</td><td>11.50</td><td>NULL</td></tr><tr><td>3</td><td>2022-10-29 00:00:00.000</td><td>Poor</td><td>11.50</td><td>NULL</td></tr><tr><td>4</td><td>2022-12-01 00:00:00.000</td><td>Poor</td><td>11.50</td><td>NULL</td></tr><tr><td>5</td><td>2022-12-01 00:00:00.000</td><td>Premium</td><td>11.50</td><td>NULL</td></tr><tr><td>6</td><td>2022-10-31 00:00:00.000</td><td>Poor</td><td>11.50</td><td>NULL</td></tr><tr><td>7</td><td>2022-11-02 06:02:40.570</td><td>Normal</td><td>11.50</td><td>NULL</td></tr><tr><td>8</td><td>2022-11-02 06:02:58.347</td><td>Poor</td><td>11.50</td><td>NULL</td></tr><tr><td>13</td><td>2022-11-02 07:45:26.007</td><td>Poor</td><td>11.50</td><td>NULL</td></tr><tr><td>14</td><td>2022-11-02 07:45:38.123</td><td>Poor</td><td>11.50</td><td>NULL</td></tr><tr><td>15</td><td>2022-11-02 08:06:22.170</td><td>Poor</td><td>11.50</td><td>NULL</td></tr><tr><td>16</td><td>2022-11-02 08:27:46.293</td><td>Poor</td><td>11.50</td><td>NULL</td></tr><tr><td>17</td><td>2022-11-02 08:30:03.027</td><td>Poor</td><td>11.50</td><td>NULL</td></tr><tr><td>18</td><td>2022-11-02 08:30:10.103</td><td>Poor</td><td>11.50</td><td>NULL</td></tr><tr><td>19</td><td>2022-11-02 08:34:41.650</td><td>Poor</td><td>11.50</td><td>NULL</td></tr><tr><td>20</td><td>2022-11-02 08:35:56.340</td><td>Poor</td><td>11.50</td><td>NULL</td></tr><tr><td>21</td><td>2022-11-02 08:37:23.457</td><td>Poor</td><td>11.50</td><td>NULL</td></tr><tr><td>22</td><td>2022-04-21 03:22:21.000</td><td>Premium</td><td>11.50</td><td>NULL</td></tr><tr><td>23</td><td>2022-11-02 08:41:18.853</td><td>Poor</td><td>11.50</td><td>NULL</td></tr><tr><td>24</td><td>2022-11-02 08:44:11.740</td><td>Poor</td><td>11.50</td><td>NULL</td></tr><tr><td>25</td><td>2022-11-02 08:45:39.817</td><td>Poor</td><td>11.50</td><td>NULL</td></tr><tr><td>26</td><td>2022-11-02 08:45:39.887</td><td>Poor</td><td>11.50</td><td>NULL</td></tr><tr><td>27</td><td>2022-05-27 00:17:24.000</td><td>Premium</td><td>11.50</td><td>NULL</td></tr><tr><td>28</td><td>2022-12-24 14:55:11.000</td><td>Premium</td><td>11.50</td><td>NULL</td></tr><tr><td>29</td><td>2022-03-03 09:05:41.000</td><td>Poor</td><td>11.50</td><td>NULL</td></tr><tr><td>30</td><td>2022-06-12 07:47:24.000</td><td>Normal</td><td>11.50</td><td>NULL</td></tr><tr><td>31</td><td>2022-06-17 08:15:42.000</td><td>Poor</td><td>11.50</td><td>NULL</td></tr><tr><td>32</td><td>2022-12-26 09:48:48.000</td><td>Premium</td><td>11.50</td><td>NULL</td></tr><tr><td>33</td><td>2022-09-10 19:52:15.000</td><td>Normal</td><td>11.50</td><td>NULL</td></tr><tr><td>34</td><td>2022-08-26 06:44:38.000</td><td>Normal</td><td>11.50</td><td>NULL</td></tr><tr><td>35</td><td>2022-04-03 15:07:22.000</td><td>Premium</td><td>11.50</td><td>NULL</td></tr><tr><td>36</td><td>2022-12-23 23:28:55.000</td><td>Poor</td><td>11.50</td><td>NULL</td></tr><tr><td>37</td><td>2022-09-07 01:08:00.000</td><td>Poor</td><td>11.50</td><td>NULL</td></tr><tr><td>38</td><td>2022-07-20 17:29:14.000</td><td>Poor</td><td>11.50</td><td>NULL</td></tr><tr><td>39</td><td>2022-03-22 21:55:44.000</td><td>Premium</td><td>11.50</td><td>NULL</td></tr><tr><td>40</td><td>2022-12-02 22:40:06.000</td><td>Normal</td><td>11.50</td><td>NULL</td></tr><tr><td>41</td><td>2022-06-23 19:42:31.000</td><td>Normal</td><td>11.50</td><td>NULL</td></tr><tr><td>42</td><td>2022-12-13 20:08:52.000</td><td>Normal</td><td>11.50</td><td>NULL</td></tr><tr><td>43</td><td>2022-09-26 07:59:01.000</td><td>Normal</td><td>11.50</td><td>NULL</td></tr><tr><td>44</td><td>2022-01-16 10:42:18.000</td><td>Premium</td><td>11.50</td><td>NULL</td></tr><tr><td>45</td><td>2022-05-23 08:24:48.000</td><td>Normal</td><td>11.50</td><td>NULL</td></tr><tr><td>46</td><td>2022-06-12 10:40:09.000</td><td>Normal</td><td>11.50</td><td>NULL</td></tr><tr><td>47</td><td>2022-04-11 17:55:19.000</td><td>Poor</td><td>11.50</td><td>NULL</td></tr><tr><td>48</td><td>2022-07-01 05:09:31.000</td><td>Normal</td><td>11.50</td><td>NULL</td></tr><tr><td>49</td><td>2022-08-02 03:37:06.000</td><td>Normal</td><td>11.50</td><td>NULL</td></tr><tr><td>50</td><td>2022-09-27 07:49:47.000</td><td>Normal</td><td>11.50</td><td>NULL</td></tr><tr><td>51</td><td>2022-04-09 15:19:01.000</td><td>Poor</td><td>11.50</td><td>NULL</td></tr><tr><td>52</td><td>2022-02-11 11:55:39.000</td><td>Poor</td><td>11.50</td><td>NULL</td></tr><tr><td>53</td><td>2022-11-14 03:54:35.000</td><td>Normal</td><td>11.50</td><td>NULL</td></tr><tr><td>54</td><td>2022-03-02 21:06:08.000</td><td>Normal</td><td>11.50</td><td>NULL</td></tr><tr><td>55</td><td>2022-09-28 00:14:48.000</td><td>Normal</td><td>11.50</td><td>NULL</td></tr><tr><td>56</td><td>2022-07-13 07:01:23.000</td><td>Poor</td><td>11.50</td><td>NULL</td></tr><tr><td>57</td><td>2022-08-27 00:37:43.000</td><td>Premium</td><td>11.50</td><td>NULL</td></tr><tr><td>58</td><td>2022-10-22 12:23:31.000</td><td>Normal</td><td>11.50</td><td>NULL</td></tr><tr><td>59</td><td>2022-08-04 15:06:59.000</td><td>Normal</td><td>11.50</td><td>NULL</td></tr><tr><td>60</td><td>2022-08-09 11:49:53.000</td><td>Premium</td><td>11.50</td><td>NULL</td></tr><tr><td>61</td><td>2022-02-12 20:40:47.000</td><td>Premium</td><td>11.50</td><td>NULL</td></tr><tr><td>62</td><td>2022-11-07 19:57:45.000</td><td>Normal</td><td>11.50</td><td>NULL</td></tr><tr><td>63</td><td>2022-10-23 10:54:57.000</td><td>Normal</td><td>11.50</td><td>NULL</td></tr><tr><td>64</td><td>2022-11-01 21:07:21.000</td><td>Poor</td><td>11.50</td><td>NULL</td></tr><tr><td>65</td><td>2022-08-14 05:06:29.000</td><td>Normal</td><td>11.50</td><td>NULL</td></tr><tr><td>66</td><td>2022-10-10 23:39:53.000</td><td>Normal</td><td>11.50</td><td>NULL</td></tr><tr><td>67</td><td>2022-10-16 05:31:28.000</td><td>Normal</td><td>11.50</td><td>NULL</td></tr><tr><td>68</td><td>2022-05-09 07:13:31.000</td><td>Normal</td><td>11.50</td><td>NULL</td></tr><tr><td>69</td><td>2022-11-16 06:06:14.000</td><td>Premium</td><td>11.50</td><td>NULL</td></tr><tr><td>70</td><td>2022-06-25 01:17:25.000</td><td>Poor</td><td>11.50</td><td>NULL</td></tr><tr><td>71</td><td>2022-08-27 08:51:52.000</td><td>Normal</td><td>11.50</td><td>NULL</td></tr><tr><td>72</td><td>2022-06-16 01:42:01.000</td><td>Poor</td><td>11.50</td><td>NULL</td></tr><tr><td>73</td><td>2022-09-02 20:59:10.000</td><td>Normal</td><td>11.50</td><td>NULL</td></tr><tr><td>74</td><td>2022-09-23 14:04:15.000</td><td>Normal</td><td>11.50</td><td>NULL</td></tr><tr><td>75</td><td>2022-05-27 12:33:47.000</td><td>Normal</td><td>11.50</td><td>NULL</td></tr><tr><td>76</td><td>2022-08-21 17:00:14.000</td><td>Poor</td><td>11.50</td><td>NULL</td></tr><tr><td>77</td><td>2022-07-13 01:40:22.000</td><td>Premium</td><td>11.50</td><td>NULL</td></tr><tr><td>78</td><td>2022-07-13 02:34:06.000</td><td>Premium</td><td>11.50</td><td>NULL</td></tr><tr><td>79</td><td>2022-05-22 00:24:19.000</td><td>Normal</td><td>11.50</td><td>NULL</td></tr><tr><td>80</td><td>2022-03-16 21:39:21.000</td><td>Normal</td><td>11.50</td><td>NULL</td></tr><tr><td>81</td><td>2022-12-10 21:02:52.000</td><td>Poor</td><td>11.50</td><td>NULL</td></tr><tr><td>82</td><td>2022-10-13 16:07:53.000</td><td>Poor</td><td>11.50</td><td>NULL</td></tr><tr><td>83</td><td>2022-09-09 18:37:09.000</td><td>Premium</td><td>11.50</td><td>NULL</td></tr><tr><td>84</td><td>2022-11-27 11:51:44.000</td><td>Normal</td><td>11.50</td><td>NULL</td></tr><tr><td>85</td><td>2022-11-11 04:15:56.000</td><td>Normal</td><td>11.50</td><td>NULL</td></tr><tr><td>86</td><td>2022-06-08 22:15:12.000</td><td>Poor</td><td>11.50</td><td>NULL</td></tr><tr><td>87</td><td>2022-02-13 00:44:56.000</td><td>Normal</td><td>11.50</td><td>NULL</td></tr><tr><td>88</td><td>2022-07-01 06:44:20.000</td><td>Premium</td><td>11.50</td><td>NULL</td></tr><tr><td>89</td><td>2022-06-05 08:53:37.000</td><td>Normal</td><td>11.50</td><td>NULL</td></tr><tr><td>90</td><td>2022-01-21 14:44:42.000</td><td>Normal</td><td>11.50</td><td>NULL</td></tr><tr><td>91</td><td>2022-12-28 00:47:57.000</td><td>Poor</td><td>11.50</td><td>NULL</td></tr><tr><td>92</td><td>2022-02-14 02:48:12.000</td><td>Poor</td><td>11.50</td><td>NULL</td></tr><tr><td>93</td><td>2022-07-11 14:35:59.000</td><td>Normal</td><td>11.50</td><td>NULL</td></tr><tr><td>94</td><td>2022-09-19 12:46:34.000</td><td>Premium</td><td>11.50</td><td>NULL</td></tr><tr><td>95</td><td>2022-04-05 05:18:32.000</td><td>Normal</td><td>11.50</td><td>NULL</td></tr><tr><td>96</td><td>2022-05-23 14:56:00.000</td><td>Poor</td><td>11.50</td><td>NULL</td></tr><tr><td>97</td><td>2022-07-01 07:06:46.000</td><td>Normal</td><td>11.50</td><td>NULL</td></tr><tr><td>98</td><td>2022-08-03 11:26:40.000</td><td>Poor</td><td>11.50</td><td>NULL</td></tr><tr><td>99</td><td>2022-06-07 14:56:23.000</td><td>Normal</td><td>11.50</td><td>NULL</td></tr><tr><td>100</td><td>2022-03-07 09:00:02.000</td><td>Premium</td><td>11.50</td><td>NULL</td></tr><tr><td>101</td><td>2022-05-15 17:16:37.000</td><td>Normal</td><td>11.50</td><td>NULL</td></tr><tr><td>102</td><td>2022-01-28 19:51:06.000</td><td>Premium</td><td>11.50</td><td>NULL</td></tr><tr><td>103</td><td>2022-11-13 14:52:29.000</td><td>Premium</td><td>11.50</td><td>NULL</td></tr><tr><td>104</td><td>2022-01-07 03:07:30.000</td><td>Normal</td><td>11.50</td><td>NULL</td></tr><tr><td>105</td><td>2022-05-17 07:30:48.000</td><td>Poor</td><td>11.50</td><td>NULL</td></tr><tr><td>106</td><td>2022-04-13 23:07:08.000</td><td>Premium</td><td>11.50</td><td>NULL</td></tr><tr><td>107</td><td>2022-04-06 01:24:46.000</td><td>Poor</td><td>11.50</td><td>NULL</td></tr><tr><td>108</td><td>2022-06-03 00:45:37.000</td><td>Normal</td><td>11.50</td><td>NULL</td></tr><tr><td>109</td><td>2022-10-17 00:19:56.000</td><td>Poor</td><td>11.50</td><td>NULL</td></tr><tr><td>110</td><td>2022-06-26 17:15:58.000</td><td>Premium</td><td>11.50</td><td>NULL</td></tr><tr><td>111</td><td>2022-05-01 13:47:41.000</td><td>Poor</td><td>11.50</td><td>NULL</td></tr><tr><td>112</td><td>2022-02-26 05:36:33.000</td><td>Normal</td><td>11.50</td><td>NULL</td></tr><tr><td>113</td><td>2022-12-12 23:56:38.000</td><td>Normal</td><td>11.50</td><td>NULL</td></tr><tr><td>114</td><td>2022-02-09 13:33:03.000</td><td>Normal</td><td>11.50</td><td>NULL</td></tr><tr><td>115</td><td>2022-11-09 17:36:55.000</td><td>Poor</td><td>11.50</td><td>NULL</td></tr><tr><td>116</td><td>2022-11-22 09:47:16.000</td><td>Premium</td><td>11.50</td><td>NULL</td></tr><tr><td>117</td><td>2022-08-10 21:42:26.000</td><td>Poor</td><td>11.50</td><td>NULL</td></tr><tr><td>118</td><td>2022-03-02 04:14:49.000</td><td>Premium</td><td>11.50</td><td>NULL</td></tr><tr><td>119</td><td>2022-07-18 23:12:41.000</td><td>Normal</td><td>11.50</td><td>NULL</td></tr><tr><td>120</td><td>2022-04-05 14:00:39.000</td><td>Poor</td><td>11.50</td><td>NULL</td></tr><tr><td>121</td><td>2022-04-03 05:43:33.000</td><td>Poor</td><td>11.50</td><td>NULL</td></tr><tr><td>122</td><td>2022-01-12 02:15:40.000</td><td>Premium</td><td>11.50</td><td>NULL</td></tr><tr><td>123</td><td>2022-10-18 12:20:15.000</td><td>Premium</td><td>11.50</td><td>NULL</td></tr><tr><td>124</td><td>2022-06-18 00:33:45.000</td><td>Premium</td><td>11.50</td><td>NULL</td></tr><tr><td>125</td><td>2022-09-03 23:44:33.000</td><td>Premium</td><td>11.50</td><td>NULL</td></tr><tr><td>126</td><td>2022-08-08 08:06:36.000</td><td>Poor</td><td>11.50</td><td>NULL</td></tr><tr><td>127</td><td>2021-09-02 03:41:17.000</td><td>Poor</td><td>11.50</td><td>NULL</td></tr><tr><td>128</td><td>2021-05-03 05:47:26.000</td><td>Normal</td><td>11.50</td><td>NULL</td></tr><tr><td>129</td><td>2021-05-14 00:32:11.000</td><td>Premium</td><td>11.50</td><td>NULL</td></tr><tr><td>130</td><td>2021-09-16 20:12:01.000</td><td>Poor</td><td>11.50</td><td>NULL</td></tr><tr><td>131</td><td>2021-05-23 00:53:23.000</td><td>Poor</td><td>11.50</td><td>NULL</td></tr><tr><td>132</td><td>2021-01-18 05:26:08.000</td><td>Poor</td><td>11.50</td><td>NULL</td></tr><tr><td>133</td><td>2021-12-14 08:55:46.000</td><td>Premium</td><td>11.50</td><td>NULL</td></tr><tr><td>134</td><td>2021-03-25 12:33:07.000</td><td>Normal</td><td>11.50</td><td>NULL</td></tr><tr><td>135</td><td>2021-08-15 06:35:19.000</td><td>Normal</td><td>11.50</td><td>NULL</td></tr><tr><td>136</td><td>2021-01-17 16:05:51.000</td><td>Premium</td><td>11.50</td><td>NULL</td></tr><tr><td>137</td><td>2021-04-17 08:34:38.000</td><td>Poor</td><td>11.50</td><td>NULL</td></tr><tr><td>138</td><td>2021-10-13 12:47:58.000</td><td>Premium</td><td>11.50</td><td>NULL</td></tr><tr><td>139</td><td>2021-07-10 01:19:04.000</td><td>Poor</td><td>11.50</td><td>NULL</td></tr><tr><td>140</td><td>2021-09-04 22:37:41.000</td><td>Poor</td><td>11.50</td><td>NULL</td></tr><tr><td>141</td><td>2021-10-05 14:16:18.000</td><td>Poor</td><td>11.50</td><td>NULL</td></tr><tr><td>142</td><td>2021-12-22 15:18:22.000</td><td>Poor</td><td>11.50</td><td>NULL</td></tr><tr><td>143</td><td>2021-03-21 16:36:33.000</td><td>Normal</td><td>11.50</td><td>NULL</td></tr><tr><td>144</td><td>2021-10-04 23:49:58.000</td><td>Normal</td><td>11.50</td><td>NULL</td></tr><tr><td>145</td><td>2021-08-08 20:11:04.000</td><td>Premium</td><td>11.50</td><td>NULL</td></tr><tr><td>146</td><td>2021-04-14 18:13:35.000</td><td>Poor</td><td>11.50</td><td>NULL</td></tr><tr><td>147</td><td>2021-11-18 01:23:52.000</td><td>Normal</td><td>11.50</td><td>NULL</td></tr><tr><td>148</td><td>2021-09-23 14:04:29.000</td><td>Normal</td><td>11.50</td><td>NULL</td></tr><tr><td>149</td><td>2021-05-01 10:23:40.000</td><td>Normal</td><td>11.50</td><td>NULL</td></tr><tr><td>150</td><td>2021-03-17 22:02:39.000</td><td>Premium</td><td>11.50</td><td>NULL</td></tr><tr><td>151</td><td>2021-11-11 13:24:38.000</td><td>Poor</td><td>11.50</td><td>NULL</td></tr><tr><td>152</td><td>2021-11-24 15:34:43.000</td><td>Premium</td><td>11.50</td><td>NULL</td></tr><tr><td>153</td><td>2021-01-23 18:57:46.000</td><td>Premium</td><td>11.50</td><td>NULL</td></tr><tr><td>154</td><td>2021-09-06 19:42:23.000</td><td>Poor</td><td>11.50</td><td>NULL</td></tr><tr><td>155</td><td>2021-04-10 04:51:42.000</td><td>Normal</td><td>11.50</td><td>NULL</td></tr><tr><td>156</td><td>2021-04-01 08:12:41.000</td><td>Premium</td><td>11.50</td><td>NULL</td></tr><tr><td>157</td><td>2021-10-18 20:06:10.000</td><td>Normal</td><td>11.50</td><td>NULL</td></tr><tr><td>158</td><td>2021-03-17 10:38:33.000</td><td>Poor</td><td>11.50</td><td>NULL</td></tr><tr><td>159</td><td>2021-08-20 12:26:09.000</td><td>Premium</td><td>11.50</td><td>NULL</td></tr><tr><td>160</td><td>2021-06-05 09:04:18.000</td><td>Normal</td><td>11.50</td><td>NULL</td></tr><tr><td>161</td><td>2021-01-24 21:13:24.000</td><td>Poor</td><td>11.50</td><td>NULL</td></tr><tr><td>162</td><td>2021-08-15 23:29:56.000</td><td>Normal</td><td>11.50</td><td>NULL</td></tr><tr><td>163</td><td>2021-08-04 10:45:24.000</td><td>Premium</td><td>11.50</td><td>NULL</td></tr><tr><td>164</td><td>2021-02-01 00:05:26.000</td><td>Premium</td><td>11.50</td><td>NULL</td></tr><tr><td>165</td><td>2021-03-07 08:59:19.000</td><td>Poor</td><td>11.50</td><td>NULL</td></tr><tr><td>166</td><td>2021-03-19 07:41:14.000</td><td>Premium</td><td>11.50</td><td>NULL</td></tr><tr><td>167</td><td>2021-05-28 08:37:58.000</td><td>Premium</td><td>11.50</td><td>NULL</td></tr><tr><td>168</td><td>2021-05-20 16:21:07.000</td><td>Normal</td><td>11.50</td><td>NULL</td></tr><tr><td>169</td><td>2021-09-18 13:19:36.000</td><td>Poor</td><td>11.50</td><td>NULL</td></tr><tr><td>170</td><td>2021-06-09 12:03:44.000</td><td>Normal</td><td>11.50</td><td>NULL</td></tr><tr><td>171</td><td>2021-05-01 22:07:39.000</td><td>Normal</td><td>11.50</td><td>NULL</td></tr><tr><td>172</td><td>2021-10-09 00:02:05.000</td><td>Poor</td><td>11.50</td><td>NULL</td></tr><tr><td>173</td><td>2021-09-19 18:20:33.000</td><td>Poor</td><td>11.50</td><td>NULL</td></tr><tr><td>174</td><td>2021-05-27 11:56:31.000</td><td>Premium</td><td>11.50</td><td>NULL</td></tr><tr><td>175</td><td>2021-06-07 21:48:16.000</td><td>Premium</td><td>11.50</td><td>NULL</td></tr><tr><td>176</td><td>2021-06-21 21:09:45.000</td><td>Premium</td><td>11.50</td><td>NULL</td></tr><tr><td>177</td><td>2021-04-15 08:05:40.000</td><td>Normal</td><td>11.50</td><td>NULL</td></tr><tr><td>178</td><td>2021-10-01 14:19:31.000</td><td>Poor</td><td>11.50</td><td>NULL</td></tr><tr><td>179</td><td>2021-03-18 11:45:48.000</td><td>Premium</td><td>11.50</td><td>NULL</td></tr><tr><td>180</td><td>2021-01-10 01:02:52.000</td><td>Normal</td><td>11.50</td><td>NULL</td></tr><tr><td>181</td><td>2021-08-15 07:10:08.000</td><td>Normal</td><td>11.50</td><td>NULL</td></tr><tr><td>182</td><td>2021-03-02 01:19:54.000</td><td>Poor</td><td>11.50</td><td>NULL</td></tr><tr><td>183</td><td>2021-02-16 18:41:00.000</td><td>Normal</td><td>11.50</td><td>NULL</td></tr><tr><td>184</td><td>2021-11-19 10:55:42.000</td><td>Premium</td><td>11.50</td><td>NULL</td></tr><tr><td>185</td><td>2021-03-14 07:40:42.000</td><td>Normal</td><td>11.50</td><td>NULL</td></tr><tr><td>186</td><td>2021-10-14 14:12:35.000</td><td>Poor</td><td>11.50</td><td>NULL</td></tr><tr><td>187</td><td>2021-01-22 19:35:47.000</td><td>Normal</td><td>11.50</td><td>NULL</td></tr><tr><td>188</td><td>2021-06-16 02:24:24.000</td><td>Poor</td><td>11.50</td><td>NULL</td></tr><tr><td>189</td><td>2021-08-11 00:29:21.000</td><td>Poor</td><td>11.50</td><td>NULL</td></tr><tr><td>190</td><td>2021-10-23 05:19:46.000</td><td>Normal</td><td>11.50</td><td>NULL</td></tr><tr><td>191</td><td>2021-11-12 10:27:14.000</td><td>Poor</td><td>11.50</td><td>NULL</td></tr><tr><td>192</td><td>2021-02-05 08:20:42.000</td><td>Premium</td><td>11.50</td><td>NULL</td></tr><tr><td>193</td><td>2021-01-20 09:40:06.000</td><td>Poor</td><td>11.50</td><td>NULL</td></tr><tr><td>194</td><td>2021-06-16 12:41:45.000</td><td>Normal</td><td>11.50</td><td>NULL</td></tr><tr><td>195</td><td>2021-02-02 01:05:17.000</td><td>Poor</td><td>11.50</td><td>NULL</td></tr><tr><td>196</td><td>2021-10-10 06:16:17.000</td><td>Poor</td><td>11.50</td><td>NULL</td></tr><tr><td>197</td><td>2021-06-16 17:12:22.000</td><td>Premium</td><td>11.50</td><td>NULL</td></tr><tr><td>198</td><td>2021-10-20 07:42:11.000</td><td>Premium</td><td>11.50</td><td>NULL</td></tr><tr><td>199</td><td>2021-12-02 15:12:01.000</td><td>Premium</td><td>11.50</td><td>NULL</td></tr><tr><td>200</td><td>2021-04-25 01:58:19.000</td><td>Normal</td><td>11.50</td><td>NULL</td></tr><tr><td>201</td><td>2021-12-19 04:34:50.000</td><td>Normal</td><td>11.50</td><td>NULL</td></tr><tr><td>202</td><td>2021-10-03 05:10:57.000</td><td>Normal</td><td>11.50</td><td>NULL</td></tr><tr><td>203</td><td>2021-09-19 21:39:13.000</td><td>Poor</td><td>11.50</td><td>NULL</td></tr><tr><td>204</td><td>2021-04-23 18:06:04.000</td><td>Premium</td><td>11.50</td><td>NULL</td></tr><tr><td>205</td><td>2021-05-14 09:01:03.000</td><td>Poor</td><td>11.50</td><td>NULL</td></tr><tr><td>206</td><td>2021-07-19 00:35:15.000</td><td>Normal</td><td>11.50</td><td>NULL</td></tr><tr><td>207</td><td>2021-03-10 00:56:23.000</td><td>Premium</td><td>11.50</td><td>NULL</td></tr><tr><td>208</td><td>2021-03-03 00:05:24.000</td><td>Premium</td><td>11.50</td><td>NULL</td></tr><tr><td>209</td><td>2021-05-17 16:33:31.000</td><td>Premium</td><td>11.50</td><td>NULL</td></tr><tr><td>210</td><td>2021-03-05 18:21:22.000</td><td>Poor</td><td>11.50</td><td>NULL</td></tr><tr><td>211</td><td>2021-02-27 20:36:25.000</td><td>Premium</td><td>11.50</td><td>NULL</td></tr><tr><td>212</td><td>2021-04-26 07:36:55.000</td><td>Normal</td><td>11.50</td><td>NULL</td></tr><tr><td>213</td><td>2021-01-17 22:51:55.000</td><td>Normal</td><td>11.50</td><td>NULL</td></tr><tr><td>214</td><td>2021-03-20 17:09:34.000</td><td>Poor</td><td>11.50</td><td>NULL</td></tr><tr><td>215</td><td>2021-06-15 08:46:50.000</td><td>Premium</td><td>11.50</td><td>NULL</td></tr><tr><td>216</td><td>2021-05-26 13:40:36.000</td><td>Normal</td><td>11.50</td><td>NULL</td></tr><tr><td>217</td><td>2021-06-06 08:09:47.000</td><td>Normal</td><td>11.50</td><td>NULL</td></tr><tr><td>218</td><td>2021-10-04 08:24:34.000</td><td>Premium</td><td>11.50</td><td>NULL</td></tr><tr><td>219</td><td>2021-11-13 18:39:48.000</td><td>Poor</td><td>11.50</td><td>NULL</td></tr><tr><td>220</td><td>2021-10-02 05:53:15.000</td><td>Normal</td><td>11.50</td><td>NULL</td></tr><tr><td>221</td><td>2021-06-16 20:32:33.000</td><td>Normal</td><td>11.50</td><td>NULL</td></tr><tr><td>222</td><td>2021-01-24 11:14:42.000</td><td>Poor</td><td>11.50</td><td>NULL</td></tr><tr><td>223</td><td>2021-10-02 14:34:37.000</td><td>Premium</td><td>11.50</td><td>NULL</td></tr><tr><td>224</td><td>2021-06-13 13:08:49.000</td><td>Poor</td><td>11.50</td><td>NULL</td></tr><tr><td>225</td><td>2021-12-27 20:19:14.000</td><td>Poor</td><td>11.50</td><td>NULL</td></tr><tr><td>226</td><td>2021-04-02 00:08:50.000</td><td>Normal</td><td>11.50</td><td>NULL</td></tr><tr><td>227</td><td>2020-09-08 18:14:55.000</td><td>Poor</td><td>11.50</td><td>NULL</td></tr><tr><td>228</td><td>2020-12-09 03:55:09.000</td><td>Normal</td><td>11.50</td><td>NULL</td></tr><tr><td>229</td><td>2020-02-18 04:44:16.000</td><td>Premium</td><td>11.50</td><td>NULL</td></tr><tr><td>230</td><td>2020-05-24 15:06:53.000</td><td>Premium</td><td>11.50</td><td>NULL</td></tr><tr><td>231</td><td>2020-06-04 17:05:01.000</td><td>Poor</td><td>11.50</td><td>NULL</td></tr><tr><td>232</td><td>2020-10-14 09:27:16.000</td><td>Premium</td><td>11.50</td><td>NULL</td></tr><tr><td>233</td><td>2020-01-07 09:08:51.000</td><td>Normal</td><td>11.50</td><td>NULL</td></tr><tr><td>234</td><td>2020-02-27 22:46:49.000</td><td>Normal</td><td>11.50</td><td>NULL</td></tr><tr><td>235</td><td>2020-09-21 13:50:18.000</td><td>Premium</td><td>11.50</td><td>NULL</td></tr><tr><td>236</td><td>2020-05-14 03:14:15.000</td><td>Premium</td><td>11.50</td><td>NULL</td></tr><tr><td>237</td><td>2020-02-12 01:19:29.000</td><td>Poor</td><td>11.50</td><td>NULL</td></tr><tr><td>238</td><td>2020-02-08 18:31:34.000</td><td>Poor</td><td>11.50</td><td>NULL</td></tr><tr><td>239</td><td>2020-12-26 16:35:46.000</td><td>Normal</td><td>11.50</td><td>NULL</td></tr><tr><td>240</td><td>2020-12-22 10:08:00.000</td><td>Poor</td><td>11.50</td><td>NULL</td></tr><tr><td>241</td><td>2020-02-20 21:45:17.000</td><td>Premium</td><td>11.50</td><td>NULL</td></tr><tr><td>242</td><td>2020-08-28 00:42:27.000</td><td>Normal</td><td>11.50</td><td>NULL</td></tr><tr><td>243</td><td>2020-10-21 09:03:22.000</td><td>Poor</td><td>11.50</td><td>NULL</td></tr><tr><td>244</td><td>2020-09-26 07:44:49.000</td><td>Poor</td><td>11.50</td><td>NULL</td></tr><tr><td>245</td><td>2020-04-02 13:14:04.000</td><td>Normal</td><td>11.50</td><td>NULL</td></tr><tr><td>246</td><td>2020-10-10 12:34:48.000</td><td>Normal</td><td>11.50</td><td>NULL</td></tr><tr><td>247</td><td>2020-08-02 13:11:16.000</td><td>Premium</td><td>11.50</td><td>NULL</td></tr><tr><td>248</td><td>2020-05-15 07:04:25.000</td><td>Premium</td><td>11.50</td><td>NULL</td></tr><tr><td>249</td><td>2020-06-16 04:46:01.000</td><td>Normal</td><td>11.50</td><td>NULL</td></tr><tr><td>250</td><td>2020-07-11 00:47:59.000</td><td>Poor</td><td>11.50</td><td>NULL</td></tr><tr><td>251</td><td>2020-06-10 22:51:30.000</td><td>Poor</td><td>11.50</td><td>NULL</td></tr><tr><td>252</td><td>2020-07-10 18:20:24.000</td><td>Premium</td><td>11.50</td><td>NULL</td></tr><tr><td>253</td><td>2020-04-06 22:20:18.000</td><td>Premium</td><td>11.50</td><td>NULL</td></tr><tr><td>254</td><td>2020-02-10 21:11:40.000</td><td>Poor</td><td>11.50</td><td>NULL</td></tr><tr><td>255</td><td>2020-07-24 16:45:21.000</td><td>Premium</td><td>11.50</td><td>NULL</td></tr><tr><td>256</td><td>2020-04-17 09:52:16.000</td><td>Premium</td><td>11.50</td><td>NULL</td></tr><tr><td>257</td><td>2020-07-13 06:29:13.000</td><td>Premium</td><td>11.50</td><td>NULL</td></tr><tr><td>258</td><td>2020-12-04 19:10:11.000</td><td>Poor</td><td>11.50</td><td>NULL</td></tr><tr><td>259</td><td>2020-12-24 11:47:41.000</td><td>Normal</td><td>11.50</td><td>NULL</td></tr><tr><td>260</td><td>2020-03-22 17:49:14.000</td><td>Poor</td><td>11.50</td><td>NULL</td></tr><tr><td>261</td><td>2020-09-19 00:23:56.000</td><td>Poor</td><td>11.50</td><td>NULL</td></tr><tr><td>262</td><td>2020-11-21 17:47:53.000</td><td>Premium</td><td>11.50</td><td>NULL</td></tr><tr><td>263</td><td>2020-09-08 23:28:54.000</td><td>Normal</td><td>11.50</td><td>NULL</td></tr><tr><td>264</td><td>2020-11-25 07:16:51.000</td><td>Normal</td><td>11.50</td><td>NULL</td></tr><tr><td>265</td><td>2020-04-18 18:29:37.000</td><td>Poor</td><td>11.50</td><td>NULL</td></tr><tr><td>266</td><td>2020-02-22 23:06:20.000</td><td>Normal</td><td>11.50</td><td>NULL</td></tr><tr><td>267</td><td>2020-02-15 14:15:55.000</td><td>Premium</td><td>11.50</td><td>NULL</td></tr><tr><td>268</td><td>2020-01-01 02:28:47.000</td><td>Poor</td><td>11.50</td><td>NULL</td></tr><tr><td>269</td><td>2020-08-07 04:58:12.000</td><td>Normal</td><td>11.50</td><td>NULL</td></tr><tr><td>270</td><td>2020-02-11 01:26:43.000</td><td>Normal</td><td>11.50</td><td>NULL</td></tr><tr><td>271</td><td>2020-04-11 04:54:21.000</td><td>Normal</td><td>11.50</td><td>NULL</td></tr><tr><td>272</td><td>2020-10-28 06:09:05.000</td><td>Poor</td><td>11.50</td><td>NULL</td></tr><tr><td>273</td><td>2020-02-16 09:02:22.000</td><td>Normal</td><td>11.50</td><td>NULL</td></tr><tr><td>274</td><td>2020-10-24 23:33:20.000</td><td>Normal</td><td>11.50</td><td>NULL</td></tr><tr><td>275</td><td>2020-09-08 06:43:28.000</td><td>Poor</td><td>11.50</td><td>NULL</td></tr><tr><td>276</td><td>2020-10-01 11:44:44.000</td><td>Normal</td><td>11.50</td><td>NULL</td></tr><tr><td>277</td><td>2020-08-13 19:05:57.000</td><td>Normal</td><td>11.50</td><td>NULL</td></tr><tr><td>278</td><td>2020-12-24 16:51:09.000</td><td>Poor</td><td>11.50</td><td>NULL</td></tr><tr><td>279</td><td>2020-03-02 15:54:42.000</td><td>Premium</td><td>11.50</td><td>NULL</td></tr><tr><td>280</td><td>2020-10-01 00:39:33.000</td><td>Poor</td><td>11.50</td><td>NULL</td></tr><tr><td>281</td><td>2020-06-19 09:16:25.000</td><td>Normal</td><td>11.50</td><td>NULL</td></tr><tr><td>282</td><td>2020-07-24 22:43:52.000</td><td>Normal</td><td>11.50</td><td>NULL</td></tr><tr><td>283</td><td>2020-10-04 01:19:12.000</td><td>Poor</td><td>11.50</td><td>NULL</td></tr><tr><td>284</td><td>2020-02-14 01:31:52.000</td><td>Premium</td><td>11.50</td><td>NULL</td></tr><tr><td>285</td><td>2020-12-05 06:41:27.000</td><td>Normal</td><td>11.50</td><td>NULL</td></tr><tr><td>286</td><td>2020-08-11 04:20:11.000</td><td>Normal</td><td>11.50</td><td>NULL</td></tr><tr><td>287</td><td>2020-03-23 19:39:36.000</td><td>Poor</td><td>11.50</td><td>NULL</td></tr><tr><td>288</td><td>2020-01-11 23:43:08.000</td><td>Normal</td><td>11.50</td><td>NULL</td></tr><tr><td>289</td><td>2020-02-20 04:03:54.000</td><td>Premium</td><td>11.50</td><td>NULL</td></tr><tr><td>290</td><td>2020-06-27 20:09:04.000</td><td>Normal</td><td>11.50</td><td>NULL</td></tr><tr><td>291</td><td>2020-04-16 23:59:34.000</td><td>Normal</td><td>11.50</td><td>NULL</td></tr><tr><td>292</td><td>2020-05-25 13:12:36.000</td><td>Poor</td><td>11.50</td><td>NULL</td></tr><tr><td>293</td><td>2020-12-25 13:43:51.000</td><td>Normal</td><td>11.50</td><td>NULL</td></tr><tr><td>294</td><td>2020-08-21 02:37:28.000</td><td>Poor</td><td>11.50</td><td>NULL</td></tr><tr><td>295</td><td>2020-05-22 19:20:38.000</td><td>Poor</td><td>11.50</td><td>NULL</td></tr><tr><td>296</td><td>2020-11-11 19:26:01.000</td><td>Poor</td><td>11.50</td><td>NULL</td></tr><tr><td>297</td><td>2020-01-26 22:44:56.000</td><td>Premium</td><td>11.50</td><td>NULL</td></tr><tr><td>298</td><td>2020-01-10 19:21:06.000</td><td>Poor</td><td>11.50</td><td>NULL</td></tr><tr><td>299</td><td>2020-08-05 17:56:06.000</td><td>Normal</td><td>11.50</td><td>NULL</td></tr><tr><td>300</td><td>2020-09-22 23:14:39.000</td><td>Poor</td><td>11.50</td><td>NULL</td></tr><tr><td>301</td><td>2020-06-27 03:30:41.000</td><td>Poor</td><td>11.50</td><td>NULL</td></tr><tr><td>302</td><td>2020-07-21 16:48:31.000</td><td>Normal</td><td>11.50</td><td>NULL</td></tr><tr><td>303</td><td>2020-08-13 20:04:17.000</td><td>Normal</td><td>11.50</td><td>NULL</td></tr><tr><td>304</td><td>2020-06-05 11:41:51.000</td><td>Poor</td><td>11.50</td><td>NULL</td></tr><tr><td>305</td><td>2020-04-22 15:42:59.000</td><td>Poor</td><td>11.50</td><td>NULL</td></tr><tr><td>306</td><td>2020-07-06 09:16:29.000</td><td>Normal</td><td>11.50</td><td>NULL</td></tr><tr><td>307</td><td>2020-01-24 15:06:00.000</td><td>Normal</td><td>11.50</td><td>NULL</td></tr><tr><td>308</td><td>2020-10-12 15:36:34.000</td><td>Premium</td><td>11.50</td><td>NULL</td></tr><tr><td>309</td><td>2020-02-27 09:17:28.000</td><td>Premium</td><td>11.50</td><td>NULL</td></tr><tr><td>310</td><td>2020-04-16 17:58:08.000</td><td>Normal</td><td>11.50</td><td>NULL</td></tr><tr><td>311</td><td>2020-06-19 06:28:13.000</td><td>Premium</td><td>11.50</td><td>NULL</td></tr><tr><td>312</td><td>2020-06-27 01:37:55.000</td><td>Premium</td><td>11.50</td><td>NULL</td></tr><tr><td>313</td><td>2020-04-09 14:40:38.000</td><td>Premium</td><td>11.50</td><td>NULL</td></tr><tr><td>314</td><td>2020-12-02 09:38:08.000</td><td>Normal</td><td>11.50</td><td>NULL</td></tr><tr><td>315</td><td>2020-03-12 07:01:00.000</td><td>Normal</td><td>11.50</td><td>NULL</td></tr><tr><td>316</td><td>2020-09-17 03:45:52.000</td><td>Poor</td><td>11.50</td><td>NULL</td></tr><tr><td>317</td><td>2020-02-23 23:33:13.000</td><td>Poor</td><td>11.50</td><td>NULL</td></tr><tr><td>318</td><td>2020-06-13 13:04:18.000</td><td>Poor</td><td>11.50</td><td>NULL</td></tr><tr><td>319</td><td>2020-04-08 15:36:03.000</td><td>Normal</td><td>11.50</td><td>NULL</td></tr><tr><td>320</td><td>2020-03-25 06:26:30.000</td><td>Normal</td><td>11.50</td><td>NULL</td></tr><tr><td>321</td><td>2020-01-21 22:35:54.000</td><td>Poor</td><td>11.50</td><td>NULL</td></tr><tr><td>322</td><td>2020-07-03 22:31:03.000</td><td>Premium</td><td>11.50</td><td>NULL</td></tr><tr><td>323</td><td>2020-03-19 11:45:37.000</td><td>Normal</td><td>11.50</td><td>NULL</td></tr><tr><td>324</td><td>2020-03-21 17:47:42.000</td><td>Premium</td><td>11.50</td><td>NULL</td></tr><tr><td>325</td><td>2020-04-20 18:31:46.000</td><td>Premium</td><td>11.50</td><td>NULL</td></tr><tr><td>326</td><td>2020-04-14 12:47:24.000</td><td>Poor</td><td>11.50</td><td>NULL</td></tr></table>"
                    },
                    "metadata": {}
                },
                {
                    "output_type": "execute_result",
                    "execution_count": 8,
                    "data": {
                        "application/vnd.dataresource+json": {
                            "schema": {
                                "fields": [
                                    {
                                        "name": "transaction_id"
                                    },
                                    {
                                        "name": "item_id"
                                    },
                                    {
                                        "name": "quantity"
                                    },
                                    {
                                        "name": "sale_price"
                                    },
                                    {
                                        "name": "attraction_id"
                                    },
                                    {
                                        "name": "transaction_date"
                                    }
                                ]
                            },
                            "data": [
                                {
                                    "0": "1",
                                    "1": "2",
                                    "2": "1",
                                    "3": "10.00",
                                    "4": "NULL",
                                    "5": "2022-11-15 02:26:13.000"
                                },
                                {
                                    "0": "2",
                                    "1": "5",
                                    "2": "8",
                                    "3": "8.00",
                                    "4": "NULL",
                                    "5": "2022-04-11 03:47:43.000"
                                },
                                {
                                    "0": "3",
                                    "1": "4",
                                    "2": "8",
                                    "3": "24.00",
                                    "4": "NULL",
                                    "5": "2022-06-24 01:55:10.000"
                                },
                                {
                                    "0": "4",
                                    "1": "5",
                                    "2": "1",
                                    "3": "1.00",
                                    "4": "NULL",
                                    "5": "2022-07-25 11:35:31.000"
                                },
                                {
                                    "0": "5",
                                    "1": "3",
                                    "2": "8",
                                    "3": "66.00",
                                    "4": "NULL",
                                    "5": "2022-01-04 12:10:51.000"
                                },
                                {
                                    "0": "6",
                                    "1": "2",
                                    "2": "6",
                                    "3": "60.00",
                                    "4": "NULL",
                                    "5": "2022-10-18 13:53:08.000"
                                },
                                {
                                    "0": "7",
                                    "1": "3",
                                    "2": "2",
                                    "3": "16.50",
                                    "4": "NULL",
                                    "5": "2022-05-23 11:08:57.000"
                                },
                                {
                                    "0": "8",
                                    "1": "4",
                                    "2": "1",
                                    "3": "3.00",
                                    "4": "NULL",
                                    "5": "2022-01-28 12:08:41.000"
                                },
                                {
                                    "0": "9",
                                    "1": "1",
                                    "2": "1",
                                    "3": "1.50",
                                    "4": "NULL",
                                    "5": "2022-05-18 21:37:05.000"
                                },
                                {
                                    "0": "10",
                                    "1": "1",
                                    "2": "1",
                                    "3": "1.50",
                                    "4": "NULL",
                                    "5": "2022-01-15 09:39:48.000"
                                },
                                {
                                    "0": "11",
                                    "1": "5",
                                    "2": "3",
                                    "3": "3.00",
                                    "4": "NULL",
                                    "5": "2022-06-09 10:32:36.000"
                                },
                                {
                                    "0": "12",
                                    "1": "2",
                                    "2": "8",
                                    "3": "80.00",
                                    "4": "NULL",
                                    "5": "2022-02-26 10:20:00.000"
                                },
                                {
                                    "0": "13",
                                    "1": "3",
                                    "2": "10",
                                    "3": "82.50",
                                    "4": "NULL",
                                    "5": "2022-07-28 14:42:33.000"
                                },
                                {
                                    "0": "14",
                                    "1": "1",
                                    "2": "9",
                                    "3": "13.50",
                                    "4": "NULL",
                                    "5": "2022-04-16 19:56:35.000"
                                },
                                {
                                    "0": "15",
                                    "1": "4",
                                    "2": "4",
                                    "3": "12.00",
                                    "4": "NULL",
                                    "5": "2022-12-23 06:58:22.000"
                                },
                                {
                                    "0": "16",
                                    "1": "4",
                                    "2": "1",
                                    "3": "3.00",
                                    "4": "NULL",
                                    "5": "2022-07-23 07:58:10.000"
                                },
                                {
                                    "0": "17",
                                    "1": "4",
                                    "2": "5",
                                    "3": "15.00",
                                    "4": "NULL",
                                    "5": "2022-11-05 14:13:51.000"
                                },
                                {
                                    "0": "18",
                                    "1": "5",
                                    "2": "2",
                                    "3": "2.00",
                                    "4": "NULL",
                                    "5": "2022-09-06 06:43:22.000"
                                },
                                {
                                    "0": "19",
                                    "1": "1",
                                    "2": "5",
                                    "3": "7.50",
                                    "4": "NULL",
                                    "5": "2022-07-02 23:33:21.000"
                                },
                                {
                                    "0": "20",
                                    "1": "4",
                                    "2": "3",
                                    "3": "9.00",
                                    "4": "NULL",
                                    "5": "2022-08-09 22:23:31.000"
                                },
                                {
                                    "0": "21",
                                    "1": "3",
                                    "2": "8",
                                    "3": "66.00",
                                    "4": "NULL",
                                    "5": "2022-06-14 15:17:20.000"
                                },
                                {
                                    "0": "22",
                                    "1": "3",
                                    "2": "7",
                                    "3": "57.75",
                                    "4": "NULL",
                                    "5": "2022-06-14 09:28:35.000"
                                },
                                {
                                    "0": "23",
                                    "1": "5",
                                    "2": "3",
                                    "3": "3.00",
                                    "4": "NULL",
                                    "5": "2022-04-03 12:27:01.000"
                                },
                                {
                                    "0": "24",
                                    "1": "5",
                                    "2": "2",
                                    "3": "2.00",
                                    "4": "NULL",
                                    "5": "2022-12-05 06:14:08.000"
                                },
                                {
                                    "0": "25",
                                    "1": "5",
                                    "2": "6",
                                    "3": "6.00",
                                    "4": "NULL",
                                    "5": "2022-06-16 06:41:26.000"
                                },
                                {
                                    "0": "26",
                                    "1": "4",
                                    "2": "10",
                                    "3": "30.00",
                                    "4": "NULL",
                                    "5": "2022-01-14 21:57:37.000"
                                },
                                {
                                    "0": "27",
                                    "1": "1",
                                    "2": "8",
                                    "3": "12.00",
                                    "4": "NULL",
                                    "5": "2022-09-11 22:08:56.000"
                                },
                                {
                                    "0": "28",
                                    "1": "4",
                                    "2": "2",
                                    "3": "6.00",
                                    "4": "NULL",
                                    "5": "2022-06-26 16:18:19.000"
                                },
                                {
                                    "0": "29",
                                    "1": "2",
                                    "2": "7",
                                    "3": "70.00",
                                    "4": "NULL",
                                    "5": "2022-12-12 08:17:01.000"
                                },
                                {
                                    "0": "30",
                                    "1": "5",
                                    "2": "6",
                                    "3": "6.00",
                                    "4": "NULL",
                                    "5": "2022-02-03 01:27:14.000"
                                },
                                {
                                    "0": "31",
                                    "1": "5",
                                    "2": "3",
                                    "3": "3.00",
                                    "4": "NULL",
                                    "5": "2022-05-09 05:11:09.000"
                                },
                                {
                                    "0": "32",
                                    "1": "5",
                                    "2": "3",
                                    "3": "3.00",
                                    "4": "NULL",
                                    "5": "2022-12-16 10:04:09.000"
                                },
                                {
                                    "0": "33",
                                    "1": "4",
                                    "2": "3",
                                    "3": "9.00",
                                    "4": "NULL",
                                    "5": "2022-03-23 04:37:06.000"
                                },
                                {
                                    "0": "34",
                                    "1": "2",
                                    "2": "2",
                                    "3": "20.00",
                                    "4": "NULL",
                                    "5": "2022-12-04 16:42:39.000"
                                },
                                {
                                    "0": "35",
                                    "1": "5",
                                    "2": "6",
                                    "3": "6.00",
                                    "4": "NULL",
                                    "5": "2022-04-02 10:27:43.000"
                                },
                                {
                                    "0": "36",
                                    "1": "1",
                                    "2": "3",
                                    "3": "4.50",
                                    "4": "NULL",
                                    "5": "2022-11-23 20:18:55.000"
                                },
                                {
                                    "0": "37",
                                    "1": "2",
                                    "2": "2",
                                    "3": "20.00",
                                    "4": "NULL",
                                    "5": "2022-02-05 06:58:08.000"
                                },
                                {
                                    "0": "38",
                                    "1": "4",
                                    "2": "4",
                                    "3": "12.00",
                                    "4": "NULL",
                                    "5": "2022-01-16 14:49:19.000"
                                },
                                {
                                    "0": "39",
                                    "1": "4",
                                    "2": "8",
                                    "3": "24.00",
                                    "4": "NULL",
                                    "5": "2022-01-28 10:37:00.000"
                                },
                                {
                                    "0": "40",
                                    "1": "1",
                                    "2": "10",
                                    "3": "15.00",
                                    "4": "NULL",
                                    "5": "2022-01-03 19:05:19.000"
                                },
                                {
                                    "0": "41",
                                    "1": "1",
                                    "2": "9",
                                    "3": "13.50",
                                    "4": "NULL",
                                    "5": "2022-07-24 18:19:45.000"
                                },
                                {
                                    "0": "42",
                                    "1": "1",
                                    "2": "2",
                                    "3": "3.00",
                                    "4": "NULL",
                                    "5": "2022-04-03 20:49:51.000"
                                },
                                {
                                    "0": "43",
                                    "1": "1",
                                    "2": "7",
                                    "3": "10.50",
                                    "4": "NULL",
                                    "5": "2022-07-22 08:33:37.000"
                                },
                                {
                                    "0": "44",
                                    "1": "4",
                                    "2": "1",
                                    "3": "3.00",
                                    "4": "NULL",
                                    "5": "2022-03-13 10:00:42.000"
                                },
                                {
                                    "0": "45",
                                    "1": "2",
                                    "2": "10",
                                    "3": "100.00",
                                    "4": "NULL",
                                    "5": "2022-05-12 03:09:24.000"
                                },
                                {
                                    "0": "46",
                                    "1": "4",
                                    "2": "4",
                                    "3": "12.00",
                                    "4": "NULL",
                                    "5": "2022-08-27 11:59:11.000"
                                },
                                {
                                    "0": "47",
                                    "1": "2",
                                    "2": "9",
                                    "3": "90.00",
                                    "4": "NULL",
                                    "5": "2022-12-12 02:12:35.000"
                                },
                                {
                                    "0": "48",
                                    "1": "4",
                                    "2": "10",
                                    "3": "30.00",
                                    "4": "NULL",
                                    "5": "2022-07-03 02:07:23.000"
                                },
                                {
                                    "0": "49",
                                    "1": "2",
                                    "2": "5",
                                    "3": "50.00",
                                    "4": "NULL",
                                    "5": "2022-03-28 17:36:02.000"
                                },
                                {
                                    "0": "50",
                                    "1": "4",
                                    "2": "9",
                                    "3": "27.00",
                                    "4": "NULL",
                                    "5": "2022-04-16 14:11:29.000"
                                },
                                {
                                    "0": "51",
                                    "1": "3",
                                    "2": "9",
                                    "3": "74.25",
                                    "4": "NULL",
                                    "5": "2022-11-18 20:18:29.000"
                                },
                                {
                                    "0": "52",
                                    "1": "4",
                                    "2": "6",
                                    "3": "18.00",
                                    "4": "NULL",
                                    "5": "2022-05-09 06:06:00.000"
                                },
                                {
                                    "0": "53",
                                    "1": "2",
                                    "2": "9",
                                    "3": "90.00",
                                    "4": "NULL",
                                    "5": "2022-01-08 08:40:35.000"
                                },
                                {
                                    "0": "54",
                                    "1": "5",
                                    "2": "10",
                                    "3": "10.00",
                                    "4": "NULL",
                                    "5": "2022-09-26 18:13:25.000"
                                },
                                {
                                    "0": "55",
                                    "1": "2",
                                    "2": "1",
                                    "3": "10.00",
                                    "4": "NULL",
                                    "5": "2022-06-06 22:35:28.000"
                                },
                                {
                                    "0": "56",
                                    "1": "5",
                                    "2": "7",
                                    "3": "7.00",
                                    "4": "NULL",
                                    "5": "2022-03-18 13:17:31.000"
                                },
                                {
                                    "0": "57",
                                    "1": "1",
                                    "2": "2",
                                    "3": "3.00",
                                    "4": "NULL",
                                    "5": "2022-12-18 01:01:13.000"
                                },
                                {
                                    "0": "58",
                                    "1": "3",
                                    "2": "5",
                                    "3": "41.25",
                                    "4": "NULL",
                                    "5": "2022-08-07 23:53:07.000"
                                },
                                {
                                    "0": "59",
                                    "1": "2",
                                    "2": "10",
                                    "3": "100.00",
                                    "4": "NULL",
                                    "5": "2022-11-26 20:17:44.000"
                                },
                                {
                                    "0": "60",
                                    "1": "5",
                                    "2": "2",
                                    "3": "2.00",
                                    "4": "NULL",
                                    "5": "2022-09-23 11:26:44.000"
                                },
                                {
                                    "0": "61",
                                    "1": "3",
                                    "2": "6",
                                    "3": "49.50",
                                    "4": "NULL",
                                    "5": "2022-11-04 10:19:48.000"
                                },
                                {
                                    "0": "62",
                                    "1": "5",
                                    "2": "9",
                                    "3": "9.00",
                                    "4": "NULL",
                                    "5": "2022-05-21 14:08:50.000"
                                },
                                {
                                    "0": "63",
                                    "1": "4",
                                    "2": "6",
                                    "3": "18.00",
                                    "4": "NULL",
                                    "5": "2022-01-28 04:41:26.000"
                                },
                                {
                                    "0": "64",
                                    "1": "3",
                                    "2": "4",
                                    "3": "33.00",
                                    "4": "NULL",
                                    "5": "2022-02-23 03:13:29.000"
                                },
                                {
                                    "0": "65",
                                    "1": "4",
                                    "2": "8",
                                    "3": "24.00",
                                    "4": "NULL",
                                    "5": "2022-12-07 15:10:08.000"
                                },
                                {
                                    "0": "66",
                                    "1": "4",
                                    "2": "2",
                                    "3": "6.00",
                                    "4": "NULL",
                                    "5": "2022-02-23 22:05:05.000"
                                },
                                {
                                    "0": "67",
                                    "1": "5",
                                    "2": "9",
                                    "3": "9.00",
                                    "4": "NULL",
                                    "5": "2022-03-23 05:24:38.000"
                                },
                                {
                                    "0": "68",
                                    "1": "1",
                                    "2": "3",
                                    "3": "4.50",
                                    "4": "NULL",
                                    "5": "2022-05-25 01:43:21.000"
                                },
                                {
                                    "0": "69",
                                    "1": "2",
                                    "2": "5",
                                    "3": "50.00",
                                    "4": "NULL",
                                    "5": "2022-12-02 13:12:40.000"
                                },
                                {
                                    "0": "70",
                                    "1": "4",
                                    "2": "6",
                                    "3": "18.00",
                                    "4": "NULL",
                                    "5": "2022-09-12 05:15:56.000"
                                },
                                {
                                    "0": "71",
                                    "1": "4",
                                    "2": "1",
                                    "3": "3.00",
                                    "4": "NULL",
                                    "5": "2022-11-17 09:44:00.000"
                                },
                                {
                                    "0": "72",
                                    "1": "4",
                                    "2": "10",
                                    "3": "30.00",
                                    "4": "NULL",
                                    "5": "2022-11-06 05:34:54.000"
                                },
                                {
                                    "0": "73",
                                    "1": "4",
                                    "2": "6",
                                    "3": "18.00",
                                    "4": "NULL",
                                    "5": "2022-06-14 21:52:43.000"
                                },
                                {
                                    "0": "74",
                                    "1": "1",
                                    "2": "7",
                                    "3": "10.50",
                                    "4": "NULL",
                                    "5": "2022-11-14 05:38:39.000"
                                },
                                {
                                    "0": "75",
                                    "1": "4",
                                    "2": "2",
                                    "3": "6.00",
                                    "4": "NULL",
                                    "5": "2022-12-15 13:33:22.000"
                                },
                                {
                                    "0": "76",
                                    "1": "2",
                                    "2": "9",
                                    "3": "90.00",
                                    "4": "NULL",
                                    "5": "2022-03-01 15:33:53.000"
                                },
                                {
                                    "0": "77",
                                    "1": "4",
                                    "2": "9",
                                    "3": "27.00",
                                    "4": "NULL",
                                    "5": "2022-07-26 17:07:07.000"
                                },
                                {
                                    "0": "78",
                                    "1": "5",
                                    "2": "1",
                                    "3": "1.00",
                                    "4": "NULL",
                                    "5": "2022-07-03 00:02:16.000"
                                },
                                {
                                    "0": "79",
                                    "1": "3",
                                    "2": "7",
                                    "3": "57.75",
                                    "4": "NULL",
                                    "5": "2022-08-14 11:35:29.000"
                                },
                                {
                                    "0": "80",
                                    "1": "3",
                                    "2": "9",
                                    "3": "74.25",
                                    "4": "NULL",
                                    "5": "2022-11-11 03:24:30.000"
                                },
                                {
                                    "0": "81",
                                    "1": "4",
                                    "2": "7",
                                    "3": "21.00",
                                    "4": "NULL",
                                    "5": "2022-05-23 06:55:13.000"
                                },
                                {
                                    "0": "82",
                                    "1": "1",
                                    "2": "4",
                                    "3": "6.00",
                                    "4": "NULL",
                                    "5": "2022-01-21 14:17:36.000"
                                },
                                {
                                    "0": "83",
                                    "1": "2",
                                    "2": "6",
                                    "3": "60.00",
                                    "4": "NULL",
                                    "5": "2022-07-02 07:18:48.000"
                                },
                                {
                                    "0": "84",
                                    "1": "2",
                                    "2": "4",
                                    "3": "40.00",
                                    "4": "NULL",
                                    "5": "2022-03-13 13:22:19.000"
                                },
                                {
                                    "0": "85",
                                    "1": "4",
                                    "2": "6",
                                    "3": "18.00",
                                    "4": "NULL",
                                    "5": "2022-03-16 09:10:37.000"
                                },
                                {
                                    "0": "86",
                                    "1": "1",
                                    "2": "8",
                                    "3": "12.00",
                                    "4": "NULL",
                                    "5": "2022-08-10 13:06:50.000"
                                },
                                {
                                    "0": "87",
                                    "1": "4",
                                    "2": "10",
                                    "3": "30.00",
                                    "4": "NULL",
                                    "5": "2022-09-18 18:35:09.000"
                                },
                                {
                                    "0": "88",
                                    "1": "3",
                                    "2": "2",
                                    "3": "16.50",
                                    "4": "NULL",
                                    "5": "2022-10-19 05:36:20.000"
                                },
                                {
                                    "0": "89",
                                    "1": "2",
                                    "2": "1",
                                    "3": "10.00",
                                    "4": "NULL",
                                    "5": "2022-12-15 23:05:25.000"
                                },
                                {
                                    "0": "90",
                                    "1": "1",
                                    "2": "6",
                                    "3": "9.00",
                                    "4": "NULL",
                                    "5": "2022-12-23 12:47:07.000"
                                },
                                {
                                    "0": "91",
                                    "1": "3",
                                    "2": "1",
                                    "3": "8.25",
                                    "4": "NULL",
                                    "5": "2022-06-06 17:26:49.000"
                                },
                                {
                                    "0": "92",
                                    "1": "2",
                                    "2": "7",
                                    "3": "70.00",
                                    "4": "NULL",
                                    "5": "2022-08-28 16:23:00.000"
                                },
                                {
                                    "0": "93",
                                    "1": "3",
                                    "2": "5",
                                    "3": "41.25",
                                    "4": "NULL",
                                    "5": "2022-11-20 08:10:52.000"
                                },
                                {
                                    "0": "94",
                                    "1": "1",
                                    "2": "4",
                                    "3": "6.00",
                                    "4": "NULL",
                                    "5": "2022-05-17 18:38:32.000"
                                },
                                {
                                    "0": "95",
                                    "1": "4",
                                    "2": "9",
                                    "3": "27.00",
                                    "4": "NULL",
                                    "5": "2022-05-05 20:15:26.000"
                                },
                                {
                                    "0": "96",
                                    "1": "1",
                                    "2": "2",
                                    "3": "3.00",
                                    "4": "NULL",
                                    "5": "2022-01-25 17:09:06.000"
                                },
                                {
                                    "0": "97",
                                    "1": "4",
                                    "2": "10",
                                    "3": "30.00",
                                    "4": "NULL",
                                    "5": "2022-02-27 20:27:22.000"
                                },
                                {
                                    "0": "98",
                                    "1": "4",
                                    "2": "2",
                                    "3": "6.00",
                                    "4": "NULL",
                                    "5": "2022-03-03 15:59:37.000"
                                },
                                {
                                    "0": "99",
                                    "1": "4",
                                    "2": "6",
                                    "3": "18.00",
                                    "4": "NULL",
                                    "5": "2022-08-18 05:30:09.000"
                                },
                                {
                                    "0": "100",
                                    "1": "1",
                                    "2": "1",
                                    "3": "1.50",
                                    "4": "NULL",
                                    "5": "2022-10-26 07:07:02.000"
                                }
                            ]
                        },
                        "text/html": "<table><tr><th>transaction_id</th><th>item_id</th><th>quantity</th><th>sale_price</th><th>attraction_id</th><th>transaction_date</th></tr><tr><td>1</td><td>2</td><td>1</td><td>10.00</td><td>NULL</td><td>2022-11-15 02:26:13.000</td></tr><tr><td>2</td><td>5</td><td>8</td><td>8.00</td><td>NULL</td><td>2022-04-11 03:47:43.000</td></tr><tr><td>3</td><td>4</td><td>8</td><td>24.00</td><td>NULL</td><td>2022-06-24 01:55:10.000</td></tr><tr><td>4</td><td>5</td><td>1</td><td>1.00</td><td>NULL</td><td>2022-07-25 11:35:31.000</td></tr><tr><td>5</td><td>3</td><td>8</td><td>66.00</td><td>NULL</td><td>2022-01-04 12:10:51.000</td></tr><tr><td>6</td><td>2</td><td>6</td><td>60.00</td><td>NULL</td><td>2022-10-18 13:53:08.000</td></tr><tr><td>7</td><td>3</td><td>2</td><td>16.50</td><td>NULL</td><td>2022-05-23 11:08:57.000</td></tr><tr><td>8</td><td>4</td><td>1</td><td>3.00</td><td>NULL</td><td>2022-01-28 12:08:41.000</td></tr><tr><td>9</td><td>1</td><td>1</td><td>1.50</td><td>NULL</td><td>2022-05-18 21:37:05.000</td></tr><tr><td>10</td><td>1</td><td>1</td><td>1.50</td><td>NULL</td><td>2022-01-15 09:39:48.000</td></tr><tr><td>11</td><td>5</td><td>3</td><td>3.00</td><td>NULL</td><td>2022-06-09 10:32:36.000</td></tr><tr><td>12</td><td>2</td><td>8</td><td>80.00</td><td>NULL</td><td>2022-02-26 10:20:00.000</td></tr><tr><td>13</td><td>3</td><td>10</td><td>82.50</td><td>NULL</td><td>2022-07-28 14:42:33.000</td></tr><tr><td>14</td><td>1</td><td>9</td><td>13.50</td><td>NULL</td><td>2022-04-16 19:56:35.000</td></tr><tr><td>15</td><td>4</td><td>4</td><td>12.00</td><td>NULL</td><td>2022-12-23 06:58:22.000</td></tr><tr><td>16</td><td>4</td><td>1</td><td>3.00</td><td>NULL</td><td>2022-07-23 07:58:10.000</td></tr><tr><td>17</td><td>4</td><td>5</td><td>15.00</td><td>NULL</td><td>2022-11-05 14:13:51.000</td></tr><tr><td>18</td><td>5</td><td>2</td><td>2.00</td><td>NULL</td><td>2022-09-06 06:43:22.000</td></tr><tr><td>19</td><td>1</td><td>5</td><td>7.50</td><td>NULL</td><td>2022-07-02 23:33:21.000</td></tr><tr><td>20</td><td>4</td><td>3</td><td>9.00</td><td>NULL</td><td>2022-08-09 22:23:31.000</td></tr><tr><td>21</td><td>3</td><td>8</td><td>66.00</td><td>NULL</td><td>2022-06-14 15:17:20.000</td></tr><tr><td>22</td><td>3</td><td>7</td><td>57.75</td><td>NULL</td><td>2022-06-14 09:28:35.000</td></tr><tr><td>23</td><td>5</td><td>3</td><td>3.00</td><td>NULL</td><td>2022-04-03 12:27:01.000</td></tr><tr><td>24</td><td>5</td><td>2</td><td>2.00</td><td>NULL</td><td>2022-12-05 06:14:08.000</td></tr><tr><td>25</td><td>5</td><td>6</td><td>6.00</td><td>NULL</td><td>2022-06-16 06:41:26.000</td></tr><tr><td>26</td><td>4</td><td>10</td><td>30.00</td><td>NULL</td><td>2022-01-14 21:57:37.000</td></tr><tr><td>27</td><td>1</td><td>8</td><td>12.00</td><td>NULL</td><td>2022-09-11 22:08:56.000</td></tr><tr><td>28</td><td>4</td><td>2</td><td>6.00</td><td>NULL</td><td>2022-06-26 16:18:19.000</td></tr><tr><td>29</td><td>2</td><td>7</td><td>70.00</td><td>NULL</td><td>2022-12-12 08:17:01.000</td></tr><tr><td>30</td><td>5</td><td>6</td><td>6.00</td><td>NULL</td><td>2022-02-03 01:27:14.000</td></tr><tr><td>31</td><td>5</td><td>3</td><td>3.00</td><td>NULL</td><td>2022-05-09 05:11:09.000</td></tr><tr><td>32</td><td>5</td><td>3</td><td>3.00</td><td>NULL</td><td>2022-12-16 10:04:09.000</td></tr><tr><td>33</td><td>4</td><td>3</td><td>9.00</td><td>NULL</td><td>2022-03-23 04:37:06.000</td></tr><tr><td>34</td><td>2</td><td>2</td><td>20.00</td><td>NULL</td><td>2022-12-04 16:42:39.000</td></tr><tr><td>35</td><td>5</td><td>6</td><td>6.00</td><td>NULL</td><td>2022-04-02 10:27:43.000</td></tr><tr><td>36</td><td>1</td><td>3</td><td>4.50</td><td>NULL</td><td>2022-11-23 20:18:55.000</td></tr><tr><td>37</td><td>2</td><td>2</td><td>20.00</td><td>NULL</td><td>2022-02-05 06:58:08.000</td></tr><tr><td>38</td><td>4</td><td>4</td><td>12.00</td><td>NULL</td><td>2022-01-16 14:49:19.000</td></tr><tr><td>39</td><td>4</td><td>8</td><td>24.00</td><td>NULL</td><td>2022-01-28 10:37:00.000</td></tr><tr><td>40</td><td>1</td><td>10</td><td>15.00</td><td>NULL</td><td>2022-01-03 19:05:19.000</td></tr><tr><td>41</td><td>1</td><td>9</td><td>13.50</td><td>NULL</td><td>2022-07-24 18:19:45.000</td></tr><tr><td>42</td><td>1</td><td>2</td><td>3.00</td><td>NULL</td><td>2022-04-03 20:49:51.000</td></tr><tr><td>43</td><td>1</td><td>7</td><td>10.50</td><td>NULL</td><td>2022-07-22 08:33:37.000</td></tr><tr><td>44</td><td>4</td><td>1</td><td>3.00</td><td>NULL</td><td>2022-03-13 10:00:42.000</td></tr><tr><td>45</td><td>2</td><td>10</td><td>100.00</td><td>NULL</td><td>2022-05-12 03:09:24.000</td></tr><tr><td>46</td><td>4</td><td>4</td><td>12.00</td><td>NULL</td><td>2022-08-27 11:59:11.000</td></tr><tr><td>47</td><td>2</td><td>9</td><td>90.00</td><td>NULL</td><td>2022-12-12 02:12:35.000</td></tr><tr><td>48</td><td>4</td><td>10</td><td>30.00</td><td>NULL</td><td>2022-07-03 02:07:23.000</td></tr><tr><td>49</td><td>2</td><td>5</td><td>50.00</td><td>NULL</td><td>2022-03-28 17:36:02.000</td></tr><tr><td>50</td><td>4</td><td>9</td><td>27.00</td><td>NULL</td><td>2022-04-16 14:11:29.000</td></tr><tr><td>51</td><td>3</td><td>9</td><td>74.25</td><td>NULL</td><td>2022-11-18 20:18:29.000</td></tr><tr><td>52</td><td>4</td><td>6</td><td>18.00</td><td>NULL</td><td>2022-05-09 06:06:00.000</td></tr><tr><td>53</td><td>2</td><td>9</td><td>90.00</td><td>NULL</td><td>2022-01-08 08:40:35.000</td></tr><tr><td>54</td><td>5</td><td>10</td><td>10.00</td><td>NULL</td><td>2022-09-26 18:13:25.000</td></tr><tr><td>55</td><td>2</td><td>1</td><td>10.00</td><td>NULL</td><td>2022-06-06 22:35:28.000</td></tr><tr><td>56</td><td>5</td><td>7</td><td>7.00</td><td>NULL</td><td>2022-03-18 13:17:31.000</td></tr><tr><td>57</td><td>1</td><td>2</td><td>3.00</td><td>NULL</td><td>2022-12-18 01:01:13.000</td></tr><tr><td>58</td><td>3</td><td>5</td><td>41.25</td><td>NULL</td><td>2022-08-07 23:53:07.000</td></tr><tr><td>59</td><td>2</td><td>10</td><td>100.00</td><td>NULL</td><td>2022-11-26 20:17:44.000</td></tr><tr><td>60</td><td>5</td><td>2</td><td>2.00</td><td>NULL</td><td>2022-09-23 11:26:44.000</td></tr><tr><td>61</td><td>3</td><td>6</td><td>49.50</td><td>NULL</td><td>2022-11-04 10:19:48.000</td></tr><tr><td>62</td><td>5</td><td>9</td><td>9.00</td><td>NULL</td><td>2022-05-21 14:08:50.000</td></tr><tr><td>63</td><td>4</td><td>6</td><td>18.00</td><td>NULL</td><td>2022-01-28 04:41:26.000</td></tr><tr><td>64</td><td>3</td><td>4</td><td>33.00</td><td>NULL</td><td>2022-02-23 03:13:29.000</td></tr><tr><td>65</td><td>4</td><td>8</td><td>24.00</td><td>NULL</td><td>2022-12-07 15:10:08.000</td></tr><tr><td>66</td><td>4</td><td>2</td><td>6.00</td><td>NULL</td><td>2022-02-23 22:05:05.000</td></tr><tr><td>67</td><td>5</td><td>9</td><td>9.00</td><td>NULL</td><td>2022-03-23 05:24:38.000</td></tr><tr><td>68</td><td>1</td><td>3</td><td>4.50</td><td>NULL</td><td>2022-05-25 01:43:21.000</td></tr><tr><td>69</td><td>2</td><td>5</td><td>50.00</td><td>NULL</td><td>2022-12-02 13:12:40.000</td></tr><tr><td>70</td><td>4</td><td>6</td><td>18.00</td><td>NULL</td><td>2022-09-12 05:15:56.000</td></tr><tr><td>71</td><td>4</td><td>1</td><td>3.00</td><td>NULL</td><td>2022-11-17 09:44:00.000</td></tr><tr><td>72</td><td>4</td><td>10</td><td>30.00</td><td>NULL</td><td>2022-11-06 05:34:54.000</td></tr><tr><td>73</td><td>4</td><td>6</td><td>18.00</td><td>NULL</td><td>2022-06-14 21:52:43.000</td></tr><tr><td>74</td><td>1</td><td>7</td><td>10.50</td><td>NULL</td><td>2022-11-14 05:38:39.000</td></tr><tr><td>75</td><td>4</td><td>2</td><td>6.00</td><td>NULL</td><td>2022-12-15 13:33:22.000</td></tr><tr><td>76</td><td>2</td><td>9</td><td>90.00</td><td>NULL</td><td>2022-03-01 15:33:53.000</td></tr><tr><td>77</td><td>4</td><td>9</td><td>27.00</td><td>NULL</td><td>2022-07-26 17:07:07.000</td></tr><tr><td>78</td><td>5</td><td>1</td><td>1.00</td><td>NULL</td><td>2022-07-03 00:02:16.000</td></tr><tr><td>79</td><td>3</td><td>7</td><td>57.75</td><td>NULL</td><td>2022-08-14 11:35:29.000</td></tr><tr><td>80</td><td>3</td><td>9</td><td>74.25</td><td>NULL</td><td>2022-11-11 03:24:30.000</td></tr><tr><td>81</td><td>4</td><td>7</td><td>21.00</td><td>NULL</td><td>2022-05-23 06:55:13.000</td></tr><tr><td>82</td><td>1</td><td>4</td><td>6.00</td><td>NULL</td><td>2022-01-21 14:17:36.000</td></tr><tr><td>83</td><td>2</td><td>6</td><td>60.00</td><td>NULL</td><td>2022-07-02 07:18:48.000</td></tr><tr><td>84</td><td>2</td><td>4</td><td>40.00</td><td>NULL</td><td>2022-03-13 13:22:19.000</td></tr><tr><td>85</td><td>4</td><td>6</td><td>18.00</td><td>NULL</td><td>2022-03-16 09:10:37.000</td></tr><tr><td>86</td><td>1</td><td>8</td><td>12.00</td><td>NULL</td><td>2022-08-10 13:06:50.000</td></tr><tr><td>87</td><td>4</td><td>10</td><td>30.00</td><td>NULL</td><td>2022-09-18 18:35:09.000</td></tr><tr><td>88</td><td>3</td><td>2</td><td>16.50</td><td>NULL</td><td>2022-10-19 05:36:20.000</td></tr><tr><td>89</td><td>2</td><td>1</td><td>10.00</td><td>NULL</td><td>2022-12-15 23:05:25.000</td></tr><tr><td>90</td><td>1</td><td>6</td><td>9.00</td><td>NULL</td><td>2022-12-23 12:47:07.000</td></tr><tr><td>91</td><td>3</td><td>1</td><td>8.25</td><td>NULL</td><td>2022-06-06 17:26:49.000</td></tr><tr><td>92</td><td>2</td><td>7</td><td>70.00</td><td>NULL</td><td>2022-08-28 16:23:00.000</td></tr><tr><td>93</td><td>3</td><td>5</td><td>41.25</td><td>NULL</td><td>2022-11-20 08:10:52.000</td></tr><tr><td>94</td><td>1</td><td>4</td><td>6.00</td><td>NULL</td><td>2022-05-17 18:38:32.000</td></tr><tr><td>95</td><td>4</td><td>9</td><td>27.00</td><td>NULL</td><td>2022-05-05 20:15:26.000</td></tr><tr><td>96</td><td>1</td><td>2</td><td>3.00</td><td>NULL</td><td>2022-01-25 17:09:06.000</td></tr><tr><td>97</td><td>4</td><td>10</td><td>30.00</td><td>NULL</td><td>2022-02-27 20:27:22.000</td></tr><tr><td>98</td><td>4</td><td>2</td><td>6.00</td><td>NULL</td><td>2022-03-03 15:59:37.000</td></tr><tr><td>99</td><td>4</td><td>6</td><td>18.00</td><td>NULL</td><td>2022-08-18 05:30:09.000</td></tr><tr><td>100</td><td>1</td><td>1</td><td>1.50</td><td>NULL</td><td>2022-10-26 07:07:02.000</td></tr></table>"
                    },
                    "metadata": {}
                },
                {
                    "output_type": "execute_result",
                    "execution_count": 8,
                    "data": {
                        "application/vnd.dataresource+json": {
                            "schema": {
                                "fields": [
                                    {
                                        "name": "item_id"
                                    },
                                    {
                                        "name": "name"
                                    },
                                    {
                                        "name": "price"
                                    },
                                    {
                                        "name": "merch_type"
                                    }
                                ]
                            },
                            "data": [
                                {
                                    "0": "1",
                                    "1": "Hot Dog",
                                    "2": "1.50",
                                    "3": "Food"
                                },
                                {
                                    "0": "2",
                                    "1": "Basic T-Shirt",
                                    "2": "10.00",
                                    "3": "Merch"
                                },
                                {
                                    "0": "3",
                                    "1": "Baseball Cap",
                                    "2": "8.25",
                                    "3": "Merch"
                                },
                                {
                                    "0": "4",
                                    "1": "Pizza Slice",
                                    "2": "3.00",
                                    "3": "Food"
                                },
                                {
                                    "0": "5",
                                    "1": "Soda",
                                    "2": "1.00",
                                    "3": "Food"
                                }
                            ]
                        },
                        "text/html": "<table><tr><th>item_id</th><th>name</th><th>price</th><th>merch_type</th></tr><tr><td>1</td><td>Hot Dog</td><td>1.50</td><td>Food</td></tr><tr><td>2</td><td>Basic T-Shirt</td><td>10.00</td><td>Merch</td></tr><tr><td>3</td><td>Baseball Cap</td><td>8.25</td><td>Merch</td></tr><tr><td>4</td><td>Pizza Slice</td><td>3.00</td><td>Food</td></tr><tr><td>5</td><td>Soda</td><td>1.00</td><td>Food</td></tr></table>"
                    },
                    "metadata": {}
                },
                {
                    "output_type": "execute_result",
                    "execution_count": 8,
                    "data": {
                        "application/vnd.dataresource+json": {
                            "schema": {
                                "fields": [
                                    {
                                        "name": "fname"
                                    },
                                    {
                                        "name": "lname"
                                    },
                                    {
                                        "name": "ssn"
                                    },
                                    {
                                        "name": "gender"
                                    },
                                    {
                                        "name": "address"
                                    },
                                    {
                                        "name": "phone"
                                    },
                                    {
                                        "name": "date_joined"
                                    },
                                    {
                                        "name": "dept_id"
                                    },
                                    {
                                        "name": "role"
                                    },
                                    {
                                        "name": "supervisor_ssn"
                                    },
                                    {
                                        "name": "salaried"
                                    },
                                    {
                                        "name": "payrate"
                                    },
                                    {
                                        "name": "vacation_days"
                                    }
                                ]
                            },
                            "data": [
                                {
                                    "0": "paul",
                                    "1": "george",
                                    "2": "666666666",
                                    "3": "F",
                                    "4": "main",
                                    "5": "5125125125",
                                    "6": "2022-10-11",
                                    "7": "3",
                                    "8": "operator",
                                    "9": "NULL",
                                    "10": "1",
                                    "11": "10000000.00",
                                    "12": "0.00"
                                },
                                {
                                    "0": "Phillip",
                                    "1": "Sudario",
                                    "2": "987654321",
                                    "3": "M",
                                    "4": "4800 Calhoun Rd",
                                    "5": "7137432255",
                                    "6": "2022-11-03",
                                    "7": "3",
                                    "8": "NULL",
                                    "9": "NULL",
                                    "10": "0",
                                    "11": "12.00",
                                    "12": "NULL"
                                }
                            ]
                        },
                        "text/html": "<table><tr><th>fname</th><th>lname</th><th>ssn</th><th>gender</th><th>address</th><th>phone</th><th>date_joined</th><th>dept_id</th><th>role</th><th>supervisor_ssn</th><th>salaried</th><th>payrate</th><th>vacation_days</th></tr><tr><td>paul</td><td>george</td><td>666666666</td><td>F</td><td>main</td><td>5125125125</td><td>2022-10-11</td><td>3</td><td>operator</td><td>NULL</td><td>1</td><td>10000000.00</td><td>0.00</td></tr><tr><td>Phillip</td><td>Sudario</td><td>987654321</td><td>M</td><td>4800 Calhoun Rd</td><td>7137432255</td><td>2022-11-03</td><td>3</td><td>NULL</td><td>NULL</td><td>0</td><td>12.00</td><td>NULL</td></tr></table>"
                    },
                    "metadata": {}
                }
            ],
            "execution_count": 8
        }
    ]
}