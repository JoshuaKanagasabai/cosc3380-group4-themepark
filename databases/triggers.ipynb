{
    "metadata": {
        "kernelspec": {
            "name": "SQL",
            "display_name": "SQL",
            "language": "sql"
        },
        "language_info": {
            "name": "sql",
            "version": ""
        }
    },
    "nbformat_minor": 2,
    "nbformat": 4,
    "cells": [
        {
            "cell_type": "code",
            "source": [
                "delete from [Theme_Park].[Maintenance_Calendar]\n",
                "go\n",
                "drop table [Theme_Park].[Maintenance_Notification]\n",
                "go\n",
                "create table [Theme_Park].[Maintenance_Notification]\n",
                "(\n",
                "    notification_id int identity(1,1),\n",
                "    maintenance_id int not null,\n",
                "    completion datetime not null,\n",
                "    billed_hours int,\n",
                "    amount smallmoney,\n",
                ")"
            ],
            "metadata": {
                "language": "sql",
                "azdata_cell_guid": "e349276c-932f-47f9-8b67-b1946442daa1"
            },
            "outputs": [
                {
                    "output_type": "error",
                    "ename": "",
                    "evalue": "Msg 3701, Level 11, State 5, Line 1\nCannot drop the table 'Theme_Park.Maintenance_Notification', because it does not exist or you do not have permission.",
                    "traceback": []
                },
                {
                    "output_type": "display_data",
                    "data": {
                        "text/html": "Commands completed successfully."
                    },
                    "metadata": {}
                },
                {
                    "output_type": "display_data",
                    "data": {
                        "text/html": "Total execution time: 00:00:00.121"
                    },
                    "metadata": {}
                }
            ],
            "execution_count": 1
        },
        {
            "cell_type": "markdown",
            "source": [
                "## Trigger TRIGGER_MANAGER_NOTIFICATION_ON_MAINTENANCE_COMPLETION:\n",
                "\n",
                "This trigger is intended to create notification entries whenever a maintenance event is updated or inserted\n",
                "with a completion time set. These notifications have \n",
                ""
            ],
            "metadata": {
                "azdata_cell_guid": "27a0ad47-c5f7-4e10-9d1a-22e7f8fc6b6f"
            },
            "attachments": {}
        },
        {
            "cell_type": "code",
            "source": [
                "drop trigger [Theme_Park].[Trigger_Manager_Notification_On_Maintenance_Completion]\n",
                "go\n",
                "create trigger [Theme_Park].[Trigger_Manager_Notification_On_Maintenance_Completion]\n",
                "on [Theme_Park].[Maintenance_Calendar]\n",
                "after insert,update\n",
                "as\n",
                "BEGIN\n",
                "    set nocount on\n",
                "    declare \n",
                "        @id int,\n",
                "        @Completion_Date datetime,\n",
                "        @Hours int,\n",
                "        @Amount smallmoney,\n",
                "        @Description varchar(50)\n",
                "    declare cur cursor read_only for \n",
                "        select Maint_ID, Maint_Completion, Billed_Hours, Invoice_amount, Maint_Description from inserted\n",
                "    open cur\n",
                "    fetch next from cur into @id, @Completion_Date, @Hours, @Amount, @Description\n",
                "    while @@fetch_status = 0\n",
                "    begin\n",
                "        if (@Completion_Date is not null)\n",
                "        begin\n",
                "            insert into [Theme_Park].[Maintenance_Notification]\n",
                "            values (@id, @Completion_Date, @Hours, @Amount, @Description)\n",
                "        end\n",
                "        fetch next from cur into @id, @Completion_Date, @Hours, @Amount, @Description\n",
                "    end\n",
                "    close cur\n",
                "    deallocate cur\n",
                "end\n",
                "    "
            ],
            "metadata": {
                "azdata_cell_guid": "9d4136cb-be9d-41b8-9124-eb817b8648c5",
                "language": "sql"
            },
            "outputs": [
                {
                    "output_type": "display_data",
                    "data": {
                        "text/html": "Commands completed successfully."
                    },
                    "metadata": {}
                },
                {
                    "output_type": "display_data",
                    "data": {
                        "text/html": "Commands completed successfully."
                    },
                    "metadata": {}
                },
                {
                    "output_type": "display_data",
                    "data": {
                        "text/html": "Total execution time: 00:00:00.112"
                    },
                    "metadata": {}
                }
            ],
            "execution_count": 1
        },
        {
            "cell_type": "markdown",
            "source": [
                "## Trigger TRIGGER_MANAGER_NOTIFICATION_ON_EMPLOYEE_CHANGE:\n",
                "\n",
                "This trigger fires whenever an employee's pay or department changes"
            ],
            "metadata": {
                "azdata_cell_guid": "b99bc11c-c09f-467d-9c92-e7e44fd802a7"
            },
            "attachments": {}
        },
        {
            "cell_type": "code",
            "source": [
                "drop trigger [Theme_Park].[Trigger_Manager_Notification_On_Employee_Change]\n",
                "go\n",
                "create trigger [Theme_Park].[Trigger_Manager_Notification_On_Employee_Change]\n",
                "on [Theme_Park].[Employee]\n",
                "after update, insert\n",
                "as\n",
                "BEGIN\n",
                "    set nocount on\n",
                "    declare \n",
                "        @fname varchar(20),\n",
                "        @lname varchar(20),\n",
                "        @ssn numeric(9,0),\n",
                "        @role varchar(20),\n",
                "        @dept_id int,\n",
                "        @payrate money,\n",
                "        @supervisor_ssn int,\n",
                "        @salaried bit\n",
                "    -- Here we use COLUMNS_UPDATED to check for the updated columns of the rows\n",
                "    -- This goes from right to left, as a bitmask. A 1 in the nth-most bit from the right, means that column n of [Theme_Park].[Employee] was updated\n",
                "    -- Payrate is column 12, salaried is column 11, department is column 8, role is column 9\n",
                "    declare @payrate_bitmask varbinary = LEFT_SHIFT(1, 11),\n",
                "            @salaried_bitmask varbinary = LEFT_SHIFT(1, 10),\n",
                "            @department_bitmask varbinary = LEFT_SHIFT(1, 7),\n",
                "            @role_bitmask varbinary = LEFT_SHIFT(1, 8)\n",
                "    declare cur cursor read_only for \n",
                "        select fname, lname, ssn, dept_id, role, payrate, salaried, supervisor_ssn from inserted\n",
                "    open cur\n",
                "    fetch next from cur into @fname, @lname, @ssn, @dept_id, @role, @payrate, @salaried, @supervisor_ssn\n",
                "    while @@fetch_status = 0\n",
                "    begin\n",
                "        declare @updated_columns varbinary = COLUMNs_UPDATED()\n",
                "        declare @dept_head_ssn int = (select supervisor_ssn from [Theme_Park].[Department] where dept_id = @dept_id)\n",
                "        declare @super_fname varchar(20), @super_lname varchar(20) = (select fname, lname from [Theme_Park].[Employees] where ssn = @supervisor_ssn)\n",
                "        if (@updated_columns & (@payrate_bitmask + @salaried_bitmask) <> 0)\n",
                "        begin\n",
                "            insert into [Theme_Park].[Manager_Notifications]\n",
                "            values \n",
                "            (@supervisor_ssn, @fname, @lname, @dept_id, @role, @payrate, @salaried, @super_fname, @super_lname, 'P'),\n",
                "            (@dept_head, @fname, @lname, @dept_id, @role, @payrate, @salaried, @super_fname, @super_lname, 'P')\n",
                "        end\n",
                "        if (@updated_columns & (@department_bitmask + @role_bitmask) <> 0)\n",
                "        begin\n",
                "            insert into [Theme_Park].[Manager_Notifications]\n",
                "            values \n",
                "            (@supervisor_ssn, @fname, @lname, @dept_id, @role, @payrate, @salaried, @super_fname, @super_lname, 'R'),\n",
                "            (@dept_head, @fname, @lname, @dept_id, @role, @payrate, @salaried, @super_fname, @super_lname, 'R')        \n",
                "        end\n",
                "        fetch next from cur into @fname, @lname, @ssn, @dept_id, @role, @payrate, @salaried\n",
                "    end\n",
                "    close cur\n",
                "    deallocate cur\n",
                "end\n",
                "    "
            ],
            "metadata": {
                "azdata_cell_guid": "24c2434c-e63b-496b-bb05-b9bc2bc40607",
                "language": "sql"
            },
            "outputs": [],
            "execution_count": null
        },
        {
            "cell_type": "code",
            "source": [
                "drop table [Theme_Park].[Manager_Notifications]\n",
                "go\n",
                "create table [Theme_Park].[Manager_Notifications]\n",
                "(\n",
                "    manager_ssn int not null,\n",
                "    employee_fname varchar(20),\n",
                "    employee_lname varchar(20),\n",
                "    dept_id int,\n",
                "    role varchar(20),\n",
                "    payrate money,\n",
                "    salaried bit,\n",
                "    super_fname varchar(20),\n",
                "    super_lname varchar(20),\n",
                "    type char not null\n",
                ")"
            ],
            "metadata": {
                "azdata_cell_guid": "b83865d4-60fe-46b2-b4d4-9cb83e7bb847",
                "language": "sql"
            },
            "outputs": [
                {
                    "output_type": "error",
                    "evalue": "Msg 3701, Level 11, State 5, Line 1\nCannot drop the table 'Theme_Park.Manager_Notifications', because it does not exist or you do not have permission.",
                    "ename": "",
                    "traceback": []
                },
                {
                    "output_type": "display_data",
                    "data": {
                        "text/html": "Commands completed successfully."
                    },
                    "metadata": {}
                },
                {
                    "output_type": "display_data",
                    "data": {
                        "text/html": "Total execution time: 00:00:00.119"
                    },
                    "metadata": {}
                }
            ],
            "execution_count": 1
        },
        {
            "cell_type": "code",
            "source": [
                "drop proc [Theme_Park].[Proc_Get_Manager_Notifications]\n",
                ""
            ],
            "metadata": {
                "language": "sql",
                "azdata_cell_guid": "9821210a-b2ce-4852-af02-35ab1603b78e"
            },
            "outputs": [],
            "execution_count": null
        },
        {
            "cell_type": "code",
            "source": [
                "insert into [Theme_Park].[Maintenance_Calendar]\n",
                "(Occurence_datetime, Priority, Maint_Start, Maint_Completion, Billed_Hours, Invoice_amount)\n",
                "values\n",
                "(\n",
                "    GETDATE(), 'ASAP', GETDATE(), GETDATE(), 1, 1130.50 \n",
                ")"
            ],
            "metadata": {
                "azdata_cell_guid": "3d3ee4e0-6e1d-498a-99f5-9bc11be5a411",
                "language": "sql"
            },
            "outputs": [
                {
                    "output_type": "display_data",
                    "data": {
                        "text/html": "(1 row affected)"
                    },
                    "metadata": {}
                },
                {
                    "output_type": "display_data",
                    "data": {
                        "text/html": "Total execution time: 00:00:00.061"
                    },
                    "metadata": {}
                }
            ],
            "execution_count": 4
        },
        {
            "cell_type": "code",
            "source": [
                "insert into [Theme_Park].[Maintenance_Calendar]\n",
                "(Occurence_datetime, Priority, Maint_Start)\n",
                "values\n",
                "(\n",
                "    GETDATE(), 'ASAP', GETDATE()\n",
                ")"
            ],
            "metadata": {
                "language": "sql",
                "azdata_cell_guid": "1ae8ff81-2ed5-4000-a2d3-4599f210327c",
                "tags": []
            },
            "outputs": [
                {
                    "output_type": "display_data",
                    "data": {
                        "text/html": "(1 row affected)"
                    },
                    "metadata": {}
                },
                {
                    "output_type": "display_data",
                    "data": {
                        "text/html": "Total execution time: 00:00:00.053"
                    },
                    "metadata": {}
                }
            ],
            "execution_count": 8
        },
        {
            "cell_type": "code",
            "source": [
                "update [Theme_Park].[Maintenance_Calendar]\n",
                "set Maint_Completion = GETDATE()\n",
                "where Maint_ID = 3\n",
                "go"
            ],
            "metadata": {
                "language": "sql",
                "azdata_cell_guid": "b1bea9ed-1378-4560-b410-8f270100f7a2"
            },
            "outputs": [
                {
                    "output_type": "display_data",
                    "data": {
                        "text/html": "(1 row affected)"
                    },
                    "metadata": {}
                },
                {
                    "output_type": "display_data",
                    "data": {
                        "text/html": "Total execution time: 00:00:00.058"
                    },
                    "metadata": {}
                }
            ],
            "execution_count": 12
        },
        {
            "cell_type": "code",
            "source": [
                "select * from [Theme_Park].[Maintenance_Notification]"
            ],
            "metadata": {
                "language": "sql",
                "azdata_cell_guid": "b899c83c-bda4-41a3-9b34-980b5095fbdb"
            },
            "outputs": [
                {
                    "output_type": "display_data",
                    "data": {
                        "text/html": "(3 rows affected)"
                    },
                    "metadata": {}
                },
                {
                    "output_type": "display_data",
                    "data": {
                        "text/html": "Total execution time: 00:00:00.214"
                    },
                    "metadata": {}
                },
                {
                    "output_type": "execute_result",
                    "execution_count": 2,
                    "data": {
                        "application/vnd.dataresource+json": {
                            "schema": {
                                "fields": [
                                    {
                                        "name": "notification_id"
                                    },
                                    {
                                        "name": "maintenance_id"
                                    },
                                    {
                                        "name": "completion"
                                    },
                                    {
                                        "name": "billed_hours"
                                    },
                                    {
                                        "name": "amount"
                                    },
                                    {
                                        "name": "maint_description"
                                    }
                                ]
                            },
                            "data": [
                                {
                                    "0": "1",
                                    "1": "1",
                                    "2": "2022-11-11 00:00:00.000",
                                    "3": "2",
                                    "4": "1.00",
                                    "5": "Broken wheel"
                                },
                                {
                                    "0": "2",
                                    "1": "3",
                                    "2": "2022-11-10 00:00:00.000",
                                    "3": "2",
                                    "4": "1.00",
                                    "5": "jflj"
                                },
                                {
                                    "0": "3",
                                    "1": "2",
                                    "2": "2022-11-10 00:00:00.000",
                                    "3": "2",
                                    "4": "420.22",
                                    "5": "kdkdkd"
                                }
                            ]
                        },
                        "text/html": "<table><tr><th>notification_id</th><th>maintenance_id</th><th>completion</th><th>billed_hours</th><th>amount</th><th>maint_description</th></tr><tr><td>1</td><td>1</td><td>2022-11-11 00:00:00.000</td><td>2</td><td>1.00</td><td>Broken wheel</td></tr><tr><td>2</td><td>3</td><td>2022-11-10 00:00:00.000</td><td>2</td><td>1.00</td><td>jflj</td></tr><tr><td>3</td><td>2</td><td>2022-11-10 00:00:00.000</td><td>2</td><td>420.22</td><td>kdkdkd</td></tr></table>"
                    },
                    "metadata": {}
                }
            ],
            "execution_count": 2
        },
        {
            "cell_type": "code",
            "source": [
                "declare @date datetime = GETDATE()\n",
                "exec [Theme_Park].[Proc_Add_Maint] @date, null, null, 'Urgent', @date\n",
                "go "
            ],
            "metadata": {
                "azdata_cell_guid": "6f759f0b-e38b-4317-a690-0a2b30ed0766",
                "language": "sql"
            },
            "outputs": [
                {
                    "output_type": "display_data",
                    "data": {
                        "text/html": "(1 row affected)"
                    },
                    "metadata": {}
                },
                {
                    "output_type": "display_data",
                    "data": {
                        "text/html": "Total execution time: 00:00:00.086"
                    },
                    "metadata": {}
                }
            ],
            "execution_count": 16
        },
        {
            "cell_type": "code",
            "source": [
                "select * from [Theme_Park].[Ticket_Reservation]\n",
                "go\n",
                "select * from [Theme_Park].[Maintenance_Calendar]\n",
                "go\n",
                "select * from [Theme_Park].[Attractions]\n",
                "GO\n",
                "select * from [Theme_Park].[Vendor]\n",
                "go\n",
                "select * from [Theme_Park].[Department]\n",
                "go\n",
                "select * from [Theme_Park].[Ticket]\n",
                "go\n",
                "select * from [Theme_Park].[Merchandise_Sale]\n",
                "go\n",
                "select * from [Theme_Park].[Merchandise]\n",
                "go\n",
                "select * from [Theme_Park].[Employee]\n",
                "go"
            ],
            "metadata": {
                "language": "sql",
                "azdata_cell_guid": "67a4aa41-1e0d-4f47-9325-5ece7e0ee062"
            },
            "outputs": [
                {
                    "output_type": "display_data",
                    "data": {
                        "text/html": "(1 row affected)"
                    },
                    "metadata": {}
                },
                {
                    "output_type": "display_data",
                    "data": {
                        "text/html": "(4 rows affected)"
                    },
                    "metadata": {}
                },
                {
                    "output_type": "display_data",
                    "data": {
                        "text/html": "(3 rows affected)"
                    },
                    "metadata": {}
                },
                {
                    "output_type": "display_data",
                    "data": {
                        "text/html": "(2 rows affected)"
                    },
                    "metadata": {}
                },
                {
                    "output_type": "display_data",
                    "data": {
                        "text/html": "(2 rows affected)"
                    },
                    "metadata": {}
                },
                {
                    "output_type": "display_data",
                    "data": {
                        "text/html": "(0 rows affected)"
                    },
                    "metadata": {}
                },
                {
                    "output_type": "display_data",
                    "data": {
                        "text/html": "(0 rows affected)"
                    },
                    "metadata": {}
                },
                {
                    "output_type": "display_data",
                    "data": {
                        "text/html": "(0 rows affected)"
                    },
                    "metadata": {}
                },
                {
                    "output_type": "display_data",
                    "data": {
                        "text/html": "(0 rows affected)"
                    },
                    "metadata": {}
                },
                {
                    "output_type": "display_data",
                    "data": {
                        "text/html": "Total execution time: 00:00:00.607"
                    },
                    "metadata": {}
                },
                {
                    "output_type": "execute_result",
                    "execution_count": 4,
                    "data": {
                        "application/vnd.dataresource+json": {
                            "schema": {
                                "fields": [
                                    {
                                        "name": "Reservation_ID"
                                    },
                                    {
                                        "name": "Customer_ID"
                                    },
                                    {
                                        "name": "FirstName"
                                    },
                                    {
                                        "name": "LastName"
                                    },
                                    {
                                        "name": "Date_Placed"
                                    },
                                    {
                                        "name": "Date_of_Visit"
                                    },
                                    {
                                        "name": "Credit_Card_Number"
                                    },
                                    {
                                        "name": "Ticket_Class"
                                    },
                                    {
                                        "name": "Expired"
                                    },
                                    {
                                        "name": "Price"
                                    },
                                    {
                                        "name": "Ticket_ID"
                                    }
                                ]
                            },
                            "data": [
                                {
                                    "0": "1",
                                    "1": "1",
                                    "2": "Karen",
                                    "3": "Strong",
                                    "4": "2022-11-10 19:14:26.970",
                                    "5": "2022-12-25 00:00:00.000",
                                    "6": "111",
                                    "7": "Premium",
                                    "8": "0",
                                    "9": "11.50",
                                    "10": "NULL"
                                }
                            ]
                        },
                        "text/html": "<table><tr><th>Reservation_ID</th><th>Customer_ID</th><th>FirstName</th><th>LastName</th><th>Date_Placed</th><th>Date_of_Visit</th><th>Credit_Card_Number</th><th>Ticket_Class</th><th>Expired</th><th>Price</th><th>Ticket_ID</th></tr><tr><td>1</td><td>1</td><td>Karen</td><td>Strong</td><td>2022-11-10 19:14:26.970</td><td>2022-12-25 00:00:00.000</td><td>111</td><td>Premium</td><td>0</td><td>11.50</td><td>NULL</td></tr></table>"
                    },
                    "metadata": {}
                },
                {
                    "output_type": "execute_result",
                    "execution_count": 4,
                    "data": {
                        "application/vnd.dataresource+json": {
                            "schema": {
                                "fields": [
                                    {
                                        "name": "Maint_ID"
                                    },
                                    {
                                        "name": "Occurence_datetime"
                                    },
                                    {
                                        "name": "Vendor_ID"
                                    },
                                    {
                                        "name": "Attraction_ID"
                                    },
                                    {
                                        "name": "Priority"
                                    },
                                    {
                                        "name": "Maint_Start"
                                    },
                                    {
                                        "name": "Maint_Completion"
                                    },
                                    {
                                        "name": "Billed_Hours"
                                    },
                                    {
                                        "name": "Invoice_amount"
                                    },
                                    {
                                        "name": "Scanned_invoice"
                                    },
                                    {
                                        "name": "Maint_Description"
                                    }
                                ]
                            },
                            "data": [
                                {
                                    "0": "1",
                                    "1": "2022-11-10 16:49:31.253",
                                    "2": "1",
                                    "3": "1",
                                    "4": "ASAP",
                                    "5": "2022-11-10 16:49:31.253",
                                    "6": "2022-11-11 00:00:00.000",
                                    "7": "2",
                                    "8": "1.00",
                                    "9": "NULL",
                                    "10": "Broken wheel"
                                },
                                {
                                    "0": "2",
                                    "1": "2022-11-10 00:00:00.000",
                                    "2": "1",
                                    "3": "1",
                                    "4": "Not Urgent",
                                    "5": "2022-11-10 00:00:00.000",
                                    "6": "2022-11-10 00:00:00.000",
                                    "7": "2",
                                    "8": "420.22",
                                    "9": "NULL",
                                    "10": "kdkdkd"
                                },
                                {
                                    "0": "3",
                                    "1": "2022-11-10 00:00:00.000",
                                    "2": "1",
                                    "3": "1",
                                    "4": "Urgent",
                                    "5": "2022-11-10 00:00:00.000",
                                    "6": "2022-11-10 00:00:00.000",
                                    "7": "2",
                                    "8": "1.00",
                                    "9": "NULL",
                                    "10": "jflj"
                                },
                                {
                                    "0": "4",
                                    "1": "2022-11-10 00:00:00.000",
                                    "2": "2",
                                    "3": "2",
                                    "4": "ASAP",
                                    "5": "2022-11-10 00:00:00.000",
                                    "6": "NULL",
                                    "7": "NULL",
                                    "8": "NULL",
                                    "9": "NULL",
                                    "10": "spill"
                                }
                            ]
                        },
                        "text/html": "<table><tr><th>Maint_ID</th><th>Occurence_datetime</th><th>Vendor_ID</th><th>Attraction_ID</th><th>Priority</th><th>Maint_Start</th><th>Maint_Completion</th><th>Billed_Hours</th><th>Invoice_amount</th><th>Scanned_invoice</th><th>Maint_Description</th></tr><tr><td>1</td><td>2022-11-10 16:49:31.253</td><td>1</td><td>1</td><td>ASAP</td><td>2022-11-10 16:49:31.253</td><td>2022-11-11 00:00:00.000</td><td>2</td><td>1.00</td><td>NULL</td><td>Broken wheel</td></tr><tr><td>2</td><td>2022-11-10 00:00:00.000</td><td>1</td><td>1</td><td>Not Urgent</td><td>2022-11-10 00:00:00.000</td><td>2022-11-10 00:00:00.000</td><td>2</td><td>420.22</td><td>NULL</td><td>kdkdkd</td></tr><tr><td>3</td><td>2022-11-10 00:00:00.000</td><td>1</td><td>1</td><td>Urgent</td><td>2022-11-10 00:00:00.000</td><td>2022-11-10 00:00:00.000</td><td>2</td><td>1.00</td><td>NULL</td><td>jflj</td></tr><tr><td>4</td><td>2022-11-10 00:00:00.000</td><td>2</td><td>2</td><td>ASAP</td><td>2022-11-10 00:00:00.000</td><td>NULL</td><td>NULL</td><td>NULL</td><td>NULL</td><td>spill</td></tr></table>"
                    },
                    "metadata": {}
                },
                {
                    "output_type": "execute_result",
                    "execution_count": 4,
                    "data": {
                        "application/vnd.dataresource+json": {
                            "schema": {
                                "fields": [
                                    {
                                        "name": "attraction_id"
                                    },
                                    {
                                        "name": "name"
                                    },
                                    {
                                        "name": "dept_id"
                                    }
                                ]
                            },
                            "data": [
                                {
                                    "0": "1",
                                    "1": "Spinny Spin",
                                    "2": "1"
                                },
                                {
                                    "0": "2",
                                    "1": "Terror Drop",
                                    "2": "1"
                                },
                                {
                                    "0": "3",
                                    "1": "Bills Sandwhiches",
                                    "2": "1"
                                }
                            ]
                        },
                        "text/html": "<table><tr><th>attraction_id</th><th>name</th><th>dept_id</th></tr><tr><td>1</td><td>Spinny Spin</td><td>1</td></tr><tr><td>2</td><td>Terror Drop</td><td>1</td></tr><tr><td>3</td><td>Bills Sandwhiches</td><td>1</td></tr></table>"
                    },
                    "metadata": {}
                },
                {
                    "output_type": "execute_result",
                    "execution_count": 4,
                    "data": {
                        "application/vnd.dataresource+json": {
                            "schema": {
                                "fields": [
                                    {
                                        "name": "name"
                                    },
                                    {
                                        "name": "vendor_point_of_contact_name"
                                    },
                                    {
                                        "name": "business_phone"
                                    },
                                    {
                                        "name": "business_address"
                                    },
                                    {
                                        "name": "service_type"
                                    },
                                    {
                                        "name": "contract_start_date"
                                    },
                                    {
                                        "name": "scanned_contract"
                                    },
                                    {
                                        "name": "vendor_id"
                                    }
                                ]
                            },
                            "data": [
                                {
                                    "0": "Jennys Janitorial",
                                    "1": "Jenny Jones",
                                    "2": "6128974243",
                                    "3": "42 oceania drive, Houston TX, 77004",
                                    "4": "Attraction",
                                    "5": "2022-01-19",
                                    "6": "NULL",
                                    "7": "1"
                                },
                                {
                                    "0": "Felix Maintenance",
                                    "1": "Fix-it Felix",
                                    "2": "5125125125",
                                    "3": "21 Fix drive, Houston TX, 77004",
                                    "4": "Attraction",
                                    "5": "2022-01-19",
                                    "6": "NULL",
                                    "7": "2"
                                }
                            ]
                        },
                        "text/html": "<table><tr><th>name</th><th>vendor_point_of_contact_name</th><th>business_phone</th><th>business_address</th><th>service_type</th><th>contract_start_date</th><th>scanned_contract</th><th>vendor_id</th></tr><tr><td>Jennys Janitorial</td><td>Jenny Jones</td><td>6128974243</td><td>42 oceania drive, Houston TX, 77004</td><td>Attraction</td><td>2022-01-19</td><td>NULL</td><td>1</td></tr><tr><td>Felix Maintenance</td><td>Fix-it Felix</td><td>5125125125</td><td>21 Fix drive, Houston TX, 77004</td><td>Attraction</td><td>2022-01-19</td><td>NULL</td><td>2</td></tr></table>"
                    },
                    "metadata": {}
                },
                {
                    "output_type": "execute_result",
                    "execution_count": 4,
                    "data": {
                        "application/vnd.dataresource+json": {
                            "schema": {
                                "fields": [
                                    {
                                        "name": "dept_id"
                                    },
                                    {
                                        "name": "dept_name"
                                    },
                                    {
                                        "name": "supervisor_ssn"
                                    }
                                ]
                            },
                            "data": [
                                {
                                    "0": "1",
                                    "1": "Rides",
                                    "2": "NULL"
                                },
                                {
                                    "0": "2",
                                    "1": "Food Court",
                                    "2": "NULL"
                                }
                            ]
                        },
                        "text/html": "<table><tr><th>dept_id</th><th>dept_name</th><th>supervisor_ssn</th></tr><tr><td>1</td><td>Rides</td><td>NULL</td></tr><tr><td>2</td><td>Food Court</td><td>NULL</td></tr></table>"
                    },
                    "metadata": {}
                },
                {
                    "output_type": "execute_result",
                    "execution_count": 4,
                    "data": {
                        "application/vnd.dataresource+json": {
                            "schema": {
                                "fields": [
                                    {
                                        "name": "Ticket_ID"
                                    },
                                    {
                                        "name": "Date"
                                    },
                                    {
                                        "name": "Ticket_Class"
                                    },
                                    {
                                        "name": "Price"
                                    },
                                    {
                                        "name": "Reservation"
                                    }
                                ]
                            },
                            "data": []
                        },
                        "text/html": "<table><tr><th>Ticket_ID</th><th>Date</th><th>Ticket_Class</th><th>Price</th><th>Reservation</th></tr></table>"
                    },
                    "metadata": {}
                },
                {
                    "output_type": "execute_result",
                    "execution_count": 4,
                    "data": {
                        "application/vnd.dataresource+json": {
                            "schema": {
                                "fields": [
                                    {
                                        "name": "transaction_id"
                                    },
                                    {
                                        "name": "item_id"
                                    },
                                    {
                                        "name": "quantity"
                                    },
                                    {
                                        "name": "sale_price"
                                    },
                                    {
                                        "name": "attraction_id"
                                    },
                                    {
                                        "name": "transaction_date"
                                    }
                                ]
                            },
                            "data": []
                        },
                        "text/html": "<table><tr><th>transaction_id</th><th>item_id</th><th>quantity</th><th>sale_price</th><th>attraction_id</th><th>transaction_date</th></tr></table>"
                    },
                    "metadata": {}
                },
                {
                    "output_type": "execute_result",
                    "execution_count": 4,
                    "data": {
                        "application/vnd.dataresource+json": {
                            "schema": {
                                "fields": [
                                    {
                                        "name": "item_id"
                                    },
                                    {
                                        "name": "name"
                                    },
                                    {
                                        "name": "price"
                                    },
                                    {
                                        "name": "merch_type"
                                    }
                                ]
                            },
                            "data": []
                        },
                        "text/html": "<table><tr><th>item_id</th><th>name</th><th>price</th><th>merch_type</th></tr></table>"
                    },
                    "metadata": {}
                },
                {
                    "output_type": "execute_result",
                    "execution_count": 4,
                    "data": {
                        "application/vnd.dataresource+json": {
                            "schema": {
                                "fields": [
                                    {
                                        "name": "fname"
                                    },
                                    {
                                        "name": "lname"
                                    },
                                    {
                                        "name": "ssn"
                                    },
                                    {
                                        "name": "gender"
                                    },
                                    {
                                        "name": "address"
                                    },
                                    {
                                        "name": "phone"
                                    },
                                    {
                                        "name": "date_joined"
                                    },
                                    {
                                        "name": "dept_id"
                                    },
                                    {
                                        "name": "role"
                                    },
                                    {
                                        "name": "supervisor_ssn"
                                    },
                                    {
                                        "name": "salaried"
                                    },
                                    {
                                        "name": "payrate"
                                    },
                                    {
                                        "name": "vacation_days"
                                    }
                                ]
                            },
                            "data": []
                        },
                        "text/html": "<table><tr><th>fname</th><th>lname</th><th>ssn</th><th>gender</th><th>address</th><th>phone</th><th>date_joined</th><th>dept_id</th><th>role</th><th>supervisor_ssn</th><th>salaried</th><th>payrate</th><th>vacation_days</th></tr></table>"
                    },
                    "metadata": {}
                }
            ],
            "execution_count": 4
        },
        {
            "cell_type": "code",
            "source": [
                "alter table [Theme_Park].[Ticket_Reservation]\n",
                "alter column Credit_Card_Number bigint\n",
                "go"
            ],
            "metadata": {
                "azdata_cell_guid": "b1bc3b86-57c2-49a8-8c15-3949f1e15bb1",
                "language": "sql"
            },
            "outputs": [
                {
                    "output_type": "display_data",
                    "data": {
                        "text/html": "Commands completed successfully."
                    },
                    "metadata": {}
                },
                {
                    "output_type": "display_data",
                    "data": {
                        "text/html": "Total execution time: 00:00:00.096"
                    },
                    "metadata": {}
                }
            ],
            "execution_count": 5
        },
        {
            "cell_type": "code",
            "source": [
                "exec [Theme_Park].[Proc_Customer_Buy_Ticket] GETDATE(), 'Poor', "
            ],
            "metadata": {
                "azdata_cell_guid": "75b25c14-a0aa-4f04-90b5-2112acd3e375",
                "language": "sql"
            },
            "outputs": [],
            "execution_count": null
        }
    ]
}