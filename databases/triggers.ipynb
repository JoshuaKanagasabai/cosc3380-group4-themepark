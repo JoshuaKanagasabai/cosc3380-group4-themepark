{
    "metadata": {
        "kernelspec": {
            "name": "SQL",
            "display_name": "SQL",
            "language": "sql"
        },
        "language_info": {
            "name": "sql",
            "version": ""
        }
    },
    "nbformat_minor": 2,
    "nbformat": 4,
    "cells": [
        {
            "cell_type": "code",
            "source": [
                "delete from [Theme_Park].[Maintenance_Calendar]\n",
                "go\n",
                "drop table [Theme_Park].[Maintenance_Notification]\n",
                "go\n",
                "create table [Theme_Park].[Maintenance_Notification]\n",
                "(\n",
                "    notification_id int identity(1,1),\n",
                "    maintenance_id int not null,\n",
                "    completion datetime not null,\n",
                "    billed_hours int,\n",
                "    amount smallmoney,\n",
                ")"
            ],
            "metadata": {
                "language": "sql",
                "azdata_cell_guid": "e349276c-932f-47f9-8b67-b1946442daa1"
            },
            "outputs": [
                {
                    "output_type": "error",
                    "evalue": "Msg 3701, Level 11, State 5, Line 1\nCannot drop the table 'Theme_Park.Maintenance_Notification', because it does not exist or you do not have permission.",
                    "ename": "",
                    "traceback": []
                },
                {
                    "output_type": "display_data",
                    "data": {
                        "text/html": "Commands completed successfully."
                    },
                    "metadata": {}
                },
                {
                    "output_type": "display_data",
                    "data": {
                        "text/html": "Total execution time: 00:00:00.121"
                    },
                    "metadata": {}
                }
            ],
            "execution_count": 1
        },
        {
            "cell_type": "markdown",
            "source": [
                "## Trigger TRIGGER_MANAGER_NOTIFICATION_ON_MAINTENANCE_COMPLETION:\n",
                "\n",
                "This trigger is intended to create notification entries whenever a maintenance event is updated or inserted\n",
                "with a completion time set. These notifications have \n",
                ""
            ],
            "metadata": {
                "azdata_cell_guid": "27a0ad47-c5f7-4e10-9d1a-22e7f8fc6b6f"
            },
            "attachments": {}
        },
        {
            "cell_type": "code",
            "source": [
                "drop trigger [Theme_Park].[Trigger_Manager_Notification_On_Maintenance_Completion]\n",
                "go\n",
                "create trigger [Theme_Park].[Trigger_Manager_Notification_On_Maintenance_Completion]\n",
                "on [Theme_Park].[Maintenance_Calendar]\n",
                "after insert,update\n",
                "as\n",
                "BEGIN\n",
                "    set nocount on\n",
                "    declare \n",
                "        @id int,\n",
                "        @Completion_Date datetime,\n",
                "        @Hours int,\n",
                "        @Amount smallmoney\n",
                "    declare cur cursor read_only for \n",
                "        select Maint_ID, Maint_Completion, Billed_Hours, Invoice_amount from inserted\n",
                "    open cur\n",
                "    fetch next from cur into @id, @Completion_Date, @Hours, @Amount\n",
                "    while @@fetch_status = 0\n",
                "    begin\n",
                "        if (@Completion_Date is not null)\n",
                "        begin\n",
                "            insert into [Theme_Park].[Maintenance_Notification]\n",
                "            values (@id, @Completion_Date, @Hours, @Amount)\n",
                "        end\n",
                "        fetch next from cur into @id, @Completion_Date, @Hours, @Amount\n",
                "    end\n",
                "    close cur\n",
                "    deallocate cur\n",
                "end\n",
                "    "
            ],
            "metadata": {
                "azdata_cell_guid": "9d4136cb-be9d-41b8-9124-eb817b8648c5",
                "language": "sql"
            },
            "outputs": [
                {
                    "output_type": "error",
                    "evalue": "Msg 3701, Level 11, State 5, Line 1\nCannot drop the trigger 'Theme_Park.Trigger_Manager_Notification_On_Maintenance_Completion', because it does not exist or you do not have permission.",
                    "ename": "",
                    "traceback": []
                },
                {
                    "output_type": "display_data",
                    "data": {
                        "text/html": "Commands completed successfully."
                    },
                    "metadata": {}
                },
                {
                    "output_type": "display_data",
                    "data": {
                        "text/html": "Total execution time: 00:00:00.101"
                    },
                    "metadata": {}
                }
            ],
            "execution_count": 2
        },
        {
            "cell_type": "code",
            "source": [
                "insert into [Theme_Park].[Maintenance_Calendar]\n",
                "(Occurence_datetime, Priority, Maint_Start, Maint_Completion, Billed_Hours, Invoice_amount)\n",
                "values\n",
                "(\n",
                "    GETDATE(), 'ASAP', GETDATE(), GETDATE(), 1, 1130.50 \n",
                ")"
            ],
            "metadata": {
                "azdata_cell_guid": "3d3ee4e0-6e1d-498a-99f5-9bc11be5a411",
                "language": "sql"
            },
            "outputs": [
                {
                    "output_type": "display_data",
                    "data": {
                        "text/html": "(1 row affected)"
                    },
                    "metadata": {}
                },
                {
                    "output_type": "display_data",
                    "data": {
                        "text/html": "Total execution time: 00:00:00.061"
                    },
                    "metadata": {}
                }
            ],
            "execution_count": 4
        },
        {
            "cell_type": "code",
            "source": [
                "insert into [Theme_Park].[Maintenance_Calendar]\n",
                "(Occurence_datetime, Priority, Maint_Start)\n",
                "values\n",
                "(\n",
                "    GETDATE(), 'ASAP', GETDATE()\n",
                ")"
            ],
            "metadata": {
                "language": "sql",
                "azdata_cell_guid": "1ae8ff81-2ed5-4000-a2d3-4599f210327c",
                "tags": []
            },
            "outputs": [
                {
                    "output_type": "display_data",
                    "data": {
                        "text/html": "(1 row affected)"
                    },
                    "metadata": {}
                },
                {
                    "output_type": "display_data",
                    "data": {
                        "text/html": "Total execution time: 00:00:00.053"
                    },
                    "metadata": {}
                }
            ],
            "execution_count": 8
        },
        {
            "cell_type": "code",
            "source": [
                "update [Theme_Park].[Maintenance_Calendar]\n",
                "set Maint_Completion = GETDATE()\n",
                "where Maint_ID = 3\n",
                "go"
            ],
            "metadata": {
                "language": "sql",
                "azdata_cell_guid": "b1bea9ed-1378-4560-b410-8f270100f7a2"
            },
            "outputs": [
                {
                    "output_type": "display_data",
                    "data": {
                        "text/html": "(1 row affected)"
                    },
                    "metadata": {}
                },
                {
                    "output_type": "display_data",
                    "data": {
                        "text/html": "Total execution time: 00:00:00.058"
                    },
                    "metadata": {}
                }
            ],
            "execution_count": 12
        },
        {
            "cell_type": "code",
            "source": [
                "select * from [Theme_Park].[Maintenance_Notification]"
            ],
            "metadata": {
                "language": "sql",
                "azdata_cell_guid": "b899c83c-bda4-41a3-9b34-980b5095fbdb"
            },
            "outputs": [
                {
                    "output_type": "display_data",
                    "data": {
                        "text/html": "(10 rows affected)"
                    },
                    "metadata": {}
                },
                {
                    "output_type": "display_data",
                    "data": {
                        "text/html": "Total execution time: 00:00:00.137"
                    },
                    "metadata": {}
                },
                {
                    "output_type": "execute_result",
                    "metadata": {},
                    "execution_count": 28,
                    "data": {
                        "application/vnd.dataresource+json": {
                            "schema": {
                                "fields": [
                                    {
                                        "name": "notification_id"
                                    },
                                    {
                                        "name": "maintenance_id"
                                    },
                                    {
                                        "name": "completion"
                                    },
                                    {
                                        "name": "billed_hours"
                                    },
                                    {
                                        "name": "amount"
                                    }
                                ]
                            },
                            "data": [
                                {
                                    "0": "1",
                                    "1": "1",
                                    "2": "2022-11-02 18:22:44.457",
                                    "3": "1",
                                    "4": "1130.50"
                                },
                                {
                                    "0": "2",
                                    "1": "2",
                                    "2": "2022-11-02 18:22:50.080",
                                    "3": "1",
                                    "4": "1130.50"
                                },
                                {
                                    "0": "3",
                                    "1": "3",
                                    "2": "2022-11-02 18:26:44.707",
                                    "3": "NULL",
                                    "4": "NULL"
                                },
                                {
                                    "0": "4",
                                    "1": "3",
                                    "2": "2022-11-02 18:26:53.157",
                                    "3": "NULL",
                                    "4": "NULL"
                                },
                                {
                                    "0": "5",
                                    "1": "13",
                                    "2": "2022-11-03 00:47:21.440",
                                    "3": "1",
                                    "4": "1.00"
                                },
                                {
                                    "0": "6",
                                    "1": "13",
                                    "2": "2022-11-03 00:48:10.653",
                                    "3": "1",
                                    "4": "1.00"
                                },
                                {
                                    "0": "7",
                                    "1": "13",
                                    "2": "2022-11-03 00:48:28.907",
                                    "3": "1",
                                    "4": "1.00"
                                },
                                {
                                    "0": "8",
                                    "1": "13",
                                    "2": "2022-11-03 00:48:48.937",
                                    "3": "1",
                                    "4": "1.00"
                                },
                                {
                                    "0": "9",
                                    "1": "13",
                                    "2": "2022-11-03 00:49:16.653",
                                    "3": "2",
                                    "4": "2.00"
                                },
                                {
                                    "0": "10",
                                    "1": "13",
                                    "2": "2022-11-03 00:50:01.873",
                                    "3": "2",
                                    "4": "420.69"
                                }
                            ]
                        },
                        "text/html": [
                            "<table>",
                            "<tr><th>notification_id</th><th>maintenance_id</th><th>completion</th><th>billed_hours</th><th>amount</th></tr>",
                            "<tr><td>1</td><td>1</td><td>2022-11-02 18:22:44.457</td><td>1</td><td>1130.50</td></tr>",
                            "<tr><td>2</td><td>2</td><td>2022-11-02 18:22:50.080</td><td>1</td><td>1130.50</td></tr>",
                            "<tr><td>3</td><td>3</td><td>2022-11-02 18:26:44.707</td><td>NULL</td><td>NULL</td></tr>",
                            "<tr><td>4</td><td>3</td><td>2022-11-02 18:26:53.157</td><td>NULL</td><td>NULL</td></tr>",
                            "<tr><td>5</td><td>13</td><td>2022-11-03 00:47:21.440</td><td>1</td><td>1.00</td></tr>",
                            "<tr><td>6</td><td>13</td><td>2022-11-03 00:48:10.653</td><td>1</td><td>1.00</td></tr>",
                            "<tr><td>7</td><td>13</td><td>2022-11-03 00:48:28.907</td><td>1</td><td>1.00</td></tr>",
                            "<tr><td>8</td><td>13</td><td>2022-11-03 00:48:48.937</td><td>1</td><td>1.00</td></tr>",
                            "<tr><td>9</td><td>13</td><td>2022-11-03 00:49:16.653</td><td>2</td><td>2.00</td></tr>",
                            "<tr><td>10</td><td>13</td><td>2022-11-03 00:50:01.873</td><td>2</td><td>420.69</td></tr>",
                            "</table>"
                        ]
                    }
                }
            ],
            "execution_count": 28
        },
        {
            "cell_type": "code",
            "source": [
                "declare @date datetime = GETDATE()\n",
                "exec [Theme_Park].[Proc_Add_Maint] @date, null, null, 'Urgent', @date\n",
                "go "
            ],
            "metadata": {
                "azdata_cell_guid": "6f759f0b-e38b-4317-a690-0a2b30ed0766",
                "language": "sql"
            },
            "outputs": [
                {
                    "output_type": "display_data",
                    "data": {
                        "text/html": "(1 row affected)"
                    },
                    "metadata": {}
                },
                {
                    "output_type": "display_data",
                    "data": {
                        "text/html": "Total execution time: 00:00:00.086"
                    },
                    "metadata": {}
                }
            ],
            "execution_count": 16
        },
        {
            "cell_type": "code",
            "source": [
                "select * from [Theme_Park].[Maintenance_Calendar]\n",
                "go\n",
                "select * from [Theme_Park].[Attractions]\n",
                "GO\n",
                "select * from [Theme_Park].[Vendor]\n",
                "go\n",
                "select * from [Theme_Park].[Department]\n",
                "go"
            ],
            "metadata": {
                "language": "sql",
                "azdata_cell_guid": "67a4aa41-1e0d-4f47-9325-5ece7e0ee062"
            },
            "outputs": [
                {
                    "output_type": "display_data",
                    "data": {
                        "text/html": "(7 rows affected)"
                    },
                    "metadata": {}
                },
                {
                    "output_type": "display_data",
                    "data": {
                        "text/html": "(1 row affected)"
                    },
                    "metadata": {}
                },
                {
                    "output_type": "display_data",
                    "data": {
                        "text/html": "(1 row affected)"
                    },
                    "metadata": {}
                },
                {
                    "output_type": "display_data",
                    "data": {
                        "text/html": "(4 rows affected)"
                    },
                    "metadata": {}
                },
                {
                    "output_type": "display_data",
                    "data": {
                        "text/html": "Total execution time: 00:00:00.313"
                    },
                    "metadata": {}
                },
                {
                    "output_type": "execute_result",
                    "metadata": {},
                    "execution_count": 26,
                    "data": {
                        "application/vnd.dataresource+json": {
                            "schema": {
                                "fields": [
                                    {
                                        "name": "Maint_ID"
                                    },
                                    {
                                        "name": "Occurence_datetime"
                                    },
                                    {
                                        "name": "Vendor_ID"
                                    },
                                    {
                                        "name": "Attraction_ID"
                                    },
                                    {
                                        "name": "Priority"
                                    },
                                    {
                                        "name": "Maint_Start"
                                    },
                                    {
                                        "name": "Maint_Completion"
                                    },
                                    {
                                        "name": "Billed_Hours"
                                    },
                                    {
                                        "name": "Invoice_amount"
                                    },
                                    {
                                        "name": "Scanned_invoice"
                                    }
                                ]
                            },
                            "data": [
                                {
                                    "0": "1",
                                    "1": "2022-11-02 18:22:44.457",
                                    "2": "NULL",
                                    "3": "NULL",
                                    "4": "ASAP",
                                    "5": "2022-11-02 18:22:44.457",
                                    "6": "2022-11-02 18:22:44.457",
                                    "7": "1",
                                    "8": "1130.50",
                                    "9": "NULL"
                                },
                                {
                                    "0": "2",
                                    "1": "2022-11-02 18:22:50.080",
                                    "2": "NULL",
                                    "3": "NULL",
                                    "4": "ASAP",
                                    "5": "2022-11-02 18:22:50.080",
                                    "6": "2022-11-02 18:22:50.080",
                                    "7": "1",
                                    "8": "1130.50",
                                    "9": "NULL"
                                },
                                {
                                    "0": "3",
                                    "1": "2022-11-02 18:25:32.470",
                                    "2": "NULL",
                                    "3": "NULL",
                                    "4": "ASAP",
                                    "5": "2022-11-02 18:25:32.470",
                                    "6": "2022-11-02 18:26:53.157",
                                    "7": "NULL",
                                    "8": "NULL",
                                    "9": "NULL"
                                },
                                {
                                    "0": "4",
                                    "1": "2022-11-02 18:25:33.410",
                                    "2": "NULL",
                                    "3": "NULL",
                                    "4": "ASAP",
                                    "5": "2022-11-02 18:25:33.410",
                                    "6": "NULL",
                                    "7": "NULL",
                                    "8": "NULL",
                                    "9": "NULL"
                                },
                                {
                                    "0": "5",
                                    "1": "2022-11-02 18:25:34.140",
                                    "2": "NULL",
                                    "3": "NULL",
                                    "4": "ASAP",
                                    "5": "2022-11-02 18:25:34.140",
                                    "6": "NULL",
                                    "7": "NULL",
                                    "8": "NULL",
                                    "9": "NULL"
                                },
                                {
                                    "0": "6",
                                    "1": "2022-11-02 23:20:44.100",
                                    "2": "NULL",
                                    "3": "NULL",
                                    "4": "Urgent",
                                    "5": "2022-11-02 23:20:44.100",
                                    "6": "NULL",
                                    "7": "NULL",
                                    "8": "NULL",
                                    "9": "NULL"
                                },
                                {
                                    "0": "7",
                                    "1": "2022-11-02 23:23:34.757",
                                    "2": "NULL",
                                    "3": "NULL",
                                    "4": "Urgent",
                                    "5": "2022-11-02 23:23:34.757",
                                    "6": "NULL",
                                    "7": "NULL",
                                    "8": "NULL",
                                    "9": "NULL"
                                }
                            ]
                        },
                        "text/html": [
                            "<table>",
                            "<tr><th>Maint_ID</th><th>Occurence_datetime</th><th>Vendor_ID</th><th>Attraction_ID</th><th>Priority</th><th>Maint_Start</th><th>Maint_Completion</th><th>Billed_Hours</th><th>Invoice_amount</th><th>Scanned_invoice</th></tr>",
                            "<tr><td>1</td><td>2022-11-02 18:22:44.457</td><td>NULL</td><td>NULL</td><td>ASAP</td><td>2022-11-02 18:22:44.457</td><td>2022-11-02 18:22:44.457</td><td>1</td><td>1130.50</td><td>NULL</td></tr>",
                            "<tr><td>2</td><td>2022-11-02 18:22:50.080</td><td>NULL</td><td>NULL</td><td>ASAP</td><td>2022-11-02 18:22:50.080</td><td>2022-11-02 18:22:50.080</td><td>1</td><td>1130.50</td><td>NULL</td></tr>",
                            "<tr><td>3</td><td>2022-11-02 18:25:32.470</td><td>NULL</td><td>NULL</td><td>ASAP</td><td>2022-11-02 18:25:32.470</td><td>2022-11-02 18:26:53.157</td><td>NULL</td><td>NULL</td><td>NULL</td></tr>",
                            "<tr><td>4</td><td>2022-11-02 18:25:33.410</td><td>NULL</td><td>NULL</td><td>ASAP</td><td>2022-11-02 18:25:33.410</td><td>NULL</td><td>NULL</td><td>NULL</td><td>NULL</td></tr>",
                            "<tr><td>5</td><td>2022-11-02 18:25:34.140</td><td>NULL</td><td>NULL</td><td>ASAP</td><td>2022-11-02 18:25:34.140</td><td>NULL</td><td>NULL</td><td>NULL</td><td>NULL</td></tr>",
                            "<tr><td>6</td><td>2022-11-02 23:20:44.100</td><td>NULL</td><td>NULL</td><td>Urgent</td><td>2022-11-02 23:20:44.100</td><td>NULL</td><td>NULL</td><td>NULL</td><td>NULL</td></tr>",
                            "<tr><td>7</td><td>2022-11-02 23:23:34.757</td><td>NULL</td><td>NULL</td><td>Urgent</td><td>2022-11-02 23:23:34.757</td><td>NULL</td><td>NULL</td><td>NULL</td><td>NULL</td></tr>",
                            "</table>"
                        ]
                    }
                },
                {
                    "output_type": "execute_result",
                    "metadata": {},
                    "execution_count": 26,
                    "data": {
                        "application/vnd.dataresource+json": {
                            "schema": {
                                "fields": [
                                    {
                                        "name": "attraction_id"
                                    },
                                    {
                                        "name": "name"
                                    },
                                    {
                                        "name": "dept_id"
                                    }
                                ]
                            },
                            "data": [
                                {
                                    "0": "1",
                                    "1": "Spinny Spin",
                                    "2": "6"
                                }
                            ]
                        },
                        "text/html": [
                            "<table>",
                            "<tr><th>attraction_id</th><th>name</th><th>dept_id</th></tr>",
                            "<tr><td>1</td><td>Spinny Spin</td><td>6</td></tr>",
                            "</table>"
                        ]
                    }
                },
                {
                    "output_type": "execute_result",
                    "metadata": {},
                    "execution_count": 26,
                    "data": {
                        "application/vnd.dataresource+json": {
                            "schema": {
                                "fields": [
                                    {
                                        "name": "name"
                                    },
                                    {
                                        "name": "vendor_point_of_contact_name"
                                    },
                                    {
                                        "name": "business_phone"
                                    },
                                    {
                                        "name": "business_address"
                                    },
                                    {
                                        "name": "service_type"
                                    },
                                    {
                                        "name": "contract_start_date"
                                    },
                                    {
                                        "name": "scanned_contract"
                                    },
                                    {
                                        "name": "vendor_id"
                                    }
                                ]
                            },
                            "data": [
                                {
                                    "0": "Bills Sandwiches",
                                    "1": "Jim Bob",
                                    "2": "5125125125",
                                    "3": "123 Sandwich Park, Houston TX 77004",
                                    "4": "Food",
                                    "5": "2022-09-12",
                                    "6": "NULL",
                                    "7": "2"
                                }
                            ]
                        },
                        "text/html": [
                            "<table>",
                            "<tr><th>name</th><th>vendor_point_of_contact_name</th><th>business_phone</th><th>business_address</th><th>service_type</th><th>contract_start_date</th><th>scanned_contract</th><th>vendor_id</th></tr>",
                            "<tr><td>Bills Sandwiches</td><td>Jim Bob</td><td>5125125125</td><td>123 Sandwich Park, Houston TX 77004</td><td>Food</td><td>2022-09-12</td><td>NULL</td><td>2</td></tr>",
                            "</table>"
                        ]
                    }
                },
                {
                    "output_type": "execute_result",
                    "metadata": {},
                    "execution_count": 26,
                    "data": {
                        "application/vnd.dataresource+json": {
                            "schema": {
                                "fields": [
                                    {
                                        "name": "dept_id"
                                    },
                                    {
                                        "name": "dept_name"
                                    },
                                    {
                                        "name": "supervisor_ssn"
                                    }
                                ]
                            },
                            "data": [
                                {
                                    "0": "3",
                                    "1": "Admin",
                                    "2": "NULL"
                                },
                                {
                                    "0": "4",
                                    "1": "Research",
                                    "2": "NULL"
                                },
                                {
                                    "0": "5",
                                    "1": "Food Court",
                                    "2": "NULL"
                                },
                                {
                                    "0": "6",
                                    "1": "Thrills",
                                    "2": "NULL"
                                }
                            ]
                        },
                        "text/html": [
                            "<table>",
                            "<tr><th>dept_id</th><th>dept_name</th><th>supervisor_ssn</th></tr>",
                            "<tr><td>3</td><td>Admin</td><td>NULL</td></tr>",
                            "<tr><td>4</td><td>Research</td><td>NULL</td></tr>",
                            "<tr><td>5</td><td>Food Court</td><td>NULL</td></tr>",
                            "<tr><td>6</td><td>Thrills</td><td>NULL</td></tr>",
                            "</table>"
                        ]
                    }
                }
            ],
            "execution_count": 26
        }
    ]
}