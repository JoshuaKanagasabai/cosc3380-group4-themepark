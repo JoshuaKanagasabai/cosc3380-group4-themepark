{
    "metadata": {
        "kernelspec": {
            "name": "SQL",
            "display_name": "SQL",
            "language": "sql"
        },
        "language_info": {
            "name": "sql",
            "version": ""
        }
    },
    "nbformat_minor": 2,
    "nbformat": 4,
    "cells": [
        {
            "cell_type": "code",
            "source": [
                "delete from [Theme_Park].[Maintenance_Calendar]\n",
                "go\n",
                "drop table [Theme_Park].[Maintenance_Notification]\n",
                "go\n",
                "create table [Theme_Park].[Maintenance_Notification]\n",
                "(\n",
                "    notification_id int identity(1,1),\n",
                "    maintenance_id int not null,\n",
                "    completion datetime not null,\n",
                "    billed_hours int,\n",
                "    amount smallmoney,\n",
                ")"
            ],
            "metadata": {
                "language": "sql",
                "azdata_cell_guid": "e349276c-932f-47f9-8b67-b1946442daa1"
            },
            "outputs": [
                {
                    "output_type": "error",
                    "evalue": "Msg 3701, Level 11, State 5, Line 1\nCannot drop the table 'Theme_Park.Maintenance_Notification', because it does not exist or you do not have permission.",
                    "ename": "",
                    "traceback": []
                },
                {
                    "output_type": "display_data",
                    "data": {
                        "text/html": "Commands completed successfully."
                    },
                    "metadata": {}
                },
                {
                    "output_type": "display_data",
                    "data": {
                        "text/html": "Total execution time: 00:00:00.121"
                    },
                    "metadata": {}
                }
            ],
            "execution_count": 1
        },
        {
            "cell_type": "code",
            "source": [
                "drop trigger [Theme_Park].[Trigger_Manager_Notification_On_Maintenance_Completion]\n",
                "go\n",
                "create trigger [Theme_Park].[Trigger_Manager_Notification_On_Maintenance_Completion]\n",
                "on [Theme_Park].[Maintenance_Calendar]\n",
                "after insert,update\n",
                "as\n",
                "BEGIN\n",
                "    set nocount on\n",
                "    declare \n",
                "        @id int,\n",
                "        @Completion_Date datetime,\n",
                "        @Hours int,\n",
                "        @Amount smallmoney\n",
                "    declare cur cursor read_only for \n",
                "        select Maint_ID, Maint_Completion, Billed_Hours, Invoice_amount from inserted\n",
                "    open cur\n",
                "    fetch next from cur into @id, @Completion_Date, @Hours, @Amount\n",
                "    while @@fetch_status = 0\n",
                "    begin\n",
                "        if (@Completion_Date is not null)\n",
                "        begin\n",
                "            insert into [Theme_Park].[Maintenance_Notification]\n",
                "            values (@id, @Completion_Date, @Hours, @Amount)\n",
                "        end\n",
                "        fetch next from cur into @id, @Completion_Date, @Hours, @Amount\n",
                "    end\n",
                "    close cur\n",
                "    deallocate cur\n",
                "end\n",
                "    "
            ],
            "metadata": {
                "azdata_cell_guid": "9d4136cb-be9d-41b8-9124-eb817b8648c5",
                "language": "sql"
            },
            "outputs": [
                {
                    "output_type": "error",
                    "evalue": "Msg 3701, Level 11, State 5, Line 1\nCannot drop the trigger 'Theme_Park.Trigger_Manager_Notification_On_Maintenance_Completion', because it does not exist or you do not have permission.",
                    "ename": "",
                    "traceback": []
                },
                {
                    "output_type": "display_data",
                    "data": {
                        "text/html": "Commands completed successfully."
                    },
                    "metadata": {}
                },
                {
                    "output_type": "display_data",
                    "data": {
                        "text/html": "Total execution time: 00:00:00.101"
                    },
                    "metadata": {}
                }
            ],
            "execution_count": 2
        },
        {
            "cell_type": "code",
            "source": [
                "insert into [Theme_Park].[Maintenance_Calendar]\n",
                "(Occurence_datetime, Priority, Maint_Start, Maint_Completion, Billed_Hours, Invoice_amount)\n",
                "values\n",
                "(\n",
                "    GETDATE(), 'ASAP', GETDATE(), GETDATE(), 1, 1130.50 \n",
                ")"
            ],
            "metadata": {
                "azdata_cell_guid": "3d3ee4e0-6e1d-498a-99f5-9bc11be5a411",
                "language": "sql"
            },
            "outputs": [
                {
                    "output_type": "display_data",
                    "data": {
                        "text/html": "(1 row affected)"
                    },
                    "metadata": {}
                },
                {
                    "output_type": "display_data",
                    "data": {
                        "text/html": "Total execution time: 00:00:00.061"
                    },
                    "metadata": {}
                }
            ],
            "execution_count": 4
        },
        {
            "cell_type": "code",
            "source": [
                "insert into [Theme_Park].[Maintenance_Calendar]\n",
                "(Occurence_datetime, Priority, Maint_Start)\n",
                "values\n",
                "(\n",
                "    GETDATE(), 'ASAP', GETDATE()\n",
                ")"
            ],
            "metadata": {
                "language": "sql",
                "azdata_cell_guid": "1ae8ff81-2ed5-4000-a2d3-4599f210327c",
                "tags": []
            },
            "outputs": [
                {
                    "output_type": "display_data",
                    "data": {
                        "text/html": "(1 row affected)"
                    },
                    "metadata": {}
                },
                {
                    "output_type": "display_data",
                    "data": {
                        "text/html": "Total execution time: 00:00:00.053"
                    },
                    "metadata": {}
                }
            ],
            "execution_count": 8
        },
        {
            "cell_type": "code",
            "source": [
                "update [Theme_Park].[Maintenance_Calendar]\n",
                "set Maint_Completion = GETDATE()\n",
                "where Maint_ID = 3\n",
                "go"
            ],
            "metadata": {
                "language": "sql",
                "azdata_cell_guid": "b1bea9ed-1378-4560-b410-8f270100f7a2"
            },
            "outputs": [
                {
                    "output_type": "display_data",
                    "data": {
                        "text/html": "(1 row affected)"
                    },
                    "metadata": {}
                },
                {
                    "output_type": "display_data",
                    "data": {
                        "text/html": "Total execution time: 00:00:00.058"
                    },
                    "metadata": {}
                }
            ],
            "execution_count": 12
        },
        {
            "cell_type": "code",
            "source": [
                "select * from [Theme_Park].[Maintenance_Notification]"
            ],
            "metadata": {
                "language": "sql",
                "azdata_cell_guid": "b899c83c-bda4-41a3-9b34-980b5095fbdb"
            },
            "outputs": [
                {
                    "output_type": "display_data",
                    "data": {
                        "text/html": "(4 rows affected)"
                    },
                    "metadata": {}
                },
                {
                    "output_type": "display_data",
                    "data": {
                        "text/html": "Total execution time: 00:00:00.085"
                    },
                    "metadata": {}
                },
                {
                    "output_type": "execute_result",
                    "metadata": {},
                    "execution_count": 13,
                    "data": {
                        "application/vnd.dataresource+json": {
                            "schema": {
                                "fields": [
                                    {
                                        "name": "notification_id"
                                    },
                                    {
                                        "name": "maintenance_id"
                                    },
                                    {
                                        "name": "completion"
                                    },
                                    {
                                        "name": "billed_hours"
                                    },
                                    {
                                        "name": "amount"
                                    }
                                ]
                            },
                            "data": [
                                {
                                    "0": "1",
                                    "1": "1",
                                    "2": "2022-11-02 18:22:44.457",
                                    "3": "1",
                                    "4": "1130.50"
                                },
                                {
                                    "0": "2",
                                    "1": "2",
                                    "2": "2022-11-02 18:22:50.080",
                                    "3": "1",
                                    "4": "1130.50"
                                },
                                {
                                    "0": "3",
                                    "1": "3",
                                    "2": "2022-11-02 18:26:44.707",
                                    "3": "NULL",
                                    "4": "NULL"
                                },
                                {
                                    "0": "4",
                                    "1": "3",
                                    "2": "2022-11-02 18:26:53.157",
                                    "3": "NULL",
                                    "4": "NULL"
                                }
                            ]
                        },
                        "text/html": [
                            "<table>",
                            "<tr><th>notification_id</th><th>maintenance_id</th><th>completion</th><th>billed_hours</th><th>amount</th></tr>",
                            "<tr><td>1</td><td>1</td><td>2022-11-02 18:22:44.457</td><td>1</td><td>1130.50</td></tr>",
                            "<tr><td>2</td><td>2</td><td>2022-11-02 18:22:50.080</td><td>1</td><td>1130.50</td></tr>",
                            "<tr><td>3</td><td>3</td><td>2022-11-02 18:26:44.707</td><td>NULL</td><td>NULL</td></tr>",
                            "<tr><td>4</td><td>3</td><td>2022-11-02 18:26:53.157</td><td>NULL</td><td>NULL</td></tr>",
                            "</table>"
                        ]
                    }
                }
            ],
            "execution_count": 13
        }
    ]
}